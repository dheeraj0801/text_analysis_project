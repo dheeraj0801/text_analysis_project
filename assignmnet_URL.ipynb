{
 "cells": [
  {
   "cell_type": "markdown",
   "id": "5e6ae240",
   "metadata": {},
   "source": [
    "# Objective\n",
    "- The objective of this assignment is to extract textual data articles from the given URL and perform text analysis to compute variables that are explained below."
   ]
  },
  {
   "cell_type": "code",
   "execution_count": 1,
   "id": "8c1bb1a9",
   "metadata": {},
   "outputs": [],
   "source": [
    "## import libaries\n",
    "import pandas as pd\n",
    "import requests\n",
    "from bs4 import BeautifulSoup"
   ]
  },
  {
   "cell_type": "code",
   "execution_count": 2,
   "id": "ffec6c0c",
   "metadata": {},
   "outputs": [],
   "source": [
    "input=pd.read_excel('input.xlsx')          # import datasets"
   ]
  },
  {
   "cell_type": "code",
   "execution_count": 3,
   "id": "f4a905db",
   "metadata": {},
   "outputs": [
    {
     "data": {
      "text/html": [
       "<div>\n",
       "<style scoped>\n",
       "    .dataframe tbody tr th:only-of-type {\n",
       "        vertical-align: middle;\n",
       "    }\n",
       "\n",
       "    .dataframe tbody tr th {\n",
       "        vertical-align: top;\n",
       "    }\n",
       "\n",
       "    .dataframe thead th {\n",
       "        text-align: right;\n",
       "    }\n",
       "</style>\n",
       "<table border=\"1\" class=\"dataframe\">\n",
       "  <thead>\n",
       "    <tr style=\"text-align: right;\">\n",
       "      <th></th>\n",
       "      <th>URL_ID</th>\n",
       "      <th>URL</th>\n",
       "    </tr>\n",
       "  </thead>\n",
       "  <tbody>\n",
       "    <tr>\n",
       "      <th>0</th>\n",
       "      <td>blackassign0001</td>\n",
       "      <td>https://insights.blackcoffer.com/rising-it-cit...</td>\n",
       "    </tr>\n",
       "    <tr>\n",
       "      <th>1</th>\n",
       "      <td>blackassign0002</td>\n",
       "      <td>https://insights.blackcoffer.com/rising-it-cit...</td>\n",
       "    </tr>\n",
       "    <tr>\n",
       "      <th>2</th>\n",
       "      <td>blackassign0003</td>\n",
       "      <td>https://insights.blackcoffer.com/internet-dema...</td>\n",
       "    </tr>\n",
       "    <tr>\n",
       "      <th>3</th>\n",
       "      <td>blackassign0004</td>\n",
       "      <td>https://insights.blackcoffer.com/rise-of-cyber...</td>\n",
       "    </tr>\n",
       "    <tr>\n",
       "      <th>4</th>\n",
       "      <td>blackassign0005</td>\n",
       "      <td>https://insights.blackcoffer.com/ott-platform-...</td>\n",
       "    </tr>\n",
       "  </tbody>\n",
       "</table>\n",
       "</div>"
      ],
      "text/plain": [
       "            URL_ID                                                URL\n",
       "0  blackassign0001  https://insights.blackcoffer.com/rising-it-cit...\n",
       "1  blackassign0002  https://insights.blackcoffer.com/rising-it-cit...\n",
       "2  blackassign0003  https://insights.blackcoffer.com/internet-dema...\n",
       "3  blackassign0004  https://insights.blackcoffer.com/rise-of-cyber...\n",
       "4  blackassign0005  https://insights.blackcoffer.com/ott-platform-..."
      ]
     },
     "execution_count": 3,
     "metadata": {},
     "output_type": "execute_result"
    }
   ],
   "source": [
    "input.head()                              # first 5 data records"
   ]
  },
  {
   "cell_type": "code",
   "execution_count": 4,
   "id": "ef360a14",
   "metadata": {},
   "outputs": [
    {
     "data": {
      "text/plain": [
       "(100, 2)"
      ]
     },
     "execution_count": 4,
     "metadata": {},
     "output_type": "execute_result"
    }
   ],
   "source": [
    "input.shape        # dataset  shape"
   ]
  },
  {
   "cell_type": "code",
   "execution_count": 5,
   "id": "701972ad",
   "metadata": {},
   "outputs": [
    {
     "data": {
      "text/plain": [
       "'blackassign0002'"
      ]
     },
     "execution_count": 5,
     "metadata": {},
     "output_type": "execute_result"
    }
   ],
   "source": [
    "input.URL_ID[1]    # 1st URL_ID"
   ]
  },
  {
   "cell_type": "code",
   "execution_count": 6,
   "id": "675f8584",
   "metadata": {},
   "outputs": [
    {
     "data": {
      "text/plain": [
       "'https://insights.blackcoffer.com/rising-it-cities-and-their-impact-on-the-economy-environment-infrastructure-and-city-life-in-future/'"
      ]
     },
     "execution_count": 6,
     "metadata": {},
     "output_type": "execute_result"
    }
   ],
   "source": [
    "input.URL[1]      # 1st URL"
   ]
  },
  {
   "cell_type": "markdown",
   "id": "9caef724",
   "metadata": {},
   "source": [
    "###  Function to extract article title and text from the given URL"
   ]
  },
  {
   "cell_type": "code",
   "execution_count": 7,
   "id": "bf9489e4",
   "metadata": {},
   "outputs": [],
   "source": [
    "def extract_article(url):\n",
    "    try:\n",
    "        # Send an HTTP request to the URL\n",
    "        response = requests.get(url)\n",
    "        \n",
    "        # Check if the request was successful\n",
    "        if response.status_code != 200:\n",
    "            print(f\"Failed to retrieve the webpage. Status code: {response.status_code}\")\n",
    "            return \"No title found\", \"No article content found\"\n",
    "        \n",
    "        # Parse the HTML content of the webpage\n",
    "        soup = BeautifulSoup(response.content, 'html.parser')\n",
    "        \n",
    "        # Extract the title\n",
    "        title_tag = soup.find('h1', class_='entry-title')\n",
    "        title = title_tag.get_text().strip() if title_tag else 'No title found'\n",
    "        \n",
    "        # Extract the article content\n",
    "        article_tag = soup.find('div', class_='td-post-content')\n",
    "        if article_tag:\n",
    "            paragraphs = article_tag.find_all('p')\n",
    "            article_text = \" \".join([p.get_text().strip() for p in paragraphs])\n",
    "        else:\n",
    "            article_text = 'No article content found'\n",
    "        \n",
    "        return title, article_text\n",
    "    \n",
    "    except requests.RequestException as e:\n",
    "        print(f\"An error occurred while trying to fetch the webpage: {e}\")\n",
    "        return \"No title found\", \"No article content found\"\n"
   ]
  },
  {
   "cell_type": "code",
   "execution_count": 8,
   "id": "635476ac",
   "metadata": {},
   "outputs": [
    {
     "data": {
      "text/plain": [
       "'Rising IT cities and its impact on the economy, environment, infrastructure, and city life by the year 2040.'"
      ]
     },
     "execution_count": 8,
     "metadata": {},
     "output_type": "execute_result"
    }
   ],
   "source": [
    "# URL to extract data \n",
    "url = 'https://insights.blackcoffer.com/rising-it-cities-and-its-impact-on-the-economy-environment-infrastructure-and-city-life-by-the-year-2040-2/'\n",
    "title=extract_article(url)[0]\n",
    "title"
   ]
  },
  {
   "cell_type": "code",
   "execution_count": 9,
   "id": "74dc6a63",
   "metadata": {},
   "outputs": [
    {
     "data": {
      "text/plain": [
       "'We have seen a huge development and dependence of people on technology in recent years. We have also seen the development of AI and ChatGPT in recent years. So it is a normal thing that we will become fully dependent on technology by 2040. Information technology will be a major power for all the developing nations. As a member of a developing nation, India is rapidly growing its IT base. It has also grown some IT cities which will be the major control centres for Information technology by 2040. Rising IT cities Kolkata:- Kolkata in West Bengal is an emerging major IT hub. The new Kolkata i.e. Saltlake Sector\\xa0 5, New town, Rajarhat area of Kolkata is a major IT hub. The government is giving the software companies land at almost free of cost to set up the companies there. Many large companies like Google, Microsoft, IBM, Infosys and others have set up their companies here. Kolkata has a market base of billions of dollars and is doing a great job of boosting the national economy. Impact on Economy There is a huge impact of the rising IT cities on our economy. Some of the effects are- Impact on Environment The rising IT cities will create a huge impact on the environment, the maximum of which will be harmful effects. The impact of rising IT cities on the environment is- Impact on infrastructure There are many contributions of the IT cities on infrastructure.\\xa0 They are- Impact on city life With the growth of IT cities, more people will get jobs and will earn more. So the purchasing power of the people will increase. People will lead a better lifestyle. They will buy things of good brand value. The tastes and preferences of people will also change. The human development index is going to increase. People will buy good quality food and good quality cars. So the food, automobile and many other industries are going to increase. So there will be a huge impact on city life by 2040.'"
      ]
     },
     "execution_count": 9,
     "metadata": {},
     "output_type": "execute_result"
    }
   ],
   "source": [
    "text=extract_article(url)[1]\n",
    "text"
   ]
  },
  {
   "cell_type": "markdown",
   "id": "efcd20d2",
   "metadata": {},
   "source": [
    "#### Add new columns in dataframe i.e. Title and Text "
   ]
  },
  {
   "cell_type": "code",
   "execution_count": 10,
   "id": "493ff56e",
   "metadata": {},
   "outputs": [
    {
     "name": "stdout",
     "output_type": "stream",
     "text": [
      "Failed to retrieve the webpage. Status code: 404\n",
      "Failed to retrieve the webpage. Status code: 404\n"
     ]
    }
   ],
   "source": [
    "input['Title'], input['Text'] = zip(*input['URL'].apply(lambda x: extract_article(x)))  \n",
    "# it takes time to run."
   ]
  },
  {
   "cell_type": "markdown",
   "id": "d4f9e539",
   "metadata": {},
   "source": [
    "#### Save dataframe into excel file as df name"
   ]
  },
  {
   "cell_type": "code",
   "execution_count": 11,
   "id": "f21d6255",
   "metadata": {},
   "outputs": [],
   "source": [
    "input.to_excel('df.xlsx', index=False, sheet_name='Sheet1') # because we doesn't run above code "
   ]
  },
  {
   "cell_type": "markdown",
   "id": "437edb54",
   "metadata": {},
   "source": [
    "#### import excel file "
   ]
  },
  {
   "cell_type": "code",
   "execution_count": 12,
   "id": "30fd62df",
   "metadata": {},
   "outputs": [],
   "source": [
    "df=pd.read_excel('df.xlsx')"
   ]
  },
  {
   "cell_type": "code",
   "execution_count": 13,
   "id": "a96bbb97",
   "metadata": {},
   "outputs": [
    {
     "data": {
      "text/plain": [
       "URL_ID    object\n",
       "URL       object\n",
       "Title     object\n",
       "Text      object\n",
       "dtype: object"
      ]
     },
     "execution_count": 13,
     "metadata": {},
     "output_type": "execute_result"
    }
   ],
   "source": [
    "df.dtypes   # Data types"
   ]
  },
  {
   "cell_type": "code",
   "execution_count": 14,
   "id": "e541870d",
   "metadata": {
    "scrolled": true
   },
   "outputs": [
    {
     "data": {
      "text/html": [
       "<div>\n",
       "<style scoped>\n",
       "    .dataframe tbody tr th:only-of-type {\n",
       "        vertical-align: middle;\n",
       "    }\n",
       "\n",
       "    .dataframe tbody tr th {\n",
       "        vertical-align: top;\n",
       "    }\n",
       "\n",
       "    .dataframe thead th {\n",
       "        text-align: right;\n",
       "    }\n",
       "</style>\n",
       "<table border=\"1\" class=\"dataframe\">\n",
       "  <thead>\n",
       "    <tr style=\"text-align: right;\">\n",
       "      <th></th>\n",
       "      <th>URL_ID</th>\n",
       "      <th>URL</th>\n",
       "      <th>Title</th>\n",
       "      <th>Text</th>\n",
       "    </tr>\n",
       "  </thead>\n",
       "  <tbody>\n",
       "    <tr>\n",
       "      <th>0</th>\n",
       "      <td>blackassign0001</td>\n",
       "      <td>https://insights.blackcoffer.com/rising-it-cit...</td>\n",
       "      <td>Rising IT cities and its impact on the economy...</td>\n",
       "      <td>We have seen a huge development and dependence...</td>\n",
       "    </tr>\n",
       "    <tr>\n",
       "      <th>1</th>\n",
       "      <td>blackassign0002</td>\n",
       "      <td>https://insights.blackcoffer.com/rising-it-cit...</td>\n",
       "      <td>Rising IT Cities and Their Impact on the Econo...</td>\n",
       "      <td>Throughout history, from the industrial revolu...</td>\n",
       "    </tr>\n",
       "    <tr>\n",
       "      <th>2</th>\n",
       "      <td>blackassign0003</td>\n",
       "      <td>https://insights.blackcoffer.com/internet-dema...</td>\n",
       "      <td>Internet Demand’s Evolution, Communication Imp...</td>\n",
       "      <td>Introduction In the span of just a few decades...</td>\n",
       "    </tr>\n",
       "    <tr>\n",
       "      <th>3</th>\n",
       "      <td>blackassign0004</td>\n",
       "      <td>https://insights.blackcoffer.com/rise-of-cyber...</td>\n",
       "      <td>Rise of Cybercrime and its Effect in upcoming ...</td>\n",
       "      <td>The way we live, work, and communicate has unq...</td>\n",
       "    </tr>\n",
       "    <tr>\n",
       "      <th>4</th>\n",
       "      <td>blackassign0005</td>\n",
       "      <td>https://insights.blackcoffer.com/ott-platform-...</td>\n",
       "      <td>OTT platform and its impact on the entertainme...</td>\n",
       "      <td>The year 2040 is poised to witness a continued...</td>\n",
       "    </tr>\n",
       "  </tbody>\n",
       "</table>\n",
       "</div>"
      ],
      "text/plain": [
       "            URL_ID                                                URL  \\\n",
       "0  blackassign0001  https://insights.blackcoffer.com/rising-it-cit...   \n",
       "1  blackassign0002  https://insights.blackcoffer.com/rising-it-cit...   \n",
       "2  blackassign0003  https://insights.blackcoffer.com/internet-dema...   \n",
       "3  blackassign0004  https://insights.blackcoffer.com/rise-of-cyber...   \n",
       "4  blackassign0005  https://insights.blackcoffer.com/ott-platform-...   \n",
       "\n",
       "                                               Title  \\\n",
       "0  Rising IT cities and its impact on the economy...   \n",
       "1  Rising IT Cities and Their Impact on the Econo...   \n",
       "2  Internet Demand’s Evolution, Communication Imp...   \n",
       "3  Rise of Cybercrime and its Effect in upcoming ...   \n",
       "4  OTT platform and its impact on the entertainme...   \n",
       "\n",
       "                                                Text  \n",
       "0  We have seen a huge development and dependence...  \n",
       "1  Throughout history, from the industrial revolu...  \n",
       "2  Introduction In the span of just a few decades...  \n",
       "3  The way we live, work, and communicate has unq...  \n",
       "4  The year 2040 is poised to witness a continued...  "
      ]
     },
     "execution_count": 14,
     "metadata": {},
     "output_type": "execute_result"
    }
   ],
   "source": [
    "df.head()"
   ]
  },
  {
   "cell_type": "markdown",
   "id": "41b182b5",
   "metadata": {},
   "source": [
    "#### To check where title and text are not found"
   ]
  },
  {
   "cell_type": "code",
   "execution_count": 15,
   "id": "018ea529",
   "metadata": {},
   "outputs": [
    {
     "data": {
      "text/html": [
       "<div>\n",
       "<style scoped>\n",
       "    .dataframe tbody tr th:only-of-type {\n",
       "        vertical-align: middle;\n",
       "    }\n",
       "\n",
       "    .dataframe tbody tr th {\n",
       "        vertical-align: top;\n",
       "    }\n",
       "\n",
       "    .dataframe thead th {\n",
       "        text-align: right;\n",
       "    }\n",
       "</style>\n",
       "<table border=\"1\" class=\"dataframe\">\n",
       "  <thead>\n",
       "    <tr style=\"text-align: right;\">\n",
       "      <th></th>\n",
       "      <th>URL_ID</th>\n",
       "      <th>URL</th>\n",
       "      <th>Title</th>\n",
       "      <th>Text</th>\n",
       "    </tr>\n",
       "  </thead>\n",
       "  <tbody>\n",
       "    <tr>\n",
       "      <th>35</th>\n",
       "      <td>blackassign0036</td>\n",
       "      <td>https://insights.blackcoffer.com/how-neural-ne...</td>\n",
       "      <td>No title found</td>\n",
       "      <td>No article content found</td>\n",
       "    </tr>\n",
       "    <tr>\n",
       "      <th>48</th>\n",
       "      <td>blackassign0049</td>\n",
       "      <td>https://insights.blackcoffer.com/covid-19-envi...</td>\n",
       "      <td>No title found</td>\n",
       "      <td>No article content found</td>\n",
       "    </tr>\n",
       "  </tbody>\n",
       "</table>\n",
       "</div>"
      ],
      "text/plain": [
       "             URL_ID                                                URL  \\\n",
       "35  blackassign0036  https://insights.blackcoffer.com/how-neural-ne...   \n",
       "48  blackassign0049  https://insights.blackcoffer.com/covid-19-envi...   \n",
       "\n",
       "             Title                      Text  \n",
       "35  No title found  No article content found  \n",
       "48  No title found  No article content found  "
      ]
     },
     "execution_count": 15,
     "metadata": {},
     "output_type": "execute_result"
    }
   ],
   "source": [
    "df[df['Text']=='No article content found']"
   ]
  },
  {
   "cell_type": "code",
   "execution_count": 16,
   "id": "3bc4a22f",
   "metadata": {},
   "outputs": [
    {
     "data": {
      "text/plain": [
       "'The human race is known to come up with inventions that decide its future. Many scholars believe tha'"
      ]
     },
     "execution_count": 16,
     "metadata": {},
     "output_type": "execute_result"
    }
   ],
   "source": [
    "text=df['Text'][16]\n",
    "text[:100]"
   ]
  },
  {
   "cell_type": "code",
   "execution_count": 17,
   "id": "356330f9",
   "metadata": {},
   "outputs": [
    {
     "data": {
      "text/plain": [
       "'Rise of Chatbots and its impact on customer support by the year 2040'"
      ]
     },
     "execution_count": 17,
     "metadata": {},
     "output_type": "execute_result"
    }
   ],
   "source": [
    "title=df['Title'][16]\n",
    "title"
   ]
  },
  {
   "cell_type": "code",
   "execution_count": 18,
   "id": "750a288b",
   "metadata": {},
   "outputs": [],
   "source": [
    "# function of combining title and text\n",
    "def combine(title,text):\n",
    "    out=title + \" \" +text\n",
    "    return out"
   ]
  },
  {
   "cell_type": "code",
   "execution_count": 19,
   "id": "7caed230",
   "metadata": {},
   "outputs": [
    {
     "data": {
      "text/plain": [
       "'The human race is known to come up with inventions that decide its future. Many scholars believe tha'"
      ]
     },
     "execution_count": 19,
     "metadata": {},
     "output_type": "execute_result"
    }
   ],
   "source": [
    "x=combine(text,title)\n",
    "x[:100]"
   ]
  },
  {
   "cell_type": "markdown",
   "id": "71dfb009",
   "metadata": {},
   "source": [
    "#### define a function to create new column combine_title_text by combining title and text"
   ]
  },
  {
   "cell_type": "code",
   "execution_count": 20,
   "id": "a361140a",
   "metadata": {},
   "outputs": [],
   "source": [
    "def title_text(df):\n",
    "    df['combine_title_text'] = df.apply(lambda x: combine(x['Title'], x['Text']), axis=1)\n",
    "    return df"
   ]
  },
  {
   "cell_type": "code",
   "execution_count": 21,
   "id": "fb919786",
   "metadata": {},
   "outputs": [],
   "source": [
    "df=title_text(df)"
   ]
  },
  {
   "cell_type": "code",
   "execution_count": 22,
   "id": "b54f967e",
   "metadata": {},
   "outputs": [
    {
     "data": {
      "text/html": [
       "<div>\n",
       "<style scoped>\n",
       "    .dataframe tbody tr th:only-of-type {\n",
       "        vertical-align: middle;\n",
       "    }\n",
       "\n",
       "    .dataframe tbody tr th {\n",
       "        vertical-align: top;\n",
       "    }\n",
       "\n",
       "    .dataframe thead th {\n",
       "        text-align: right;\n",
       "    }\n",
       "</style>\n",
       "<table border=\"1\" class=\"dataframe\">\n",
       "  <thead>\n",
       "    <tr style=\"text-align: right;\">\n",
       "      <th></th>\n",
       "      <th>URL_ID</th>\n",
       "      <th>URL</th>\n",
       "      <th>Title</th>\n",
       "      <th>Text</th>\n",
       "      <th>combine_title_text</th>\n",
       "    </tr>\n",
       "  </thead>\n",
       "  <tbody>\n",
       "    <tr>\n",
       "      <th>0</th>\n",
       "      <td>blackassign0001</td>\n",
       "      <td>https://insights.blackcoffer.com/rising-it-cit...</td>\n",
       "      <td>Rising IT cities and its impact on the economy...</td>\n",
       "      <td>We have seen a huge development and dependence...</td>\n",
       "      <td>Rising IT cities and its impact on the economy...</td>\n",
       "    </tr>\n",
       "    <tr>\n",
       "      <th>1</th>\n",
       "      <td>blackassign0002</td>\n",
       "      <td>https://insights.blackcoffer.com/rising-it-cit...</td>\n",
       "      <td>Rising IT Cities and Their Impact on the Econo...</td>\n",
       "      <td>Throughout history, from the industrial revolu...</td>\n",
       "      <td>Rising IT Cities and Their Impact on the Econo...</td>\n",
       "    </tr>\n",
       "    <tr>\n",
       "      <th>2</th>\n",
       "      <td>blackassign0003</td>\n",
       "      <td>https://insights.blackcoffer.com/internet-dema...</td>\n",
       "      <td>Internet Demand’s Evolution, Communication Imp...</td>\n",
       "      <td>Introduction In the span of just a few decades...</td>\n",
       "      <td>Internet Demand’s Evolution, Communication Imp...</td>\n",
       "    </tr>\n",
       "    <tr>\n",
       "      <th>3</th>\n",
       "      <td>blackassign0004</td>\n",
       "      <td>https://insights.blackcoffer.com/rise-of-cyber...</td>\n",
       "      <td>Rise of Cybercrime and its Effect in upcoming ...</td>\n",
       "      <td>The way we live, work, and communicate has unq...</td>\n",
       "      <td>Rise of Cybercrime and its Effect in upcoming ...</td>\n",
       "    </tr>\n",
       "    <tr>\n",
       "      <th>4</th>\n",
       "      <td>blackassign0005</td>\n",
       "      <td>https://insights.blackcoffer.com/ott-platform-...</td>\n",
       "      <td>OTT platform and its impact on the entertainme...</td>\n",
       "      <td>The year 2040 is poised to witness a continued...</td>\n",
       "      <td>OTT platform and its impact on the entertainme...</td>\n",
       "    </tr>\n",
       "  </tbody>\n",
       "</table>\n",
       "</div>"
      ],
      "text/plain": [
       "            URL_ID                                                URL  \\\n",
       "0  blackassign0001  https://insights.blackcoffer.com/rising-it-cit...   \n",
       "1  blackassign0002  https://insights.blackcoffer.com/rising-it-cit...   \n",
       "2  blackassign0003  https://insights.blackcoffer.com/internet-dema...   \n",
       "3  blackassign0004  https://insights.blackcoffer.com/rise-of-cyber...   \n",
       "4  blackassign0005  https://insights.blackcoffer.com/ott-platform-...   \n",
       "\n",
       "                                               Title  \\\n",
       "0  Rising IT cities and its impact on the economy...   \n",
       "1  Rising IT Cities and Their Impact on the Econo...   \n",
       "2  Internet Demand’s Evolution, Communication Imp...   \n",
       "3  Rise of Cybercrime and its Effect in upcoming ...   \n",
       "4  OTT platform and its impact on the entertainme...   \n",
       "\n",
       "                                                Text  \\\n",
       "0  We have seen a huge development and dependence...   \n",
       "1  Throughout history, from the industrial revolu...   \n",
       "2  Introduction In the span of just a few decades...   \n",
       "3  The way we live, work, and communicate has unq...   \n",
       "4  The year 2040 is poised to witness a continued...   \n",
       "\n",
       "                                  combine_title_text  \n",
       "0  Rising IT cities and its impact on the economy...  \n",
       "1  Rising IT Cities and Their Impact on the Econo...  \n",
       "2  Internet Demand’s Evolution, Communication Imp...  \n",
       "3  Rise of Cybercrime and its Effect in upcoming ...  \n",
       "4  OTT platform and its impact on the entertainme...  "
      ]
     },
     "execution_count": 22,
     "metadata": {},
     "output_type": "execute_result"
    }
   ],
   "source": [
    "df.head()"
   ]
  },
  {
   "cell_type": "markdown",
   "id": "1a33dafc",
   "metadata": {},
   "source": [
    "### Stop wrods"
   ]
  },
  {
   "cell_type": "code",
   "execution_count": 23,
   "id": "563ed7e3",
   "metadata": {},
   "outputs": [],
   "source": [
    "# This function convert all text word into a list.\n",
    "def text_to_list(text):\n",
    "    list= text.split()\n",
    "    return list"
   ]
  },
  {
   "cell_type": "code",
   "execution_count": 24,
   "id": "d6942083",
   "metadata": {},
   "outputs": [],
   "source": [
    "# Open the file in read mode\n",
    "def find_text(path):\n",
    "    with open(path, 'r') as file:\n",
    "        content =file.read() \n",
    "    return content.replace('\\n', ' ')"
   ]
  },
  {
   "cell_type": "code",
   "execution_count": 25,
   "id": "fcf9598e",
   "metadata": {},
   "outputs": [
    {
     "data": {
      "text/plain": [
       "'ERNST YOUNG DELOITTE TOUCHE KPMG PRICEWATERHOUSECOOPERS PRICEWATERHOUSE COOPERS '"
      ]
     },
     "execution_count": 25,
     "metadata": {},
     "output_type": "execute_result"
    }
   ],
   "source": [
    "find_text(\"StopWords_Auditor.txt\")"
   ]
  },
  {
   "cell_type": "code",
   "execution_count": 26,
   "id": "06dcef5e",
   "metadata": {},
   "outputs": [],
   "source": [
    "def concate_string():\n",
    "    a=find_text(\"StopWords_Auditor.txt\")\n",
    "    b=find_text(\"StopWords_Currencies.txt\")\n",
    "    c=find_text(\"StopWords_DatesandNumbers.txt\")\n",
    "    d=find_text(\"StopWords_Generic.txt\")\n",
    "    e=find_text(\"StopWords_GenericLong.txt\")\n",
    "    f=find_text(\"StopWords_Geographic.txt\")\n",
    "    g=find_text(\"StopWords_Names.txt\")\n",
    "    \n",
    "    merge= a + \" \" + b  + \" \" + c  + \" \" + d + \" \" + e + \" \" + f + \" \" + g\n",
    "    return merge"
   ]
  },
  {
   "cell_type": "code",
   "execution_count": 27,
   "id": "cf51f988",
   "metadata": {},
   "outputs": [],
   "source": [
    "text1=concate_string()"
   ]
  },
  {
   "cell_type": "code",
   "execution_count": 28,
   "id": "8d4031b9",
   "metadata": {},
   "outputs": [
    {
     "data": {
      "text/plain": [
       "'ERNST YOUNG DELOITTE TOUCHE KPMG PRICEWATERHOUSECOOPERS PRICEWATERHOUSE COOPERS  AFGHANI  | Afghanis'"
      ]
     },
     "execution_count": 28,
     "metadata": {},
     "output_type": "execute_result"
    }
   ],
   "source": [
    "text1[:100]"
   ]
  },
  {
   "cell_type": "code",
   "execution_count": 29,
   "id": "ed2a344c",
   "metadata": {},
   "outputs": [
    {
     "data": {
      "text/plain": [
       "['ERNST',\n",
       " 'YOUNG',\n",
       " 'DELOITTE',\n",
       " 'TOUCHE',\n",
       " 'KPMG',\n",
       " 'PRICEWATERHOUSECOOPERS',\n",
       " 'PRICEWATERHOUSE',\n",
       " 'COOPERS',\n",
       " 'AFGHANI',\n",
       " '|']"
      ]
     },
     "execution_count": 29,
     "metadata": {},
     "output_type": "execute_result"
    }
   ],
   "source": [
    "stop_words=text_to_list(text1)\n",
    "stop_words[:10]"
   ]
  },
  {
   "cell_type": "code",
   "execution_count": 30,
   "id": "ffb78d9c",
   "metadata": {},
   "outputs": [
    {
     "data": {
      "text/plain": [
       "14336"
      ]
     },
     "execution_count": 30,
     "metadata": {},
     "output_type": "execute_result"
    }
   ],
   "source": [
    "len(stop_words)"
   ]
  },
  {
   "cell_type": "code",
   "execution_count": 31,
   "id": "504efbf4",
   "metadata": {},
   "outputs": [],
   "source": [
    "#remove duplicate\n",
    "stop_words= list(set(stop_words))"
   ]
  },
  {
   "cell_type": "code",
   "execution_count": 32,
   "id": "11e83327",
   "metadata": {},
   "outputs": [
    {
     "data": {
      "text/plain": [
       "13027"
      ]
     },
     "execution_count": 32,
     "metadata": {},
     "output_type": "execute_result"
    }
   ],
   "source": [
    "len(stop_words)"
   ]
  },
  {
   "cell_type": "markdown",
   "id": "006e1ef9",
   "metadata": {},
   "source": [
    "## Negative words"
   ]
  },
  {
   "cell_type": "code",
   "execution_count": 33,
   "id": "a6e317c9",
   "metadata": {},
   "outputs": [],
   "source": [
    "negative_text=find_text(\"negative-words.txt\")"
   ]
  },
  {
   "cell_type": "code",
   "execution_count": 34,
   "id": "8bc1e638",
   "metadata": {},
   "outputs": [],
   "source": [
    "negative_text=\"2-faced 2-faces abnormal abolish abominable abominably abominate abomination abort aborted aborts abrade abrasive abrupt abruptly abscond absence absent-minded absentee absurd absurdity absurdly absurdness abuse abused abuses abusive abysmal abysmally abyss accidental accost accursed accusation accusations accuse accuses accusing accusingly acerbate acerbic acerbically ache ached aches achey aching acrid acridly acridness acrimonious acrimoniously acrimony adamant adamantly addict addicted addicting addicts admonish admonisher admonishingly admonishment admonition adulterate adulterated adulteration adulterier adversarial adversary adverse adversity afflict affliction afflictive affront afraid aggravate aggravating aggravation aggression aggressive aggressiveness aggressor aggrieve aggrieved aggrivation aghast agonies agonize agonizing agonizingly agony aground ail ailing ailment aimless alarm alarmed alarming alarmingly alienate alienated alienation allegation allegations allege allergic allergies allergy aloof altercation ambiguity ambiguous ambivalence ambivalent ambush amiss amputate anarchism anarchist anarchistic anarchy anemic anger angrily angriness angry anguish animosity annihilate annihilation annoy annoyance annoyances annoyed annoying annoyingly annoys anomalous anomaly antagonism antagonist antagonistic antagonize anti- anti-american anti-israeli anti-occupation anti-proliferation anti-semites anti-social anti-us anti-white antipathy antiquated antithetical anxieties anxiety anxious anxiously anxiousness apathetic apathetically apathy apocalypse apocalyptic apologist apologists appal appall appalled appalling appallingly apprehension apprehensions apprehensive apprehensively arbitrary arcane archaic arduous arduously argumentative arrogance arrogant arrogantly ashamed asinine asininely asinininity askance asperse aspersion aspersions assail assassin assassinate assault assult astray asunder atrocious atrocities atrocity atrophy attack attacks audacious audaciously audaciousness audacity audiciously austere authoritarian autocrat autocratic avalanche avarice avaricious avariciously avenge averse aversion aweful awful awfully awfulness awkward awkwardness ax babble back-logged back-wood back-woods backache backaches backaching backbite backbiting backward backwardness backwood backwoods bad badly baffle baffled bafflement baffling bait balk banal banalize bane banish banishment bankrupt barbarian barbaric barbarically barbarity barbarous barbarously barren baseless bash bashed bashful bashing bastard bastards battered battering batty bearish beastly bedlam bedlamite befoul beg beggar beggarly begging beguile belabor belated beleaguer belie belittle belittled belittling bellicose belligerence belligerent belligerently bemoan bemoaning bemused bent berate bereave bereavement bereft berserk beseech beset besiege besmirch bestial betray betrayal betrayals betrayer betraying betrays bewail beware bewilder bewildered bewildering bewilderingly bewilderment bewitch bias biased biases bicker bickering bid-rigging bigotries bigotry bitch bitchy biting bitingly bitter bitterly bitterness bizarre blab blabber blackmail blah blame blameworthy bland blandish blaspheme blasphemous blasphemy blasted blatant blatantly blather bleak bleakly bleakness bleed bleeding bleeds blemish blind blinding blindingly blindside blister blistering bloated blockage blockhead bloodshed bloodthirsty bloody blotchy blow blunder blundering blunders blunt blur bluring blurred blurring blurry blurs blurt boastful boggle bogus boil boiling boisterous bomb bombard bombardment bombastic bondage bonkers bore bored boredom bores boring botch bother bothered bothering bothers bothersome bowdlerize boycott braggart bragger brainless brainwash brash brashly brashness brat bravado brazen brazenly brazenness breach break break-up break-ups breakdown breaking breaks breakup breakups bribery brimstone bristle brittle broke broken broken-hearted brood browbeat bruise bruised bruises bruising brusque brutal brutalising brutalities brutality brutalize brutalizing brutally brute brutish bs buckle bug bugging buggy bugs bulkier bulkiness bulky bulkyness bull**** bull---- bullies bullshit bullshyt bully bullying bullyingly bum bump bumped bumping bumpping bumps bumpy bungle bungler bungling bunk burden burdensome burdensomely burn burned burning burns bust busts busybody butcher butchery buzzing byzantine cackle calamities calamitous calamitously calamity callous calumniate calumniation calumnies calumnious calumniously calumny cancer cancerous cannibal cannibalize capitulate capricious capriciously capriciousness capsize careless carelessness caricature carnage carp cartoonish cash-strapped castigate castrated casualty cataclysm cataclysmal cataclysmic cataclysmically catastrophe catastrophes catastrophic catastrophically catastrophies caustic caustically cautionary cave censure chafe chaff chagrin challenging chaos chaotic chasten chastise chastisement chatter chatterbox cheap cheapen cheaply cheat cheated cheater cheating cheats checkered cheerless cheesy chide childish chill chilly chintzy choke choleric choppy chore chronic chunky clamor clamorous clash cliche cliched clique clog clogged clogs cloud clouding cloudy clueless clumsy clunky coarse cocky coerce coercion coercive cold coldly collapse collude collusion combative combust comical commiserate commonplace commotion commotions complacent complain complained complaining complains complaint complaints complex complicated complication complicit compulsion compulsive concede conceded conceit conceited concen concens concern concerned concerns concession concessions condemn condemnable condemnation condemned condemns condescend condescending condescendingly condescension confess confession confessions confined conflict conflicted conflicting conflicts confound confounded confounding confront confrontation confrontational confuse confused confuses confusing confusion confusions congested congestion cons conscons conservative conspicuous conspicuously conspiracies conspiracy conspirator conspiratorial conspire consternation contagious contaminate contaminated contaminates contaminating contamination contempt contemptible contemptuous contemptuously contend contention contentious contort contortions contradict contradiction contradictory contrariness contravene contrive contrived controversial controversy convoluted corrode corrosion corrosions corrosive corrupt corrupted corrupting corruption corrupts corruptted costlier costly counter-productive counterproductive coupists covetous coward cowardly crabby crack cracked cracks craftily craftly crafty cramp cramped cramping cranky crap crappy craps crash crashed crashes crashing crass craven cravenly craze crazily craziness crazy creak creaking creaks credulous creep creeping creeps creepy crept crime criminal cringe cringed cringes cripple crippled cripples crippling crisis critic critical criticism criticisms criticize criticized criticizing critics cronyism crook crooked crooks crowded crowdedness crude cruel crueler cruelest cruelly cruelness cruelties cruelty crumble crumbling crummy crumple crumpled crumples crush crushed crushing cry culpable culprit cumbersome cunt cunts cuplrit curse cursed curses curt cuss cussed cutthroat cynical cynicism dmn damage damaged damages damaging damn damnable damnably damnation damned damning damper danger dangerous dangerousness dark darken darkened darker darkness dastard dastardly daunt daunting dauntingly dawdle daze dazed dead deadbeat deadlock deadly deadweight deaf dearth death debacle debase debasement debaser debatable debauch debaucher debauchery debilitate debilitating debility debt debts decadence decadent decay decayed deceit deceitful deceitfully deceitfulness deceive deceiver deceivers deceiving deception deceptive deceptively declaim decline declines declining decrement decrepit decrepitude decry defamation defamations defamatory defame defect defective defects defensive defiance defiant defiantly deficiencies deficiency deficient defile defiler deform deformed defrauding defunct defy degenerate degenerately degeneration degradation degrade degrading degradingly dehumanization dehumanize deign deject dejected dejectedly dejection delay delayed delaying delays delinquency delinquent delirious delirium delude deluded deluge delusion delusional delusions demean demeaning demise demolish demolisher demon demonic demonize demonized demonizes demonizing demoralize demoralizing demoralizingly denial denied denies denigrate denounce dense dent dented dents denunciate denunciation denunciations deny denying deplete deplorable deplorably deplore deploring deploringly deprave depraved depravedly deprecate depress depressed depressing depressingly depression depressions deprive deprived deride derision derisive derisively derisiveness derogatory desecrate desert desertion desiccate desiccated desititute desolate desolately desolation despair despairing despairingly desperate desperately desperation despicable despicably despise despised despoil despoiler despondence despondency despondent despondently despot despotic despotism destabilisation destains destitute destitution destroy destroyer destruction destructive desultory deter deteriorate deteriorating deterioration deterrent detest detestable detestably detested detesting detests detract detracted detracting detraction detracts detriment detrimental devastate devastated devastates devastating devastatingly devastation deviate deviation devil devilish devilishly devilment devilry devious deviously deviousness devoid diabolic diabolical diabolically diametrically diappointed diatribe diatribes dick dictator dictatorial die die-hard died dies difficult difficulties difficulty diffidence dilapidated dilemma dilly-dally dim dimmer din ding dings dinky dire direly direness dirt dirtbag dirtbags dirts dirty disable disabled disaccord disadvantage disadvantaged disadvantageous disadvantages disaffect disaffected disaffirm disagree disagreeable disagreeably disagreed disagreeing disagreement disagrees disallow disapointed disapointing disapointment disappoint disappointed disappointing disappointingly disappointment disappointments disappoints disapprobation disapproval disapprove disapproving disarm disarray disaster disasterous disastrous disastrously disavow disavowal disbelief disbelieve disbeliever disclaim discombobulate discomfit discomfititure discomfort discompose disconcert disconcerted disconcerting disconcertingly disconsolate disconsolately disconsolation discontent discontented discontentedly discontinued discontinuity discontinuous discord discordance discordant discountenance discourage discouragement discouraging discouragingly discourteous discourteously discoutinous discredit discrepant discriminate discrimination discriminatory disdain disdained disdainful disdainfully disfavor disgrace disgraced disgraceful disgracefully disgruntle disgruntled disgust disgusted disgustedly disgustful disgustfully disgusting disgustingly dishearten disheartening dishearteningly dishonest dishonestly dishonesty dishonor dishonorable dishonorablely disillusion disillusioned disillusionment disillusions disinclination disinclined disingenuous disingenuously disintegrate disintegrated disintegrates disintegration disinterest disinterested dislike disliked dislikes disliking dislocated disloyal disloyalty dismal dismally dismalness dismay dismayed dismaying dismayingly dismissive dismissively disobedience disobedient disobey disoobedient disorder disordered disorderly disorganized disorient disoriented disown disparage disparaging disparagingly dispensable dispirit dispirited dispiritedly dispiriting displace displaced displease displeased displeasing displeasure disproportionate disprove disputable dispute disputed disquiet disquieting disquietingly disquietude disregard disregardful disreputable disrepute disrespect disrespectable disrespectablity disrespectful disrespectfully disrespectfulness disrespecting disrupt disruption disruptive diss dissapointed dissappointed dissappointing dissatisfaction dissatisfactory dissatisfied dissatisfies dissatisfy dissatisfying dissed dissemble dissembler dissension dissent dissenter dissention disservice disses dissidence dissident dissidents dissing dissocial dissolute dissolution dissonance dissonant dissonantly dissuade dissuasive distains distaste distasteful distastefully distort distorted distortion distorts distract distracting distraction distraught distraughtly distraughtness distress distressed distressing distressingly distrust distrustful distrusting disturb disturbance disturbed disturbing disturbingly disunity disvalue divergent divisive divisively divisiveness dizzing dizzingly dizzy doddering dodgey dogged doggedly dogmatic doldrums domineer domineering donside doom doomed doomsday dope doubt doubtful doubtfully doubts douchbag douchebag douchebags downbeat downcast downer downfall downfallen downgrade downhearted downheartedly downhill downside downsides downturn downturns drab draconian draconic drag dragged dragging dragoon drags drain drained draining drains drastic drastically drawback drawbacks dread dreadful dreadfully dreadfulness dreary dripped dripping drippy drips drones droop droops drop-out drop-outs dropout dropouts drought drowning drunk drunkard drunken dubious dubiously dubitable dud dull dullard dumb dumbfound dump dumped dumping dumps dunce dungeon dungeons dupe dust dusty dwindling dying earsplitting eccentric eccentricity effigy effrontery egocentric egomania egotism egotistical egotistically egregious egregiously election-rigger elimination emaciated emasculate embarrass embarrassing embarrassingly embarrassment embattled embroil embroiled embroilment emergency emphatic emphatically emptiness encroach encroachment endanger enemies enemy enervate enfeeble enflame engulf enjoin enmity enrage enraged enraging enslave entangle entanglement entrap entrapment envious enviously enviousness epidemic equivocal erase erode erodes erosion err errant erratic erratically erroneous erroneously error errors eruptions escapade eschew estranged evade evasion evasive evil evildoer evils eviscerate exacerbate exagerate exagerated exagerates exaggerate exaggeration exasperate exasperated exasperating exasperatingly exasperation excessive excessively exclusion excoriate excruciating excruciatingly excuse excuses execrate exhaust exhausted exhaustion exhausts exhorbitant exhort exile exorbitant exorbitantance exorbitantly expel expensive expire expired explode exploit exploitation explosive expropriate expropriation expulse expunge exterminate extermination extinguish extort extortion extraneous extravagance extravagant extravagantly extremism extremist extremists eyesore f**k fabricate fabrication facetious facetiously fail failed failing fails failure failures faint fainthearted faithless fake fall fallacies fallacious fallaciously fallaciousness fallacy fallen falling fallout falls false falsehood falsely falsify falter faltered famine famished fanatic fanatical fanatically fanaticism fanatics fanciful far-fetched farce farcical farcical-yet-provocative farcically farfetched fascism fascist fastidious fastidiously fastuous fat fat-cat fat-cats fatal fatalistic fatalistically fatally fatcat fatcats fateful fatefully fathomless fatigue fatigued fatique fatty fatuity fatuous fatuously fault faults faulty fawningly faze fear fearful fearfully fears fearsome feckless feeble feeblely feebleminded feign feint fell felon felonious ferociously ferocity fetid fever feverish fevers fiasco fib fibber fickle fiction fictional fictitious fidget fidgety fiend fiendish fierce figurehead filth filthy finagle finicky fissures fist flabbergast flabbergasted flagging flagrant flagrantly flair flairs flak flake flakey flakieness flaking flaky flare flares flareup flareups flat-out flaunt flaw flawed flaws flee fleed fleeing fleer flees fleeting flicering flicker flickering flickers flighty flimflam flimsy flirt flirty floored flounder floundering flout fluster foe fool fooled foolhardy foolish foolishly foolishness forbid forbidden forbidding forceful foreboding forebodingly forfeit forged forgetful forgetfully forgetfulness forlorn forlornly forsake forsaken forswear foul foully foulness fractious fractiously fracture fragile fragmented frail frantic frantically franticly fraud fraudulent fraught frazzle frazzled freak freaking freakish freakishly freaks freeze freezes freezing frenetic frenetically frenzied frenzy fret fretful frets friction frictions fried friggin frigging fright frighten frightening frighteningly frightful frightfully frigid frost frown froze frozen fruitless fruitlessly frustrate frustrated frustrates frustrating frustratingly frustration frustrations fuck fucking fudge fugitive full-blown fulminate fumble fume fumes fundamentalism funky funnily funny furious furiously furor fury fuss fussy fustigate fusty futile futilely futility fuzzy gabble gaff gaffe gainsay gainsayer gall galling gallingly galls gangster gape garbage garish gasp gauche gaudy gawk gawky geezer genocide get-rich ghastly ghetto ghosting gibber gibberish gibe giddy gimmick gimmicked gimmicking gimmicks gimmicky glare glaringly glib glibly glitch glitches gloatingly gloom gloomy glower glum glut gnawing goad goading god-awful goof goofy goon gossip graceless gracelessly graft grainy grapple grate grating gravely greasy greed greedy grief grievance grievances grieve grieving grievous grievously grim grimace grind gripe gripes grisly gritty gross grossly grotesque grouch grouchy groundless grouse growl grudge grudges grudging grudgingly gruesome gruesomely gruff grumble grumpier grumpiest grumpily grumpish grumpy guile guilt guiltily guilty gullible gutless gutter hack hacks haggard haggle hairloss halfhearted halfheartedly hallucinate hallucination hamper hampered handicapped hang hangs haphazard hapless harangue harass harassed harasses harassment harboring harbors hard hard-hit hard-line hard-liner hardball harden hardened hardheaded hardhearted hardliner hardliners hardship hardships harm harmed harmful harms harpy harridan harried harrow harsh harshly hasseling hassle hassled hassles haste hastily hasty hate hated hateful hatefully hatefulness hater haters hates hating hatred haughtily haughty haunt haunting havoc hawkish haywire hazard hazardous haze hazy head-aches headache headaches heartbreaker heartbreaking heartbreakingly heartless heathen heavy-handed heavyhearted heck heckle heckled heckles hectic hedge hedonistic heedless hefty hegemonism hegemonistic hegemony heinous hell hell-bent hellion hells helpless helplessly helplessness heresy heretic heretical hesitant hestitant hideous hideously hideousness high-priced hiliarious hinder hindrance hiss hissed hissing ho-hum hoard hoax hobble hogs hollow hoodium hoodwink hooligan hopeless hopelessly hopelessness horde horrendous horrendously horrible horrid horrific horrified horrifies horrify horrifying horrifys hostage hostile hostilities hostility hotbeds hothead hotheaded hothouse hubris huckster hum humid humiliate humiliating humiliation humming hung hurt hurted hurtful hurting hurts hustler hype hypocricy hypocrisy hypocrite hypocrites hypocritical hypocritically hysteria hysteric hysterical hysterically hysterics idiocies idiocy idiot idiotic idiotically idiots idle ignoble ignominious ignominiously ignominy ignorance ignorant ignore ill-advised ill-conceived ill-defined ill-designed ill-fated ill-favored ill-formed ill-mannered ill-natured ill-sorted ill-tempered ill-treated ill-treatment ill-usage ill-used illegal illegally illegitimate illicit illiterate illness illogic illogical illogically illusion illusions illusory imaginary imbalance imbecile imbroglio immaterial immature imminence imminently immobilized immoderate immoderately immodest immoral immorality immorally immovable impair impaired impasse impatience impatient impatiently impeach impedance impede impediment impending impenitent imperfect imperfection imperfections imperfectly imperialist imperil imperious imperiously impermissible impersonal impertinent impetuous impetuously impiety impinge impious implacable implausible implausibly implicate implication implode impolite impolitely impolitic importunate importune impose imposers imposing imposition impossible impossiblity impossibly impotent impoverish impoverished impractical imprecate imprecise imprecisely imprecision imprison imprisonment improbability improbable improbably improper improperly impropriety imprudence imprudent impudence impudent impudently impugn impulsive impulsively impunity impure impurity inability inaccuracies inaccuracy inaccurate inaccurately inaction inactive inadequacy inadequate inadequately inadverent inadverently inadvisable inadvisably inane inanely inappropriate inappropriately inapt inaptitude inarticulate inattentive inaudible incapable incapably incautious incendiary incense incessant incessantly incite incitement incivility inclement incognizant incoherence incoherent incoherently incommensurate incomparable incomparably incompatability incompatibility incompatible incompetence incompetent incompetently incomplete incompliant incomprehensible incomprehension inconceivable inconceivably incongruous incongruously inconsequent inconsequential inconsequentially inconsequently inconsiderate inconsiderately inconsistence inconsistencies inconsistency inconsistent inconsolable inconsolably inconstant inconvenience inconveniently incorrect incorrectly incorrigible incorrigibly incredulous incredulously inculcate indecency indecent indecently indecision indecisive indecisively indecorum indefensible indelicate indeterminable indeterminably indeterminate indifference indifferent indigent indignant indignantly indignation indignity indiscernible indiscreet indiscreetly indiscretion indiscriminate indiscriminately indiscriminating indistinguishable indoctrinate indoctrination indolent indulge ineffective ineffectively ineffectiveness ineffectual ineffectually ineffectualness inefficacious inefficacy inefficiency inefficient inefficiently inelegance inelegant ineligible ineloquent ineloquently inept ineptitude ineptly inequalities inequality inequitable inequitably inequities inescapable inescapably inessential inevitable inevitably inexcusable inexcusably inexorable inexorably inexperience inexperienced inexpert inexpertly inexpiable inexplainable inextricable inextricably infamous infamously infamy infected infection infections inferior inferiority infernal infest infested infidel infidels infiltrator infiltrators infirm inflame inflammation inflammatory inflammed inflated inflationary inflexible inflict infraction infringe infringement infringements infuriate infuriated infuriating infuriatingly inglorious ingrate ingratitude inhibit inhibition inhospitable inhospitality inhuman inhumane inhumanity inimical inimically iniquitous iniquity injudicious injure injurious injury injustice injustices innuendo inoperable inopportune inordinate inordinately insane insanely insanity insatiable insecure insecurity insensible insensitive insensitively insensitivity insidious insidiously insignificance insignificant insignificantly insincere insincerely insincerity insinuate insinuating insinuation insociable insolence insolent insolently insolvent insouciance instability instable instigate instigator instigators insubordinate insubstantial insubstantially insufferable insufferably insufficiency insufficient insufficiently insular insult insulted insulting insultingly insults insupportable insupportably insurmountable insurmountably insurrection intefere inteferes intense interfere interference interferes intermittent interrupt interruption interruptions intimidate intimidating intimidatingly intimidation intolerable intolerablely intolerance intoxicate intractable intransigence intransigent intrude intrusion intrusive inundate inundated invader invalid invalidate invalidity invasive invective inveigle invidious invidiously invidiousness invisible involuntarily involuntary irascible irate irately ire irk irked irking irks irksome irksomely irksomeness irksomenesses ironic ironical ironically ironies irony irragularity irrational irrationalities irrationality irrationally irrationals irreconcilable irrecoverable irrecoverableness irrecoverablenesses irrecoverably irredeemable irredeemably irreformable irregular irregularity irrelevance irrelevant irreparable irreplacible irrepressible irresolute irresolvable irresponsible irresponsibly irretating irretrievable irreversible irritable irritably irritant irritate irritated irritating irritation irritations isolate isolated isolation issue issues itch itching itchy jabber jaded jagged jam jarring jaundiced jealous jealously jealousness jealousy jeer jeering jeeringly jeers jeopardize jeopardy jerk jerky jitter jitters jittery job-killing jobless joke joker jolt judder juddering judders jumpy junk junky junkyard jutter jutters kaput kill killed killer killing killjoy kills knave knife knock knotted kook kooky lack lackadaisical lacked lackey lackeys lacking lackluster lacks laconic lag lagged lagging laggy lags laid-off lambast lambaste lame lame-duck lament lamentable lamentably languid languish languor languorous languorously lanky lapse lapsed lapses lascivious last-ditch latency laughable laughably laughingstock lawbreaker lawbreaking lawless lawlessness layoff layoff-happy lazy leak leakage leakages leaking leaks leaky lech lecher lecherous lechery leech leer leery left-leaning lemon lengthy less-developed lesser-known letch lethal lethargic lethargy lewd lewdly lewdness liability liable liar liars licentious licentiously licentiousness lie lied lier lies life-threatening lifeless limit limitation limitations limited limits limp listless litigious little-known livid lividly loath loathe loathing loathly loathsome loathsomely lone loneliness lonely loner lonesome long-time long-winded longing longingly loophole loopholes loose loot lorn lose loser losers loses losing loss losses lost loud louder lousy loveless lovelorn low-rated lowly ludicrous ludicrously lugubrious lukewarm lull lumpy lunatic lunaticism lurch lure lurid lurk lurking lying macabre mad madden maddening maddeningly madder madly madman madness maladjusted maladjustment malady malaise malcontent malcontented maledict malevolence malevolent malevolently malice malicious maliciously maliciousness malign malignant malodorous maltreatment mangle mangled mangles mangling mania maniac maniacal manic manipulate manipulation manipulative manipulators mar marginal marginally martyrdom martyrdom-seeking mashed massacre massacres matte mawkish mawkishly mawkishness meager meaningless meanness measly meddle meddlesome mediocre mediocrity melancholy melodramatic melodramatically meltdown menace menacing menacingly mendacious mendacity menial merciless mercilessly mess messed messes messing messy midget miff militancy mindless mindlessly mirage mire misalign misaligned misaligns misapprehend misbecome misbecoming misbegotten misbehave misbehavior miscalculate miscalculation miscellaneous mischief mischievous mischievously misconception misconceptions miscreant miscreants misdirection miser miserable miserableness miserably miseries miserly misery misfit misfortune misgiving misgivings misguidance misguide misguided mishandle mishap misinform misinformed misinterpret misjudge misjudgment mislead misleading misleadingly mislike mismanage mispronounce mispronounced mispronounces misread misreading misrepresent misrepresentation miss missed misses misstatement mist mistake mistaken mistakenly mistakes mistified mistress mistrust mistrustful mistrustfully mists misunderstand misunderstanding misunderstandings misunderstood misuse moan mobster mock mocked mockeries mockery mocking mockingly mocks molest molestation monotonous monotony monster monstrosities monstrosity monstrous monstrously moody moot mope morbid morbidly mordant mordantly moribund moron moronic morons mortification mortified mortify mortifying motionless motley mourn mourner mournful mournfully muddle muddy mudslinger mudslinging mulish multi-polarization mundane murder murderer murderous murderously murky muscle-flexing mushy musty mysterious mysteriously mystery mystify myth nag nagging naive naively narrower nastily nastiness nasty naughty nauseate nauseates nauseating nauseatingly naīve nebulous nebulously needless needlessly needy nefarious nefariously negate negation negative negatives negativity neglect neglected negligence negligent nemesis nepotism nervous nervously nervousness nettle nettlesome neurotic neurotically niggle niggles nightmare nightmarish nightmarishly nitpick nitpicking noise noises noisier noisy non-confidence nonexistent nonresponsive nonsense nosey notoriety notorious notoriously noxious nuisance numb obese object objection objectionable objections oblique obliterate obliterated oblivious obnoxious obnoxiously obscene obscenely obscenity obscure obscured obscures obscurity obsess obsessive obsessively obsessiveness obsolete obstacle obstinate obstinately obstruct obstructed obstructing obstruction obstructs obtrusive obtuse occlude occluded occludes occluding odd odder oddest oddities oddity oddly odor offence offend offender offending offenses offensive offensively offensiveness officious ominous ominously omission omit one-sided onerous onerously onslaught opinionated opponent opportunistic oppose opposition oppositions oppress oppression oppressive oppressively oppressiveness oppressors ordeal orphan ostracize outbreak outburst outbursts outcast outcry outlaw outmoded outrage outraged outrageous outrageously outrageousness outrages outsider over-acted over-awe over-balanced over-hyped over-priced over-valuation overact overacted overawe overbalance overbalanced overbearing overbearingly overblown overdo overdone overdue overemphasize overheat overkill overloaded overlook overpaid overpayed overplay overpower overpriced overrated overreach overrun overshadow oversight oversights oversimplification oversimplified oversimplify oversize overstate overstated overstatement overstatements overstates overtaxed overthrow overthrows overturn overweight overwhelm overwhelmed overwhelming overwhelmingly overwhelms overzealous overzealously overzelous pain painful painfull painfully pains pale pales paltry pan pandemonium pander pandering panders panic panick panicked panicking panicky paradoxical paradoxically paralize paralyzed paranoia paranoid parasite pariah parody partiality partisan partisans passe passive passiveness pathetic pathetically patronize paucity pauper paupers payback peculiar peculiarly pedantic peeled peeve peeved peevish peevishly penalize penalty perfidious perfidity perfunctory peril perilous perilously perish pernicious perplex perplexed perplexing perplexity persecute persecution pertinacious pertinaciously pertinacity perturb perturbed pervasive perverse perversely perversion perversity pervert perverted perverts pessimism pessimistic pessimistically pest pestilent petrified petrify pettifog petty phobia phobic phony picket picketed picketing pickets picky pig pigs pillage pillory pimple pinch pique pitiable pitiful pitifully pitiless pitilessly pittance pity plagiarize plague plasticky plaything plea pleas plebeian plight plot plotters ploy plunder plunderer pointless pointlessly poison poisonous poisonously pokey poky polarisation polemize pollute polluter polluters polution pompous poor poorer poorest poorly posturing pout poverty powerless prate pratfall prattle precarious precariously precipitate precipitous predatory predicament prejudge prejudice prejudices prejudicial premeditated preoccupy preposterous preposterously presumptuous presumptuously pretence pretend pretense pretentious pretentiously prevaricate pricey pricier prick prickle prickles prideful prik primitive prison prisoner problem problematic problems procrastinate procrastinates procrastination profane profanity prohibit prohibitive prohibitively propaganda propagandize proprietary prosecute protest protested protesting protests protracted provocation provocative provoke pry pugnacious pugnaciously pugnacity punch punish punishable punitive punk puny puppet puppets puzzled puzzlement puzzling quack qualm qualms quandary quarrel quarrellous quarrellously quarrels quarrelsome quash queer questionable quibble quibbles quitter rabid racism racist racists racy radical radicalization radically radicals rage ragged raging rail raked rampage rampant ramshackle rancor randomly rankle rant ranted ranting rantingly rants rape raped raping rascal rascals rash rattle rattled rattles ravage raving reactionary rebellious rebuff rebuke recalcitrant recant recession recessionary reckless recklessly recklessness recoil recourses redundancy redundant refusal refuse refused refuses refusing refutation refute refuted refutes refuting regress regression regressive regret regreted regretful regretfully regrets regrettable regrettably regretted reject rejected rejecting rejection rejects relapse relentless relentlessly relentlessness reluctance reluctant reluctantly remorse remorseful remorsefully remorseless remorselessly remorselessness renounce renunciation repel repetitive reprehensible reprehensibly reprehension reprehensive repress repression repressive reprimand reproach reproachful reprove reprovingly repudiate repudiation repugn repugnance repugnant repugnantly repulse repulsed repulsing repulsive repulsively repulsiveness resent resentful resentment resignation resigned resistance restless restlessness restrict restricted restriction restrictive resurgent retaliate retaliatory retard retarded retardedness retards reticent retract retreat retreated revenge revengeful revengefully revert revile reviled revoke revolt revolting revoltingly revulsion revulsive rhapsodize rhetoric rhetorical ricer ridicule ridicules ridiculous ridiculously rife rift rifts rigid rigidity rigidness rile riled rip rip-off ripoff ripped risk risks risky rival rivalry roadblocks rocky rogue rollercoaster rot rotten rough rremediable rubbish rude rue ruffian ruffle ruin ruined ruining ruinous ruins rumbling rumor rumors rumours rumple run-down runaway rupture rust rusts rusty rut ruthless ruthlessly ruthlessness ruts sabotage sack sacrificed sad sadden sadly sadness sag sagged sagging saggy sags salacious sanctimonious sap sarcasm sarcastic sarcastically sardonic sardonically sass satirical satirize savage savaged savagery savages scaly scam scams scandal scandalize scandalized scandalous scandalously scandals scandel scandels scant scapegoat scar scarce scarcely scarcity scare scared scarier scariest scarily scarred scars scary scathing scathingly sceptical scoff scoffingly scold scolded scolding scoldingly scorching scorchingly scorn scornful scornfully scoundrel scourge scowl scramble scrambled scrambles scrambling scrap scratch scratched scratches scratchy scream screech screw-up screwed screwed-up screwy scuff scuffs scum scummy second-class second-tier secretive sedentary seedy seethe seething self-coup self-criticism self-defeating self-destructive self-humiliation self-interest self-interested self-serving selfinterested selfish selfishly selfishness semi-retarded senile sensationalize senseless senselessly seriousness sermonize servitude set-up setback setbacks sever severe severity sht shabby shadowy shady shake shaky shallow sham shambles shame shameful shamefully shamefulness shameless shamelessly shamelessness shark sharply shatter shemale shimmer shimmy shipwreck shirk shirker shit shiver shock shocked shocking shockingly shoddy short-lived shortage shortchange shortcoming shortcomings shortness shortsighted shortsightedness showdown shrew shriek shrill shrilly shrivel shroud shrouded shrug shun shunned sick sicken sickening sickeningly sickly sickness sidetrack sidetracked siege sillily silly simplistic simplistically sin sinful sinfully sinister sinisterly sink sinking skeletons skeptic skeptical skeptically skepticism sketchy skimpy skinny skittish skittishly skulk slack slander slanderer slanderous slanderously slanders slap slashing slaughter slaughtered slave slaves sleazy slime slog slogged slogging slogs sloooooooooooooow sloooow slooow sloow sloppily sloppy sloth slothful slow slow-moving slowed slower slowest slowly sloww slowww slowwww slug sluggish slump slumping slumpping slur slut sluts sly smack smallish smash smear smell smelled smelling smells smelly smelt smoke smokescreen smolder smoldering smother smoulder smouldering smudge smudged smudges smudging smug smugly smut smuttier smuttiest smutty snag snagged snagging snags snappish snappishly snare snarky snarl sneak sneakily sneaky sneer sneering sneeringly snob snobbish snobby snobish snobs snub so-cal soapy sob sober sobering solemn solicitude somber sore sorely soreness sorrow sorrowful sorrowfully sorry sour sourly spade spank spendy spew spewed spewing spews spilling spinster spiritless spite spiteful spitefully spitefulness splatter split splitting spoil spoilage spoilages spoiled spoilled spoils spook spookier spookiest spookily spooky spoon-fed spoon-feed spoonfed sporadic spotty spurious spurn sputter squabble squabbling squander squash squeak squeaks squeaky squeal squealing squeals squirm stab stagnant stagnate stagnation staid stain stains stale stalemate stall stalls stammer stampede standstill stark starkly startle startling startlingly starvation starve static steal stealing steals steep steeply stench stereotype stereotypical stereotypically stern stew sticky stiff stiffness stifle stifling stiflingly stigma stigmatize sting stinging stingingly stingy stink stinks stodgy stole stolen stooge stooges stormy straggle straggler strain strained straining strange strangely stranger strangest strangle streaky strenuous stress stresses stressful stressfully stricken strict strictly strident stridently strife strike stringent stringently struck struggle struggled struggles struggling strut stubborn stubbornly stubbornness stuck stuffy stumble stumbled stumbles stump stumped stumps stun stunt stunted stupid stupidest stupidity stupidly stupified stupify stupor stutter stuttered stuttering stutters sty stymied sub-par subdued subjected subjection subjugate subjugation submissive subordinate subpoena subpoenas subservience subservient substandard subtract subversion subversive subversively subvert succumb suck sucked sucker sucks sucky sue sued sueing sues suffer suffered sufferer sufferers suffering suffers suffocate sugar-coat sugar-coated sugarcoated suicidal suicide sulk sullen sully sunder sunk sunken superficial superficiality superficially superfluous superstition superstitious suppress suppression surrender susceptible suspect suspicion suspicions suspicious suspiciously swagger swamped sweaty swelled swelling swindle swipe swollen symptom symptoms syndrome taboo tacky taint tainted tamper tangle tangled tangles tank tanked tanks tantrum tardy tarnish tarnished tarnishes tarnishing tattered taunt taunting tauntingly taunts taut tawdry taxing tease teasingly tedious tediously temerity temper tempest temptation tenderness tense tension tentative tentatively tenuous tenuously tepid terrible terribleness terribly terror terror-genic terrorism terrorize testily testy tetchily tetchy thankless thicker thirst thorny thoughtless thoughtlessly thoughtlessness thrash threat threaten threatening threats threesome throb throbbed throbbing throbs throttle thug thumb-down thumbs-down thwart time-consuming timid timidity timidly timidness tin-y tingled tingling tired tiresome tiring tiringly toil toll top-heavy topple torment tormented torrent tortuous torture tortured tortures torturing torturous torturously totalitarian touchy toughness tout touted touts toxic traduce tragedy tragic tragically traitor traitorous traitorously tramp trample transgress transgression trap traped trapped trash trashed trashy trauma traumatic traumatically traumatize traumatized travesties travesty treacherous treacherously treachery treason treasonous trick tricked trickery tricky trivial trivialize trouble troubled troublemaker troubles troublesome troublesomely troubling troublingly truant tumble tumbled tumbles tumultuous turbulent turmoil twist twisted twists two-faced two-faces tyrannical tyrannically tyranny tyrant ugh uglier ugliest ugliness ugly ulterior ultimatum ultimatums ultra-hardline un-viewable unable unacceptable unacceptablely unacceptably unaccessible unaccustomed unachievable unaffordable unappealing unattractive unauthentic unavailable unavoidably unbearable unbearablely unbelievable unbelievably uncaring uncertain uncivil uncivilized unclean unclear uncollectible uncomfortable uncomfortably uncomfy uncompetitive uncompromising uncompromisingly unconfirmed unconstitutional uncontrolled unconvincing unconvincingly uncooperative uncouth uncreative undecided undefined undependability undependable undercut undercuts undercutting underdog underestimate underlings undermine undermined undermines undermining underpaid underpowered undersized undesirable undetermined undid undignified undissolved undocumented undone undue unease uneasily uneasiness uneasy uneconomical unemployed unequal unethical uneven uneventful unexpected unexpectedly unexplained unfairly unfaithful unfaithfully unfamiliar unfavorable unfeeling unfinished unfit unforeseen unforgiving unfortunate unfortunately unfounded unfriendly unfulfilled unfunded ungovernable ungrateful unhappily unhappiness unhappy unhealthy unhelpful unilateralism unimaginable unimaginably unimportant uninformed uninsured unintelligible unintelligile unipolar unjust unjustifiable unjustifiably unjustified unjustly unkind unkindly unknown unlamentable unlamentably unlawful unlawfully unlawfulness unleash unlicensed unlikely unlucky unmoved unnatural unnaturally unnecessary unneeded unnerve unnerved unnerving unnervingly unnoticed unobserved unorthodox unorthodoxy unpleasant unpleasantries unpopular unpredictable unprepared unproductive unprofitable unprove unproved unproven unproves unproving unqualified unravel unraveled unreachable unreadable unrealistic unreasonable unreasonably unrelenting unrelentingly unreliability unreliable unresolved unresponsive unrest unruly unsafe unsatisfactory unsavory unscrupulous unscrupulously unsecure unseemly unsettle unsettled unsettling unsettlingly unskilled unsophisticated unsound unspeakable unspeakablely unspecified unstable unsteadily unsteadiness unsteady unsuccessful unsuccessfully unsupported unsupportive unsure unsuspecting unsustainable untenable untested unthinkable unthinkably untimely untouched untrue untrustworthy untruthful unusable unusably unuseable unuseably unusual unusually unviewable unwanted unwarranted unwatchable unwelcome unwell unwieldy unwilling unwillingly unwillingness unwise unwisely unworkable unworthy unyielding upbraid upheaval uprising uproar uproarious uproariously uproarous uproarously uproot upset upseting upsets upsetting upsettingly urgent useless usurp usurper utterly vagrant vague vagueness vain vainly vanity vehement vehemently vengeance vengeful vengefully vengefulness venom venomous venomously vent vestiges vex vexation vexing vexingly vibrate vibrated vibrates vibrating vibration vice vicious viciously viciousness victimize vile vileness vilify villainous villainously villains villian villianous villianously villify vindictive vindictively vindictiveness violate violation violator violators violent violently viper virulence virulent virulently virus vociferous vociferously volatile volatility vomit vomited vomiting vomits vulgar vulnerable wack wail wallow wane waning wanton war-like warily wariness warlike warned warning warp warped wary washed-out waste wasted wasteful wastefulness wasting water-down watered-down wayward weak weaken weakening weaker weakness weaknesses weariness wearisome weary wedge weed weep weird weirdly wheedle whimper whine whining whiny whips whore whores wicked wickedly wickedness wild wildly wiles wilt wily wimpy wince wobble wobbled wobbles woe woebegone woeful woefully womanizer womanizing worn worried worriedly worrier worries worrisome worry worrying worryingly worse worsen worsening worst worthless worthlessly worthlessness wound wounds wrangle wrath wreak wreaked wreaks wreck wrest wrestle wretch wretched wretchedly wretchedness wrinkle wrinkled wrinkles wrip wripped wripping writhe wrong wrongful wrongly wrought yawn zap zapped zaps zealot zealous zealously zombie\""
   ]
  },
  {
   "cell_type": "code",
   "execution_count": 35,
   "id": "a8d5b219",
   "metadata": {},
   "outputs": [],
   "source": [
    "negative_words=text_to_list(negative_text)"
   ]
  },
  {
   "cell_type": "code",
   "execution_count": 36,
   "id": "0f9e7804",
   "metadata": {},
   "outputs": [
    {
     "data": {
      "text/plain": [
       "4783"
      ]
     },
     "execution_count": 36,
     "metadata": {},
     "output_type": "execute_result"
    }
   ],
   "source": [
    "len(negative_words)"
   ]
  },
  {
   "cell_type": "code",
   "execution_count": 37,
   "id": "b88b8baf",
   "metadata": {},
   "outputs": [],
   "source": [
    "#remove duplicate\n",
    "negative_words= list(set(negative_words))"
   ]
  },
  {
   "cell_type": "code",
   "execution_count": 38,
   "id": "7fe81651",
   "metadata": {},
   "outputs": [
    {
     "data": {
      "text/plain": [
       "4783"
      ]
     },
     "execution_count": 38,
     "metadata": {},
     "output_type": "execute_result"
    }
   ],
   "source": [
    "len(negative_words)"
   ]
  },
  {
   "cell_type": "markdown",
   "id": "43503fb5",
   "metadata": {},
   "source": [
    "## Positive word"
   ]
  },
  {
   "cell_type": "code",
   "execution_count": 39,
   "id": "a67abc12",
   "metadata": {},
   "outputs": [],
   "source": [
    "postitive_text=\"a+ abound abounds abundance abundant accessable accessible acclaim acclaimed acclamation accolade accolades accommodative accomodative accomplish accomplished accomplishment accomplishments accurate accurately achievable achievement achievements achievible acumen adaptable adaptive adequate adjustable admirable admirably admiration admire admirer admiring admiringly adorable adore adored adorer adoring adoringly adroit adroitly adulate adulation adulatory advanced advantage advantageous advantageously advantages adventuresome adventurous advocate advocated advocates affability affable affably affectation affection affectionate affinity affirm affirmation affirmative affluence affluent afford affordable affordably afordable agile agilely agility agreeable agreeableness agreeably all-around alluring alluringly altruistic altruistically amaze amazed amazement amazes amazing amazingly ambitious ambitiously ameliorate amenable amenity amiability amiabily amiable amicability amicable amicably amity ample amply amuse amusing amusingly angel angelic apotheosis appeal appealing applaud appreciable appreciate appreciated appreciates appreciative appreciatively appropriate approval approve ardent ardently ardor articulate aspiration aspirations aspire assurance assurances assure assuredly assuring astonish astonished astonishing astonishingly astonishment astound astounded astounding astoundingly astutely attentive attraction attractive attractively attune audible audibly auspicious authentic authoritative autonomous available aver avid avidly award awarded awards awe awed awesome awesomely awesomeness awestruck awsome backbone balanced bargain beauteous beautiful beautifullly beautifully beautify beauty beckon beckoned beckoning beckons believable believeable beloved benefactor beneficent beneficial beneficially beneficiary benefit benefits benevolence benevolent benifits best best-known best-performing best-selling better better-known better-than-expected beutifully blameless bless blessing bliss blissful blissfully blithe blockbuster bloom blossom bolster bonny bonus bonuses boom booming boost boundless bountiful brainiest brainy brand-new brave bravery bravo breakthrough breakthroughs breathlessness breathtaking breathtakingly breeze bright brighten brighter brightest brilliance brilliances brilliant brilliantly brisk brotherly bullish buoyant cajole calm calming calmness capability capable capably captivate captivating carefree cashback cashbacks catchy celebrate celebrated celebration celebratory champ champion charisma charismatic charitable charm charming charmingly chaste cheaper cheapest cheer cheerful cheery cherish cherished cherub chic chivalrous chivalry civility civilize clarity classic classy clean cleaner cleanest cleanliness cleanly clear clear-cut cleared clearer clearly clears clever cleverly cohere coherence coherent cohesive colorful comely comfort comfortable comfortably comforting comfy commend commendable commendably commitment commodious compact compactly compassion compassionate compatible competitive complement complementary complemented complements compliant compliment complimentary comprehensive conciliate conciliatory concise confidence confident congenial congratulate congratulation congratulations congratulatory conscientious considerate consistent consistently constructive consummate contentment continuity contrasty contribution convenience convenient conveniently convience convienient convient convincing convincingly cool coolest cooperative cooperatively cornerstone correct correctly cost-effective cost-saving counter-attack counter-attacks courage courageous courageously courageousness courteous courtly covenant cozy creative credence credible crisp crisper cure cure-all cushy cute cuteness danke danken daring daringly darling dashing dauntless dawn dazzle dazzled dazzling dead-cheap dead-on decency decent decisive decisiveness dedicated defeat defeated defeating defeats defender deference deft deginified delectable delicacy delicate delicious delight delighted delightful delightfully delightfulness dependable dependably deservedly deserving desirable desiring desirous destiny detachable devout dexterous dexterously dextrous dignified dignify dignity diligence diligent diligently diplomatic dirt-cheap distinction distinctive distinguished diversified divine divinely dominate dominated dominates dote dotingly doubtless dreamland dumbfounded dumbfounding dummy-proof durable dynamic eager eagerly eagerness earnest earnestly earnestness ease eased eases easier easiest easiness easing easy easy-to-use easygoing ebullience ebullient ebulliently ecenomical economical ecstasies ecstasy ecstatic ecstatically edify educated effective effectively effectiveness effectual efficacious efficient efficiently effortless effortlessly effusion effusive effusively effusiveness elan elate elated elatedly elation electrify elegance elegant elegantly elevate elite eloquence eloquent eloquently embolden eminence eminent empathize empathy empower empowerment enchant enchanted enchanting enchantingly encourage encouragement encouraging encouragingly endear endearing endorse endorsed endorsement endorses endorsing energetic energize energy-efficient energy-saving engaging engrossing enhance enhanced enhancement enhances enjoy enjoyable enjoyably enjoyed enjoying enjoyment enjoys enlighten enlightenment enliven ennoble enough enrapt enrapture enraptured enrich enrichment enterprising entertain entertaining entertains enthral enthrall enthralled enthuse enthusiasm enthusiast enthusiastic enthusiastically entice enticed enticing enticingly entranced entrancing entrust enviable enviably envious enviously enviousness envy equitable ergonomical err-free erudite ethical eulogize euphoria euphoric euphorically evaluative evenly eventful everlasting evocative exalt exaltation exalted exaltedly exalting exaltingly examplar examplary excallent exceed exceeded exceeding exceedingly exceeds excel exceled excelent excellant excelled excellence excellency excellent excellently excels exceptional exceptionally excite excited excitedly excitedness excitement excites exciting excitingly exellent exemplar exemplary exhilarate exhilarating exhilaratingly exhilaration exonerate expansive expeditiously expertly exquisite exquisitely extol extoll extraordinarily extraordinary exuberance exuberant exuberantly exult exultant exultation exultingly eye-catch eye-catching eyecatch eyecatching fabulous fabulously facilitate fair fairly fairness faith faithful faithfully faithfulness fame famed famous famously fancier fancinating fancy fanfare fans fantastic fantastically fascinate fascinating fascinatingly fascination fashionable fashionably fast fast-growing fast-paced faster fastest fastest-growing faultless fav fave favor favorable favored favorite favorited favour fearless fearlessly feasible feasibly feat feature-rich fecilitous feisty felicitate felicitous felicity fertile fervent fervently fervid fervidly fervor festive fidelity fiery fine fine-looking finely finer finest firmer first-class first-in-class first-rate flashy flatter flattering flatteringly flawless flawlessly flexibility flexible flourish flourishing fluent flutter fond fondly fondness foolproof foremost foresight formidable fortitude fortuitous fortuitously fortunate fortunately fortune fragrant free freed freedom freedoms fresh fresher freshest friendliness friendly frolic frugal fruitful ftw fulfillment fun futurestic futuristic gaiety gaily gain gained gainful gainfully gaining gains gallant gallantly galore geekier geeky gem gems generosity generous generously genial genius gentle gentlest genuine gifted glad gladden gladly gladness glamorous glee gleeful gleefully glimmer glimmering glisten glistening glitter glitz glorify glorious gloriously glory glow glowing glowingly god-given god-send godlike godsend gold golden good goodly goodness goodwill goood gooood gorgeous gorgeously grace graceful gracefully gracious graciously graciousness grand grandeur grateful gratefully gratification gratified gratifies gratify gratifying gratifyingly gratitude great greatest greatness grin groundbreaking guarantee guidance guiltless gumption gush gusto gutsy hail halcyon hale hallmark hallmarks hallowed handier handily hands-down handsome handsomely handy happier happily happiness happy hard-working hardier hardy harmless harmonious harmoniously harmonize harmony headway heal healthful healthy hearten heartening heartfelt heartily heartwarming heaven heavenly helped helpful helping hero heroic heroically heroine heroize heros high-quality high-spirited hilarious holy homage honest honesty honor honorable honored honoring hooray hopeful hospitable hot hotcake hotcakes hottest hug humane humble humility humor humorous humorously humour humourous ideal idealize ideally idol idolize idolized idyllic illuminate illuminati illuminating illumine illustrious ilu imaculate imaginative immaculate immaculately immense impartial impartiality impartially impassioned impeccable impeccably important impress impressed impresses impressive impressively impressiveness improve improved improvement improvements improves improving incredible incredibly indebted individualized indulgence indulgent industrious inestimable inestimably inexpensive infallibility infallible infallibly influential ingenious ingeniously ingenuity ingenuous ingenuously innocuous innovation innovative inpressed insightful insightfully inspiration inspirational inspire inspiring instantly instructive instrumental integral integrated intelligence intelligent intelligible interesting interests intimacy intimate intricate intrigue intriguing intriguingly intuitive invaluable invaluablely inventive invigorate invigorating invincibility invincible inviolable inviolate invulnerable irreplaceable irreproachable irresistible irresistibly issue-free jaw-droping jaw-dropping jollify jolly jovial joy joyful joyfully joyous joyously jubilant jubilantly jubilate jubilation jubiliant judicious justly keen keenly keenness kid-friendly kindliness kindly kindness knowledgeable kudos large-capacity laud laudable laudably lavish lavishly law-abiding lawful lawfully lead leading leads lean led legendary leverage levity liberate liberation liberty lifesaver light-hearted lighter likable like liked likes liking lionhearted lively logical long-lasting lovable lovably love loved loveliness lovely lover loves loving low-cost low-price low-priced low-risk lower-priced loyal loyalty lucid lucidly luck luckier luckiest luckiness lucky lucrative luminous lush luster lustrous luxuriant luxuriate luxurious luxuriously luxury lyrical magic magical magnanimous magnanimously magnificence magnificent magnificently majestic majesty manageable maneuverable marvel marveled marvelled marvellous marvelous marvelously marvelousness marvels master masterful masterfully masterpiece masterpieces masters mastery matchless mature maturely maturity meaningful memorable merciful mercifully mercy merit meritorious merrily merriment merriness merry mesmerize mesmerized mesmerizes mesmerizing mesmerizingly meticulous meticulously mightily mighty mind-blowing miracle miracles miraculous miraculously miraculousness modern modest modesty momentous monumental monumentally morality motivated multi-purpose navigable neat neatest neatly nice nicely nicer nicest nifty nimble noble nobly noiseless non-violence non-violent notably noteworthy nourish nourishing nourishment novelty nurturing oasis obsession obsessions obtainable openly openness optimal optimism optimistic opulent orderly originality outdo outdone outperform outperformed outperforming outperforms outshine outshone outsmart outstanding outstandingly outstrip outwit ovation overjoyed overtake overtaken overtakes overtaking overtook overture pain-free painless painlessly palatial pamper pampered pamperedly pamperedness pampers panoramic paradise paramount pardon passion passionate passionately patience patient patiently patriot patriotic peace peaceable peaceful peacefully peacekeepers peach peerless pep pepped pepping peppy peps perfect perfection perfectly permissible perseverance persevere personages personalized phenomenal phenomenally picturesque piety pinnacle playful playfully pleasant pleasantly pleased pleases pleasing pleasingly pleasurable pleasurably pleasure plentiful pluses plush plusses poetic poeticize poignant poise poised polished polite politeness popular portable posh positive positively positives powerful powerfully praise praiseworthy praising pre-eminent precious precise precisely preeminent prefer preferable preferably prefered preferes preferring prefers premier prestige prestigious prettily pretty priceless pride principled privilege privileged prize proactive problem-free problem-solver prodigious prodigiously prodigy productive productively proficient proficiently profound profoundly profuse profusion progress progressive prolific prominence prominent promise promised promises promising promoter prompt promptly proper properly propitious propitiously pros prosper prosperity prosperous prospros protect protection protective proud proven proves providence proving prowess prudence prudent prudently punctual pure purify purposeful quaint qualified qualify quicker quiet quieter radiance radiant rapid rapport rapt rapture raptureous raptureously rapturous rapturously rational razor-sharp reachable readable readily ready reaffirm reaffirmation realistic realizable reasonable reasonably reasoned reassurance reassure receptive reclaim recomend recommend recommendation recommendations recommended reconcile reconciliation record-setting recover recovery rectification rectify rectifying redeem redeeming redemption refine refined refinement reform reformed reforming reforms refresh refreshed refreshing refund refunded regal regally regard rejoice rejoicing rejoicingly rejuvenate rejuvenated rejuvenating relaxed relent reliable reliably relief relish remarkable remarkably remedy remission remunerate renaissance renewed renown renowned replaceable reputable reputation resilient resolute resound resounding resourceful resourcefulness respect respectable respectful respectfully respite resplendent responsibly responsive restful restored restructure restructured restructuring retractable revel revelation revere reverence reverent reverently revitalize revival revive revives revolutionary revolutionize revolutionized revolutionizes reward rewarding rewardingly rich richer richly richness right righten righteous righteously righteousness rightful rightfully rightly rightness risk-free robust rock-star rock-stars rockstar rockstars romantic romantically romanticize roomier roomy rosy safe safely sagacity sagely saint saintliness saintly salutary salute sane satisfactorily satisfactory satisfied satisfies satisfy satisfying satisified saver savings savior savvy scenic seamless seasoned secure securely selective self-determination self-respect self-satisfaction self-sufficiency self-sufficient sensation sensational sensationally sensations sensible sensibly sensitive serene serenity sexy sharp sharper sharpest shimmering shimmeringly shine shiny significant silent simpler simplest simplified simplifies simplify simplifying sincere sincerely sincerity skill skilled skillful skillfully slammin sleek slick smart smarter smartest smartly smile smiles smiling smilingly smitten smooth smoother smoothes smoothest smoothly snappy snazzy sociable soft softer solace solicitous solicitously solid solidarity soothe soothingly sophisticated soulful soundly soundness spacious sparkle sparkling spectacular spectacularly speedily speedy spellbind spellbinding spellbindingly spellbound spirited spiritual splendid splendidly splendor spontaneous sporty spotless sprightly stability stabilize stable stainless standout state-of-the-art stately statuesque staunch staunchly staunchness steadfast steadfastly steadfastness steadiest steadiness steady stellar stellarly stimulate stimulates stimulating stimulative stirringly straighten straightforward streamlined striking strikingly striving strong stronger strongest stunned stunning stunningly stupendous stupendously sturdier sturdy stylish stylishly stylized suave suavely sublime subsidize subsidized subsidizes subsidizing substantive succeed succeeded succeeding succeeds succes success successes successful successfully suffice sufficed suffices sufficient sufficiently suitable sumptuous sumptuously sumptuousness super superb superbly superior superiority supple support supported supporter supporting supportive supports supremacy supreme supremely supurb supurbly surmount surpass surreal survival survivor sustainability sustainable swank swankier swankiest swanky sweeping sweet sweeten sweetheart sweetly sweetness swift swiftness talent talented talents tantalize tantalizing tantalizingly tempt tempting temptingly tenacious tenaciously tenacity tender tenderly terrific terrifically thank thankful thinner thoughtful thoughtfully thoughtfulness thrift thrifty thrill thrilled thrilling thrillingly thrills thrive thriving thumb-up thumbs-up tickle tidy time-honored timely tingle titillate titillating titillatingly togetherness tolerable toll-free top top-notch top-quality topnotch tops tough tougher toughest traction tranquil tranquility transparent treasure tremendously trendy triumph triumphal triumphant triumphantly trivially trophy trouble-free trump trumpet trust trusted trusting trustingly trustworthiness trustworthy trusty truthful truthfully truthfulness twinkly ultra-crisp unabashed unabashedly unaffected unassailable unbeatable unbiased unbound uncomplicated unconditional undamaged undaunted understandable undisputable undisputably undisputed unencumbered unequivocal unequivocally unfazed unfettered unforgettable unity unlimited unmatched unparalleled unquestionable unquestionably unreal unrestricted unrivaled unselfish unwavering upbeat upgradable upgradeable upgraded upheld uphold uplift uplifting upliftingly upliftment upscale usable useable useful user-friendly user-replaceable valiant valiantly valor valuable variety venerate verifiable veritable versatile versatility vibrant vibrantly victorious victory viewable vigilance vigilant virtue virtuous virtuously visionary vivacious vivid vouch vouchsafe warm warmer warmhearted warmly warmth wealthy welcome well well-backlit well-balanced well-behaved well-being well-bred well-connected well-educated well-established well-informed well-intentioned well-known well-made well-managed well-mannered well-positioned well-received well-regarded well-rounded well-run well-wishers wellbeing whoa wholeheartedly wholesome whooa whoooa wieldy willing willingly willingness win windfall winnable winner winners winning wins wisdom wise wisely witty won wonder wonderful wonderfully wonderous wonderously wonders wondrous woo work workable worked works world-famous worth worth-while worthiness worthwhile worthy wow wowed wowing wows yay youthful zeal zenith zest zippy\""
   ]
  },
  {
   "cell_type": "code",
   "execution_count": 40,
   "id": "67baacea",
   "metadata": {},
   "outputs": [],
   "source": [
    "positive_words=text_to_list(postitive_text)"
   ]
  },
  {
   "cell_type": "code",
   "execution_count": 41,
   "id": "7238d548",
   "metadata": {},
   "outputs": [
    {
     "data": {
      "text/plain": [
       "2006"
      ]
     },
     "execution_count": 41,
     "metadata": {},
     "output_type": "execute_result"
    }
   ],
   "source": [
    "len(positive_words)"
   ]
  },
  {
   "cell_type": "code",
   "execution_count": 42,
   "id": "71caddcb",
   "metadata": {},
   "outputs": [],
   "source": [
    "#remove duplicate\n",
    "positive_words= list(set(positive_words))"
   ]
  },
  {
   "cell_type": "code",
   "execution_count": 43,
   "id": "047169f5",
   "metadata": {},
   "outputs": [
    {
     "data": {
      "text/plain": [
       "2006"
      ]
     },
     "execution_count": 43,
     "metadata": {},
     "output_type": "execute_result"
    }
   ],
   "source": [
    "len(positive_words)"
   ]
  },
  {
   "cell_type": "code",
   "execution_count": 44,
   "id": "078ffb12",
   "metadata": {},
   "outputs": [],
   "source": [
    "def remove_stop_words(text,stop_words):\n",
    "    words=text_to_list(text)\n",
    "    x=len(words)\n",
    "    filtered_words = [word for word in words if word not in stop_words]\n",
    "    y=len(filtered_words)\n",
    "    filtered_text = ' '.join(filtered_words)                            # Join the filtered words back into a string\n",
    "    return filtered_text,x,y"
   ]
  },
  {
   "cell_type": "code",
   "execution_count": 45,
   "id": "c1bfbdf2",
   "metadata": {},
   "outputs": [],
   "source": [
    "textN,len_before,len_after=remove_stop_words(text,stop_words)"
   ]
  },
  {
   "cell_type": "code",
   "execution_count": 46,
   "id": "0ac16aab",
   "metadata": {},
   "outputs": [
    {
     "data": {
      "text/plain": [
       "1085"
      ]
     },
     "execution_count": 46,
     "metadata": {},
     "output_type": "execute_result"
    }
   ],
   "source": [
    "len_before"
   ]
  },
  {
   "cell_type": "code",
   "execution_count": 47,
   "id": "ac43966d",
   "metadata": {},
   "outputs": [
    {
     "data": {
      "text/plain": [
       "616"
      ]
     },
     "execution_count": 47,
     "metadata": {},
     "output_type": "execute_result"
    }
   ],
   "source": [
    "len_after"
   ]
  },
  {
   "cell_type": "code",
   "execution_count": 48,
   "id": "314c3332",
   "metadata": {},
   "outputs": [
    {
     "data": {
      "text/html": [
       "<div>\n",
       "<style scoped>\n",
       "    .dataframe tbody tr th:only-of-type {\n",
       "        vertical-align: middle;\n",
       "    }\n",
       "\n",
       "    .dataframe tbody tr th {\n",
       "        vertical-align: top;\n",
       "    }\n",
       "\n",
       "    .dataframe thead th {\n",
       "        text-align: right;\n",
       "    }\n",
       "</style>\n",
       "<table border=\"1\" class=\"dataframe\">\n",
       "  <thead>\n",
       "    <tr style=\"text-align: right;\">\n",
       "      <th></th>\n",
       "      <th>URL_ID</th>\n",
       "      <th>URL</th>\n",
       "      <th>Title</th>\n",
       "      <th>Text</th>\n",
       "      <th>combine_title_text</th>\n",
       "    </tr>\n",
       "  </thead>\n",
       "  <tbody>\n",
       "    <tr>\n",
       "      <th>0</th>\n",
       "      <td>blackassign0001</td>\n",
       "      <td>https://insights.blackcoffer.com/rising-it-cit...</td>\n",
       "      <td>Rising IT cities and its impact on the economy...</td>\n",
       "      <td>We have seen a huge development and dependence...</td>\n",
       "      <td>Rising IT cities and its impact on the economy...</td>\n",
       "    </tr>\n",
       "    <tr>\n",
       "      <th>1</th>\n",
       "      <td>blackassign0002</td>\n",
       "      <td>https://insights.blackcoffer.com/rising-it-cit...</td>\n",
       "      <td>Rising IT Cities and Their Impact on the Econo...</td>\n",
       "      <td>Throughout history, from the industrial revolu...</td>\n",
       "      <td>Rising IT Cities and Their Impact on the Econo...</td>\n",
       "    </tr>\n",
       "    <tr>\n",
       "      <th>2</th>\n",
       "      <td>blackassign0003</td>\n",
       "      <td>https://insights.blackcoffer.com/internet-dema...</td>\n",
       "      <td>Internet Demand’s Evolution, Communication Imp...</td>\n",
       "      <td>Introduction In the span of just a few decades...</td>\n",
       "      <td>Internet Demand’s Evolution, Communication Imp...</td>\n",
       "    </tr>\n",
       "    <tr>\n",
       "      <th>3</th>\n",
       "      <td>blackassign0004</td>\n",
       "      <td>https://insights.blackcoffer.com/rise-of-cyber...</td>\n",
       "      <td>Rise of Cybercrime and its Effect in upcoming ...</td>\n",
       "      <td>The way we live, work, and communicate has unq...</td>\n",
       "      <td>Rise of Cybercrime and its Effect in upcoming ...</td>\n",
       "    </tr>\n",
       "    <tr>\n",
       "      <th>4</th>\n",
       "      <td>blackassign0005</td>\n",
       "      <td>https://insights.blackcoffer.com/ott-platform-...</td>\n",
       "      <td>OTT platform and its impact on the entertainme...</td>\n",
       "      <td>The year 2040 is poised to witness a continued...</td>\n",
       "      <td>OTT platform and its impact on the entertainme...</td>\n",
       "    </tr>\n",
       "  </tbody>\n",
       "</table>\n",
       "</div>"
      ],
      "text/plain": [
       "            URL_ID                                                URL  \\\n",
       "0  blackassign0001  https://insights.blackcoffer.com/rising-it-cit...   \n",
       "1  blackassign0002  https://insights.blackcoffer.com/rising-it-cit...   \n",
       "2  blackassign0003  https://insights.blackcoffer.com/internet-dema...   \n",
       "3  blackassign0004  https://insights.blackcoffer.com/rise-of-cyber...   \n",
       "4  blackassign0005  https://insights.blackcoffer.com/ott-platform-...   \n",
       "\n",
       "                                               Title  \\\n",
       "0  Rising IT cities and its impact on the economy...   \n",
       "1  Rising IT Cities and Their Impact on the Econo...   \n",
       "2  Internet Demand’s Evolution, Communication Imp...   \n",
       "3  Rise of Cybercrime and its Effect in upcoming ...   \n",
       "4  OTT platform and its impact on the entertainme...   \n",
       "\n",
       "                                                Text  \\\n",
       "0  We have seen a huge development and dependence...   \n",
       "1  Throughout history, from the industrial revolu...   \n",
       "2  Introduction In the span of just a few decades...   \n",
       "3  The way we live, work, and communicate has unq...   \n",
       "4  The year 2040 is poised to witness a continued...   \n",
       "\n",
       "                                  combine_title_text  \n",
       "0  Rising IT cities and its impact on the economy...  \n",
       "1  Rising IT Cities and Their Impact on the Econo...  \n",
       "2  Internet Demand’s Evolution, Communication Imp...  \n",
       "3  Rise of Cybercrime and its Effect in upcoming ...  \n",
       "4  OTT platform and its impact on the entertainme...  "
      ]
     },
     "execution_count": 48,
     "metadata": {},
     "output_type": "execute_result"
    }
   ],
   "source": [
    "df.head()"
   ]
  },
  {
   "cell_type": "code",
   "execution_count": 49,
   "id": "e16542fe",
   "metadata": {},
   "outputs": [],
   "source": [
    "def after_remove_stop_word(df,stop_words):\n",
    "        df['textN'] = df.apply(lambda x: remove_stop_words( x['combine_title_text'],stop_words)[0] ,axis=1)\n",
    "        return df"
   ]
  },
  {
   "cell_type": "code",
   "execution_count": 50,
   "id": "cd1251fe",
   "metadata": {},
   "outputs": [],
   "source": [
    "df=after_remove_stop_word(df,stop_words)"
   ]
  },
  {
   "cell_type": "code",
   "execution_count": 51,
   "id": "97a58e1c",
   "metadata": {},
   "outputs": [
    {
     "data": {
      "text/html": [
       "<div>\n",
       "<style scoped>\n",
       "    .dataframe tbody tr th:only-of-type {\n",
       "        vertical-align: middle;\n",
       "    }\n",
       "\n",
       "    .dataframe tbody tr th {\n",
       "        vertical-align: top;\n",
       "    }\n",
       "\n",
       "    .dataframe thead th {\n",
       "        text-align: right;\n",
       "    }\n",
       "</style>\n",
       "<table border=\"1\" class=\"dataframe\">\n",
       "  <thead>\n",
       "    <tr style=\"text-align: right;\">\n",
       "      <th></th>\n",
       "      <th>URL_ID</th>\n",
       "      <th>URL</th>\n",
       "      <th>Title</th>\n",
       "      <th>Text</th>\n",
       "      <th>combine_title_text</th>\n",
       "      <th>textN</th>\n",
       "    </tr>\n",
       "  </thead>\n",
       "  <tbody>\n",
       "    <tr>\n",
       "      <th>0</th>\n",
       "      <td>blackassign0001</td>\n",
       "      <td>https://insights.blackcoffer.com/rising-it-cit...</td>\n",
       "      <td>Rising IT cities and its impact on the economy...</td>\n",
       "      <td>We have seen a huge development and dependence...</td>\n",
       "      <td>Rising IT cities and its impact on the economy...</td>\n",
       "      <td>Rising cities impact economy, environment, inf...</td>\n",
       "    </tr>\n",
       "    <tr>\n",
       "      <th>1</th>\n",
       "      <td>blackassign0002</td>\n",
       "      <td>https://insights.blackcoffer.com/rising-it-cit...</td>\n",
       "      <td>Rising IT Cities and Their Impact on the Econo...</td>\n",
       "      <td>Throughout history, from the industrial revolu...</td>\n",
       "      <td>Rising IT Cities and Their Impact on the Econo...</td>\n",
       "      <td>Rising Their Impact Economy, Environment, Infr...</td>\n",
       "    </tr>\n",
       "    <tr>\n",
       "      <th>2</th>\n",
       "      <td>blackassign0003</td>\n",
       "      <td>https://insights.blackcoffer.com/internet-dema...</td>\n",
       "      <td>Internet Demand’s Evolution, Communication Imp...</td>\n",
       "      <td>Introduction In the span of just a few decades...</td>\n",
       "      <td>Internet Demand’s Evolution, Communication Imp...</td>\n",
       "      <td>Internet Demand’s Evolution, Communication Imp...</td>\n",
       "    </tr>\n",
       "    <tr>\n",
       "      <th>3</th>\n",
       "      <td>blackassign0004</td>\n",
       "      <td>https://insights.blackcoffer.com/rise-of-cyber...</td>\n",
       "      <td>Rise of Cybercrime and its Effect in upcoming ...</td>\n",
       "      <td>The way we live, work, and communicate has unq...</td>\n",
       "      <td>Rise of Cybercrime and its Effect in upcoming ...</td>\n",
       "      <td>Rise Cybercrime Effect upcoming Future The liv...</td>\n",
       "    </tr>\n",
       "    <tr>\n",
       "      <th>4</th>\n",
       "      <td>blackassign0005</td>\n",
       "      <td>https://insights.blackcoffer.com/ott-platform-...</td>\n",
       "      <td>OTT platform and its impact on the entertainme...</td>\n",
       "      <td>The year 2040 is poised to witness a continued...</td>\n",
       "      <td>OTT platform and its impact on the entertainme...</td>\n",
       "      <td>platform impact entertainment industry Future....</td>\n",
       "    </tr>\n",
       "  </tbody>\n",
       "</table>\n",
       "</div>"
      ],
      "text/plain": [
       "            URL_ID                                                URL  \\\n",
       "0  blackassign0001  https://insights.blackcoffer.com/rising-it-cit...   \n",
       "1  blackassign0002  https://insights.blackcoffer.com/rising-it-cit...   \n",
       "2  blackassign0003  https://insights.blackcoffer.com/internet-dema...   \n",
       "3  blackassign0004  https://insights.blackcoffer.com/rise-of-cyber...   \n",
       "4  blackassign0005  https://insights.blackcoffer.com/ott-platform-...   \n",
       "\n",
       "                                               Title  \\\n",
       "0  Rising IT cities and its impact on the economy...   \n",
       "1  Rising IT Cities and Their Impact on the Econo...   \n",
       "2  Internet Demand’s Evolution, Communication Imp...   \n",
       "3  Rise of Cybercrime and its Effect in upcoming ...   \n",
       "4  OTT platform and its impact on the entertainme...   \n",
       "\n",
       "                                                Text  \\\n",
       "0  We have seen a huge development and dependence...   \n",
       "1  Throughout history, from the industrial revolu...   \n",
       "2  Introduction In the span of just a few decades...   \n",
       "3  The way we live, work, and communicate has unq...   \n",
       "4  The year 2040 is poised to witness a continued...   \n",
       "\n",
       "                                  combine_title_text  \\\n",
       "0  Rising IT cities and its impact on the economy...   \n",
       "1  Rising IT Cities and Their Impact on the Econo...   \n",
       "2  Internet Demand’s Evolution, Communication Imp...   \n",
       "3  Rise of Cybercrime and its Effect in upcoming ...   \n",
       "4  OTT platform and its impact on the entertainme...   \n",
       "\n",
       "                                               textN  \n",
       "0  Rising cities impact economy, environment, inf...  \n",
       "1  Rising Their Impact Economy, Environment, Infr...  \n",
       "2  Internet Demand’s Evolution, Communication Imp...  \n",
       "3  Rise Cybercrime Effect upcoming Future The liv...  \n",
       "4  platform impact entertainment industry Future....  "
      ]
     },
     "execution_count": 51,
     "metadata": {},
     "output_type": "execute_result"
    }
   ],
   "source": [
    "df.head()"
   ]
  },
  {
   "cell_type": "code",
   "execution_count": 52,
   "id": "df4454a2",
   "metadata": {},
   "outputs": [],
   "source": [
    "# Filter out stop words from positive and negative words\n",
    "filtered_positive_words = set(positive_words) - set(stop_words)\n",
    "filtered_negative_words = set(negative_words) - set(stop_words)\n",
    "\n",
    "# Create the dictionary of positive and negative words\n",
    "word_sentiment_dict = {\n",
    "    word: 'positive' for word in filtered_positive_words\n",
    "}\n",
    "word_sentiment_dict.update({\n",
    "    word: 'negative' for word in filtered_negative_words\n",
    "})\n",
    "\n",
    "\n",
    "# print(word_sentiment_dict)\n"
   ]
  },
  {
   "cell_type": "code",
   "execution_count": 53,
   "id": "7b71ced3",
   "metadata": {},
   "outputs": [
    {
     "data": {
      "text/plain": [
       "6764"
      ]
     },
     "execution_count": 53,
     "metadata": {},
     "output_type": "execute_result"
    }
   ],
   "source": [
    "len(word_sentiment_dict)"
   ]
  },
  {
   "cell_type": "code",
   "execution_count": 54,
   "id": "af6164e2",
   "metadata": {},
   "outputs": [
    {
     "name": "stderr",
     "output_type": "stream",
     "text": [
      "[nltk_data] Downloading package punkt to\n",
      "[nltk_data]     C:\\Users\\user\\AppData\\Roaming\\nltk_data...\n",
      "[nltk_data]   Package punkt is already up-to-date!\n"
     ]
    },
    {
     "data": {
      "text/plain": [
       "True"
      ]
     },
     "execution_count": 54,
     "metadata": {},
     "output_type": "execute_result"
    }
   ],
   "source": [
    "import nltk\n",
    "\n",
    "# Download the tokenizer models\n",
    "nltk.download('punkt')"
   ]
  },
  {
   "cell_type": "code",
   "execution_count": 55,
   "id": "433089e0",
   "metadata": {},
   "outputs": [
    {
     "name": "stdout",
     "output_type": "stream",
     "text": [
      "['The', 'human', 'race', 'inventions', 'decide', 'future', '.', 'Many', 'scholars', 'Artificial']\n"
     ]
    }
   ],
   "source": [
    "from nltk.tokenize import word_tokenize\n",
    "\n",
    "# Example text\n",
    "\n",
    "# Tokenize the text\n",
    "tokens = word_tokenize(textN)\n",
    "\n",
    "# Print the tokens\n",
    "print(tokens[:10])"
   ]
  },
  {
   "cell_type": "code",
   "execution_count": 56,
   "id": "ea2ea5af",
   "metadata": {},
   "outputs": [
    {
     "data": {
      "text/plain": [
       "754"
      ]
     },
     "execution_count": 56,
     "metadata": {},
     "output_type": "execute_result"
    }
   ],
   "source": [
    "len(tokens)"
   ]
  },
  {
   "cell_type": "code",
   "execution_count": 57,
   "id": "cfd9c8f3",
   "metadata": {},
   "outputs": [],
   "source": [
    "def text_to_tokens(df):\n",
    "    df['tokens']=df.apply(lambda x:word_tokenize(x['textN']),axis=1)\n",
    "    return df"
   ]
  },
  {
   "cell_type": "code",
   "execution_count": 58,
   "id": "649ed858",
   "metadata": {},
   "outputs": [],
   "source": [
    "df=text_to_tokens(df)"
   ]
  },
  {
   "cell_type": "code",
   "execution_count": 59,
   "id": "cc0e07e0",
   "metadata": {},
   "outputs": [
    {
     "data": {
      "text/html": [
       "<div>\n",
       "<style scoped>\n",
       "    .dataframe tbody tr th:only-of-type {\n",
       "        vertical-align: middle;\n",
       "    }\n",
       "\n",
       "    .dataframe tbody tr th {\n",
       "        vertical-align: top;\n",
       "    }\n",
       "\n",
       "    .dataframe thead th {\n",
       "        text-align: right;\n",
       "    }\n",
       "</style>\n",
       "<table border=\"1\" class=\"dataframe\">\n",
       "  <thead>\n",
       "    <tr style=\"text-align: right;\">\n",
       "      <th></th>\n",
       "      <th>URL_ID</th>\n",
       "      <th>URL</th>\n",
       "      <th>Title</th>\n",
       "      <th>Text</th>\n",
       "      <th>combine_title_text</th>\n",
       "      <th>textN</th>\n",
       "      <th>tokens</th>\n",
       "    </tr>\n",
       "  </thead>\n",
       "  <tbody>\n",
       "    <tr>\n",
       "      <th>0</th>\n",
       "      <td>blackassign0001</td>\n",
       "      <td>https://insights.blackcoffer.com/rising-it-cit...</td>\n",
       "      <td>Rising IT cities and its impact on the economy...</td>\n",
       "      <td>We have seen a huge development and dependence...</td>\n",
       "      <td>Rising IT cities and its impact on the economy...</td>\n",
       "      <td>Rising cities impact economy, environment, inf...</td>\n",
       "      <td>[Rising, cities, impact, economy, ,, environme...</td>\n",
       "    </tr>\n",
       "    <tr>\n",
       "      <th>1</th>\n",
       "      <td>blackassign0002</td>\n",
       "      <td>https://insights.blackcoffer.com/rising-it-cit...</td>\n",
       "      <td>Rising IT Cities and Their Impact on the Econo...</td>\n",
       "      <td>Throughout history, from the industrial revolu...</td>\n",
       "      <td>Rising IT Cities and Their Impact on the Econo...</td>\n",
       "      <td>Rising Their Impact Economy, Environment, Infr...</td>\n",
       "      <td>[Rising, Their, Impact, Economy, ,, Environmen...</td>\n",
       "    </tr>\n",
       "    <tr>\n",
       "      <th>2</th>\n",
       "      <td>blackassign0003</td>\n",
       "      <td>https://insights.blackcoffer.com/internet-dema...</td>\n",
       "      <td>Internet Demand’s Evolution, Communication Imp...</td>\n",
       "      <td>Introduction In the span of just a few decades...</td>\n",
       "      <td>Internet Demand’s Evolution, Communication Imp...</td>\n",
       "      <td>Internet Demand’s Evolution, Communication Imp...</td>\n",
       "      <td>[Internet, Demand, ’, s, Evolution, ,, Communi...</td>\n",
       "    </tr>\n",
       "    <tr>\n",
       "      <th>3</th>\n",
       "      <td>blackassign0004</td>\n",
       "      <td>https://insights.blackcoffer.com/rise-of-cyber...</td>\n",
       "      <td>Rise of Cybercrime and its Effect in upcoming ...</td>\n",
       "      <td>The way we live, work, and communicate has unq...</td>\n",
       "      <td>Rise of Cybercrime and its Effect in upcoming ...</td>\n",
       "      <td>Rise Cybercrime Effect upcoming Future The liv...</td>\n",
       "      <td>[Rise, Cybercrime, Effect, upcoming, Future, T...</td>\n",
       "    </tr>\n",
       "    <tr>\n",
       "      <th>4</th>\n",
       "      <td>blackassign0005</td>\n",
       "      <td>https://insights.blackcoffer.com/ott-platform-...</td>\n",
       "      <td>OTT platform and its impact on the entertainme...</td>\n",
       "      <td>The year 2040 is poised to witness a continued...</td>\n",
       "      <td>OTT platform and its impact on the entertainme...</td>\n",
       "      <td>platform impact entertainment industry Future....</td>\n",
       "      <td>[platform, impact, entertainment, industry, Fu...</td>\n",
       "    </tr>\n",
       "  </tbody>\n",
       "</table>\n",
       "</div>"
      ],
      "text/plain": [
       "            URL_ID                                                URL  \\\n",
       "0  blackassign0001  https://insights.blackcoffer.com/rising-it-cit...   \n",
       "1  blackassign0002  https://insights.blackcoffer.com/rising-it-cit...   \n",
       "2  blackassign0003  https://insights.blackcoffer.com/internet-dema...   \n",
       "3  blackassign0004  https://insights.blackcoffer.com/rise-of-cyber...   \n",
       "4  blackassign0005  https://insights.blackcoffer.com/ott-platform-...   \n",
       "\n",
       "                                               Title  \\\n",
       "0  Rising IT cities and its impact on the economy...   \n",
       "1  Rising IT Cities and Their Impact on the Econo...   \n",
       "2  Internet Demand’s Evolution, Communication Imp...   \n",
       "3  Rise of Cybercrime and its Effect in upcoming ...   \n",
       "4  OTT platform and its impact on the entertainme...   \n",
       "\n",
       "                                                Text  \\\n",
       "0  We have seen a huge development and dependence...   \n",
       "1  Throughout history, from the industrial revolu...   \n",
       "2  Introduction In the span of just a few decades...   \n",
       "3  The way we live, work, and communicate has unq...   \n",
       "4  The year 2040 is poised to witness a continued...   \n",
       "\n",
       "                                  combine_title_text  \\\n",
       "0  Rising IT cities and its impact on the economy...   \n",
       "1  Rising IT Cities and Their Impact on the Econo...   \n",
       "2  Internet Demand’s Evolution, Communication Imp...   \n",
       "3  Rise of Cybercrime and its Effect in upcoming ...   \n",
       "4  OTT platform and its impact on the entertainme...   \n",
       "\n",
       "                                               textN  \\\n",
       "0  Rising cities impact economy, environment, inf...   \n",
       "1  Rising Their Impact Economy, Environment, Infr...   \n",
       "2  Internet Demand’s Evolution, Communication Imp...   \n",
       "3  Rise Cybercrime Effect upcoming Future The liv...   \n",
       "4  platform impact entertainment industry Future....   \n",
       "\n",
       "                                              tokens  \n",
       "0  [Rising, cities, impact, economy, ,, environme...  \n",
       "1  [Rising, Their, Impact, Economy, ,, Environmen...  \n",
       "2  [Internet, Demand, ’, s, Evolution, ,, Communi...  \n",
       "3  [Rise, Cybercrime, Effect, upcoming, Future, T...  \n",
       "4  [platform, impact, entertainment, industry, Fu...  "
      ]
     },
     "execution_count": 59,
     "metadata": {},
     "output_type": "execute_result"
    }
   ],
   "source": [
    "df.head()"
   ]
  },
  {
   "cell_type": "markdown",
   "id": "f7491efe",
   "metadata": {},
   "source": [
    "#### Positive Score: \n",
    "This score is calculated by assigning the value of +1 for each word if found in the Positive Dictionary and then adding up all the values"
   ]
  },
  {
   "cell_type": "code",
   "execution_count": 60,
   "id": "26f46446",
   "metadata": {},
   "outputs": [],
   "source": [
    "def positive_score(tokens):\n",
    "    count=0\n",
    "    for token in tokens:\n",
    "        if token in filtered_positive_words:\n",
    "            count=count+1\n",
    "    return count"
   ]
  },
  {
   "cell_type": "code",
   "execution_count": 61,
   "id": "f5ee9362",
   "metadata": {},
   "outputs": [
    {
     "data": {
      "text/plain": [
       "40"
      ]
     },
     "execution_count": 61,
     "metadata": {},
     "output_type": "execute_result"
    }
   ],
   "source": [
    "positive_score(tokens)"
   ]
  },
  {
   "cell_type": "markdown",
   "id": "a2d7295a",
   "metadata": {},
   "source": [
    "#### Negative Score: \n",
    "This score is calculated by assigning the value of -1 for each word if found in the Negative Dictionary and then adding up all the values. We multiply the score with -1 so that the score is a positive number."
   ]
  },
  {
   "cell_type": "code",
   "execution_count": 62,
   "id": "d17075b8",
   "metadata": {},
   "outputs": [],
   "source": [
    "def negative_score(tokens):\n",
    "    count=0\n",
    "    for token in tokens:\n",
    "        if token in filtered_negative_words:\n",
    "            count=count-1\n",
    "    return count*(-1)"
   ]
  },
  {
   "cell_type": "code",
   "execution_count": 63,
   "id": "08b35a8c",
   "metadata": {},
   "outputs": [
    {
     "data": {
      "text/plain": [
       "10"
      ]
     },
     "execution_count": 63,
     "metadata": {},
     "output_type": "execute_result"
    }
   ],
   "source": [
    "negative_score(tokens)"
   ]
  },
  {
   "cell_type": "markdown",
   "id": "5c462df7",
   "metadata": {},
   "source": [
    "#### Polarity Score:\n",
    "- This is the score that determines if a given text is positive or negative in nature. It is calculated by using the formula: \n",
    "- Polarity Score = (Positive Score – Negative Score)/ ((Positive Score + Negative Score) + 0.000001)\n",
    "- Range is from -1 to +1\n"
   ]
  },
  {
   "cell_type": "code",
   "execution_count": 64,
   "id": "fbb30f99",
   "metadata": {},
   "outputs": [],
   "source": [
    "def polarity_score(tokens):\n",
    "    Positive_Score=positive_score(tokens)\n",
    "    Negative_Score=negative_score(tokens)\n",
    "    return (Positive_Score - Negative_Score)/((Positive_Score + Negative_Score) + 0.000001)"
   ]
  },
  {
   "cell_type": "code",
   "execution_count": 65,
   "id": "2f97f109",
   "metadata": {},
   "outputs": [
    {
     "data": {
      "text/plain": [
       "0.5999999880000003"
      ]
     },
     "execution_count": 65,
     "metadata": {},
     "output_type": "execute_result"
    }
   ],
   "source": [
    "polarity_score(tokens)"
   ]
  },
  {
   "cell_type": "markdown",
   "id": "dc997097",
   "metadata": {},
   "source": [
    "### Subjectivity Score:\n",
    "- This is the score that determines if a given text is objective or subjective. It is calculated by using the formula: \n",
    "- Subjectivity Score = (Positive Score + Negative Score)/ ((Total Words after cleaning) + 0.000001)\n",
    "- Range is from 0 to +1\n"
   ]
  },
  {
   "cell_type": "code",
   "execution_count": 66,
   "id": "b8699a51",
   "metadata": {},
   "outputs": [],
   "source": [
    "def subjective_score(tokens):\n",
    "    Total_Words_after_cleaning=len(tokens)\n",
    "    Positive_Score=positive_score(tokens)\n",
    "    Negative_Score=negative_score(tokens)\n",
    "    return (Positive_Score + Negative_Score)/ ((Total_Words_after_cleaning) + 0.000001)"
   ]
  },
  {
   "cell_type": "code",
   "execution_count": 67,
   "id": "c102854b",
   "metadata": {},
   "outputs": [
    {
     "data": {
      "text/plain": [
       "0.06631299725953184"
      ]
     },
     "execution_count": 67,
     "metadata": {},
     "output_type": "execute_result"
    }
   ],
   "source": [
    "subjective_score(tokens)"
   ]
  },
  {
   "cell_type": "markdown",
   "id": "c7fa8387",
   "metadata": {},
   "source": [
    "## 2. Analysis of Readability\n",
    "- Analysis of Readability is calculated using the Gunning Fox index formula described below.\n",
    "- Average Sentence Length = the number of words / the number of sentences\n",
    "- Percentage of Complex words = the number of complex words / the number of words \n",
    "- Fog Index = 0.4 * (Average Sentence Length + Percentage of Complex words)"
   ]
  },
  {
   "cell_type": "code",
   "execution_count": 68,
   "id": "2177f8ea",
   "metadata": {},
   "outputs": [],
   "source": [
    "from nltk.tokenize import sent_tokenize as st"
   ]
  },
  {
   "cell_type": "code",
   "execution_count": 69,
   "id": "6193c73d",
   "metadata": {},
   "outputs": [
    {
     "data": {
      "text/plain": [
       "62"
      ]
     },
     "execution_count": 69,
     "metadata": {},
     "output_type": "execute_result"
    }
   ],
   "source": [
    "the_number_of_sentences=len(st(textN))\n",
    "the_number_of_sentences"
   ]
  },
  {
   "cell_type": "code",
   "execution_count": 70,
   "id": "b4edb74f",
   "metadata": {},
   "outputs": [
    {
     "data": {
      "text/plain": [
       "754"
      ]
     },
     "execution_count": 70,
     "metadata": {},
     "output_type": "execute_result"
    }
   ],
   "source": [
    "the_number_of_words=len(tokens)\n",
    "the_number_of_words"
   ]
  },
  {
   "cell_type": "code",
   "execution_count": 71,
   "id": "f4e1bc41",
   "metadata": {},
   "outputs": [],
   "source": [
    "def average_sentence_length(tokens,text):\n",
    "    the_number_of_sentences=len(st(text))\n",
    "    the_number_of_words=len(tokens)\n",
    "    return round(the_number_of_words / the_number_of_sentences,2)"
   ]
  },
  {
   "cell_type": "code",
   "execution_count": 72,
   "id": "3b960b75",
   "metadata": {},
   "outputs": [
    {
     "data": {
      "text/plain": [
       "12.16"
      ]
     },
     "execution_count": 72,
     "metadata": {},
     "output_type": "execute_result"
    }
   ],
   "source": [
    "average_sentence_length(tokens,textN)"
   ]
  },
  {
   "cell_type": "markdown",
   "id": "a45d29de",
   "metadata": {},
   "source": [
    "#### Complex Word Count\n",
    "Complex words are words in the text that contain more than two syllables."
   ]
  },
  {
   "cell_type": "code",
   "execution_count": 73,
   "id": "1cc6bd80",
   "metadata": {},
   "outputs": [],
   "source": [
    " #!pip install textstat"
   ]
  },
  {
   "cell_type": "code",
   "execution_count": 74,
   "id": "2a2e87ee",
   "metadata": {},
   "outputs": [],
   "source": [
    "def percentage_of_complex_words(tokens):\n",
    "    import textstat\n",
    "    complex_words = [word for word in tokens if textstat.syllable_count(word) > 2]\n",
    "    the_number_of_complex_words=len(complex_words)\n",
    "    the_number_of_words=len(tokens)\n",
    "    return round(the_number_of_complex_words / the_number_of_words,2)"
   ]
  },
  {
   "cell_type": "code",
   "execution_count": 75,
   "id": "ac36ec23",
   "metadata": {},
   "outputs": [
    {
     "data": {
      "text/plain": [
       "0.26"
      ]
     },
     "execution_count": 75,
     "metadata": {},
     "output_type": "execute_result"
    }
   ],
   "source": [
    "percentage_of_complex_words(tokens)"
   ]
  },
  {
   "cell_type": "code",
   "execution_count": 76,
   "id": "7a286db8",
   "metadata": {},
   "outputs": [],
   "source": [
    "def fog_index(tokens):\n",
    "    Average_Sentence_Length=average_sentence_length(tokens,textN)\n",
    "    Percentage_of_Complex_words=percentage_of_complex_words(tokens)\n",
    "    return round(0.4 * (Average_Sentence_Length + Percentage_of_Complex_words),2)"
   ]
  },
  {
   "cell_type": "code",
   "execution_count": 77,
   "id": "d08841e6",
   "metadata": {},
   "outputs": [
    {
     "data": {
      "text/plain": [
       "4.97"
      ]
     },
     "execution_count": 77,
     "metadata": {},
     "output_type": "execute_result"
    }
   ],
   "source": [
    "fog_index(tokens)"
   ]
  },
  {
   "cell_type": "markdown",
   "id": "aba45180",
   "metadata": {},
   "source": [
    "## 3. Average Number of Words Per Sentence\n",
    "- The formula for calculating is:\n",
    "- Average Number of Words Per Sentence = the total number of words / the total number of sentence"
   ]
  },
  {
   "cell_type": "code",
   "execution_count": 78,
   "id": "684d02e7",
   "metadata": {},
   "outputs": [],
   "source": [
    "def average_number_of_words_per_sentence(tokens,text):\n",
    "    the_number_of_words=len(tokens)\n",
    "    the_number_of_sentences=len(st(text))\n",
    "    return round(the_number_of_words / the_number_of_sentences,2)"
   ]
  },
  {
   "cell_type": "code",
   "execution_count": 79,
   "id": "098ef048",
   "metadata": {},
   "outputs": [
    {
     "data": {
      "text/plain": [
       "12.16"
      ]
     },
     "execution_count": 79,
     "metadata": {},
     "output_type": "execute_result"
    }
   ],
   "source": [
    "average_number_of_words_per_sentence(tokens,textN)"
   ]
  },
  {
   "cell_type": "markdown",
   "id": "1e8848f6",
   "metadata": {},
   "source": [
    "## 4.Complex Word Count\n",
    "Complex words are words in the text that contain more than two syllables.\n"
   ]
  },
  {
   "cell_type": "code",
   "execution_count": 80,
   "id": "c492b891",
   "metadata": {},
   "outputs": [],
   "source": [
    "import textstat\n",
    "def complex_word_count(tokens):\n",
    "    complex_words = [word for word in tokens if textstat.syllable_count(word) > 2]\n",
    "    return len(complex_words)"
   ]
  },
  {
   "cell_type": "code",
   "execution_count": 81,
   "id": "9080c970",
   "metadata": {},
   "outputs": [
    {
     "data": {
      "text/plain": [
       "196"
      ]
     },
     "execution_count": 81,
     "metadata": {},
     "output_type": "execute_result"
    }
   ],
   "source": [
    "complex_word_count(tokens)"
   ]
  },
  {
   "cell_type": "markdown",
   "id": "1df3e06b",
   "metadata": {},
   "source": [
    "## 5. Word Count\n",
    "- We count the total cleaned words present in the text by \n",
    "- removing the stop words (using stopwords class of nltk package).\n",
    "- removing any punctuations like ? ! , . from the word before counting.\n"
   ]
  },
  {
   "cell_type": "code",
   "execution_count": 82,
   "id": "fa9aaeab",
   "metadata": {},
   "outputs": [
    {
     "name": "stderr",
     "output_type": "stream",
     "text": [
      "[nltk_data] Downloading package stopwords to\n",
      "[nltk_data]     C:\\Users\\user\\AppData\\Roaming\\nltk_data...\n",
      "[nltk_data]   Package stopwords is already up-to-date!\n"
     ]
    },
    {
     "data": {
      "text/plain": [
       "True"
      ]
     },
     "execution_count": 82,
     "metadata": {},
     "output_type": "execute_result"
    }
   ],
   "source": [
    "from nltk.corpus import stopwords\n",
    "nltk.download('stopwords')"
   ]
  },
  {
   "cell_type": "code",
   "execution_count": 83,
   "id": "85ab3a2f",
   "metadata": {},
   "outputs": [
    {
     "data": {
      "text/plain": [
       "['i', 'me', 'my', 'myself', 'we', 'our', 'ours', 'ourselves', 'you', \"you're\"]"
      ]
     },
     "execution_count": 83,
     "metadata": {},
     "output_type": "execute_result"
    }
   ],
   "source": [
    "stopwords.words(\"english\")[:10]"
   ]
  },
  {
   "cell_type": "code",
   "execution_count": 84,
   "id": "763f2302",
   "metadata": {},
   "outputs": [
    {
     "data": {
      "text/plain": [
       "754"
      ]
     },
     "execution_count": 84,
     "metadata": {},
     "output_type": "execute_result"
    }
   ],
   "source": [
    "len(tokens)"
   ]
  },
  {
   "cell_type": "code",
   "execution_count": 85,
   "id": "4df9fd3e",
   "metadata": {},
   "outputs": [],
   "source": [
    "def remove_stop_words(tokens):\n",
    "    count=0\n",
    "    a=[]\n",
    "    for token in tokens:\n",
    "        if token not in stopwords.words(\"english\"):\n",
    "            a.append(token)\n",
    "            count=count+1\n",
    "    #textN = ' '.join(a)   # New text after cleaned\n",
    "    return a"
   ]
  },
  {
   "cell_type": "code",
   "execution_count": 86,
   "id": "1e66f620",
   "metadata": {},
   "outputs": [
    {
     "name": "stdout",
     "output_type": "stream",
     "text": [
      "['The', 'human', 'race', 'inventions', 'decide', 'future', '.', 'Many', 'scholars', 'Artificial']\n"
     ]
    }
   ],
   "source": [
    "print(remove_stop_words(tokens)[:10])"
   ]
  },
  {
   "cell_type": "code",
   "execution_count": 87,
   "id": "07d072bd",
   "metadata": {},
   "outputs": [],
   "source": [
    "words=remove_stop_words(tokens) # after removeing stop words"
   ]
  },
  {
   "cell_type": "code",
   "execution_count": 88,
   "id": "9e3bf12d",
   "metadata": {},
   "outputs": [],
   "source": [
    "def remove_punctuation(words):\n",
    "    import string\n",
    "    # Ensure you have the necessary NLTK data\n",
    "    nltk.download('punkt')\n",
    "    \n",
    "    # Define a translation table to remove punctuation\n",
    "    translator = str.maketrans('', '', string.punctuation)\n",
    "    # Remove punctuation from each word\n",
    "    words_list=[word.translate(translator) for word in words]\n",
    "    words=[x for x in words_list if x!='']\n",
    "    return words"
   ]
  },
  {
   "cell_type": "code",
   "execution_count": 89,
   "id": "e648cfb0",
   "metadata": {},
   "outputs": [
    {
     "data": {
      "text/plain": [
       "754"
      ]
     },
     "execution_count": 89,
     "metadata": {},
     "output_type": "execute_result"
    }
   ],
   "source": [
    "len(tokens)"
   ]
  },
  {
   "cell_type": "code",
   "execution_count": 90,
   "id": "bc092fb0",
   "metadata": {},
   "outputs": [
    {
     "name": "stderr",
     "output_type": "stream",
     "text": [
      "[nltk_data] Downloading package punkt to\n",
      "[nltk_data]     C:\\Users\\user\\AppData\\Roaming\\nltk_data...\n",
      "[nltk_data]   Package punkt is already up-to-date!\n"
     ]
    },
    {
     "data": {
      "text/plain": [
       "627"
      ]
     },
     "execution_count": 90,
     "metadata": {},
     "output_type": "execute_result"
    }
   ],
   "source": [
    "tokens=remove_punctuation(words)\n",
    "len(tokens)"
   ]
  },
  {
   "cell_type": "code",
   "execution_count": 91,
   "id": "740afca1",
   "metadata": {},
   "outputs": [],
   "source": [
    "def word_count(tokens):\n",
    "    words=remove_stop_words(tokens)\n",
    "    return len(remove_punctuation(words)),words"
   ]
  },
  {
   "cell_type": "code",
   "execution_count": 92,
   "id": "c9cae540",
   "metadata": {},
   "outputs": [
    {
     "name": "stderr",
     "output_type": "stream",
     "text": [
      "[nltk_data] Downloading package punkt to\n",
      "[nltk_data]     C:\\Users\\user\\AppData\\Roaming\\nltk_data...\n",
      "[nltk_data]   Package punkt is already up-to-date!\n"
     ]
    }
   ],
   "source": [
    "word,tokens=word_count(tokens)"
   ]
  },
  {
   "cell_type": "code",
   "execution_count": 93,
   "id": "dd623f4a",
   "metadata": {},
   "outputs": [
    {
     "data": {
      "text/plain": [
       "627"
      ]
     },
     "execution_count": 93,
     "metadata": {},
     "output_type": "execute_result"
    }
   ],
   "source": [
    "word"
   ]
  },
  {
   "cell_type": "code",
   "execution_count": 94,
   "id": "272e5ed0",
   "metadata": {},
   "outputs": [
    {
     "data": {
      "text/plain": [
       "['The', 'human', 'race', 'inventions', 'decide']"
      ]
     },
     "execution_count": 94,
     "metadata": {},
     "output_type": "execute_result"
    }
   ],
   "source": [
    "tokens[:5]"
   ]
  },
  {
   "cell_type": "markdown",
   "id": "6d0765b5",
   "metadata": {},
   "source": [
    "## 6 Syllable Count Per Word\n",
    "We count the number of Syllables in each word of the text by counting the vowels present in each word. We also handle some exceptions like words ending with \"es\",\"ed\" by not counting them as a syllable.\n"
   ]
  },
  {
   "cell_type": "code",
   "execution_count": 95,
   "id": "d4ca0827",
   "metadata": {},
   "outputs": [],
   "source": [
    "def count_syllable(word):\n",
    "    #Syllables in each word of the text by counting the vowels present in each word\n",
    "    vowels=\"aeiouAEIOU\"\n",
    "    count=0\n",
    "    if(word[-2:]=='es' or  word[-2:]=='ed'):\n",
    "        count=0                             # for es and ed the counts takes 1\n",
    "    else:\n",
    "        syllable_word=[char for char in word if char in vowels]\n",
    "        count=len(syllable_word)\n",
    "    \n",
    "    if count==0:\n",
    "        count=1\n",
    "    \n",
    "    return count"
   ]
  },
  {
   "cell_type": "code",
   "execution_count": 96,
   "id": "981e2cb8",
   "metadata": {},
   "outputs": [
    {
     "data": {
      "text/plain": [
       "3"
      ]
     },
     "execution_count": 96,
     "metadata": {},
     "output_type": "execute_result"
    }
   ],
   "source": [
    "count_syllable(\"dheeraj\")"
   ]
  },
  {
   "cell_type": "code",
   "execution_count": 97,
   "id": "b27c49fd",
   "metadata": {},
   "outputs": [],
   "source": [
    "import numpy as np"
   ]
  },
  {
   "cell_type": "code",
   "execution_count": 98,
   "id": "2e490b99",
   "metadata": {},
   "outputs": [],
   "source": [
    "def syllable_count_per_word(tokens):\n",
    "    # Get syllable count for each word\n",
    "    syllable_counts = {word: count_syllable(word) for word in tokens}\n",
    "    return round(np.mean(list(syllable_counts.values())),2)"
   ]
  },
  {
   "cell_type": "code",
   "execution_count": 99,
   "id": "7525bddf",
   "metadata": {},
   "outputs": [
    {
     "data": {
      "text/plain": [
       "2.46"
      ]
     },
     "execution_count": 99,
     "metadata": {},
     "output_type": "execute_result"
    }
   ],
   "source": [
    "syllable_count_per_word(tokens)"
   ]
  },
  {
   "cell_type": "markdown",
   "id": "fd28f704",
   "metadata": {},
   "source": [
    "## 7. Personal Pronouns\n",
    "To calculate Personal Pronouns mentioned in the text, we use regex to find the counts of the words - “I,” “we,” “my,” “ours,” and “us”. Special care is taken so that the country name US is not included in the list.\n"
   ]
  },
  {
   "cell_type": "code",
   "execution_count": 100,
   "id": "e2158af7",
   "metadata": {},
   "outputs": [
    {
     "name": "stdout",
     "output_type": "stream",
     "text": [
      "Total personal pronouns: 5\n"
     ]
    }
   ],
   "source": [
    "import re\n",
    "\n",
    "def count_personal_pronouns(text):\n",
    "    import re\n",
    "    # Define a list of personal pronouns to search for\n",
    "    pronouns = ['I', 'we', 'my', 'ours', 'us']\n",
    "    # Create a regex pattern to match these pronouns\n",
    "    # Use word boundaries (\\b) to match whole words only\n",
    "    pattern = r'\\b(?:' + '|'.join(pronouns) + r')\\b'\n",
    "    \n",
    "    # Find all matches in the text\n",
    "    matches = re.findall(pattern, text, flags=re.IGNORECASE)\n",
    "    \n",
    "    # Filter out the country name \"US\" specifically\n",
    "    matches = [match for match in matches if match!= 'US']\n",
    "    \n",
    "    # Return the total count of matches\n",
    "    return len(matches)\n",
    "\n",
    "# Get the total count of personal pronouns\n",
    "total_pronouns = count_personal_pronouns(text)\n",
    "print(f\"Total personal pronouns: {total_pronouns}\")"
   ]
  },
  {
   "cell_type": "markdown",
   "id": "6c315782",
   "metadata": {},
   "source": [
    "## 8 Average Word Length\n",
    "- Average Word Length is calculated by the formula:\n",
    "- Sum of the total number of characters in each word/Total number of words\n"
   ]
  },
  {
   "cell_type": "code",
   "execution_count": 101,
   "id": "3d08c5bc",
   "metadata": {},
   "outputs": [],
   "source": [
    "def average_word_length(tokens):\n",
    "    sum_of_total_no_of_char=sum([len(word) for word in tokens])\n",
    "    Total_number_of_words=len(tokens)\n",
    "    return round(sum_of_total_no_of_char/Total_number_of_words,2)"
   ]
  },
  {
   "cell_type": "code",
   "execution_count": 102,
   "id": "6a127c44",
   "metadata": {},
   "outputs": [
    {
     "data": {
      "text/plain": [
       "7.06"
      ]
     },
     "execution_count": 102,
     "metadata": {},
     "output_type": "execute_result"
    }
   ],
   "source": [
    "average_word_length(tokens)"
   ]
  },
  {
   "cell_type": "code",
   "execution_count": 103,
   "id": "8bd0a19b",
   "metadata": {},
   "outputs": [
    {
     "data": {
      "text/html": [
       "<div>\n",
       "<style scoped>\n",
       "    .dataframe tbody tr th:only-of-type {\n",
       "        vertical-align: middle;\n",
       "    }\n",
       "\n",
       "    .dataframe tbody tr th {\n",
       "        vertical-align: top;\n",
       "    }\n",
       "\n",
       "    .dataframe thead th {\n",
       "        text-align: right;\n",
       "    }\n",
       "</style>\n",
       "<table border=\"1\" class=\"dataframe\">\n",
       "  <thead>\n",
       "    <tr style=\"text-align: right;\">\n",
       "      <th></th>\n",
       "      <th>URL_ID</th>\n",
       "      <th>URL</th>\n",
       "      <th>Title</th>\n",
       "      <th>Text</th>\n",
       "      <th>combine_title_text</th>\n",
       "      <th>textN</th>\n",
       "      <th>tokens</th>\n",
       "    </tr>\n",
       "  </thead>\n",
       "  <tbody>\n",
       "    <tr>\n",
       "      <th>0</th>\n",
       "      <td>blackassign0001</td>\n",
       "      <td>https://insights.blackcoffer.com/rising-it-cit...</td>\n",
       "      <td>Rising IT cities and its impact on the economy...</td>\n",
       "      <td>We have seen a huge development and dependence...</td>\n",
       "      <td>Rising IT cities and its impact on the economy...</td>\n",
       "      <td>Rising cities impact economy, environment, inf...</td>\n",
       "      <td>[Rising, cities, impact, economy, ,, environme...</td>\n",
       "    </tr>\n",
       "    <tr>\n",
       "      <th>1</th>\n",
       "      <td>blackassign0002</td>\n",
       "      <td>https://insights.blackcoffer.com/rising-it-cit...</td>\n",
       "      <td>Rising IT Cities and Their Impact on the Econo...</td>\n",
       "      <td>Throughout history, from the industrial revolu...</td>\n",
       "      <td>Rising IT Cities and Their Impact on the Econo...</td>\n",
       "      <td>Rising Their Impact Economy, Environment, Infr...</td>\n",
       "      <td>[Rising, Their, Impact, Economy, ,, Environmen...</td>\n",
       "    </tr>\n",
       "    <tr>\n",
       "      <th>2</th>\n",
       "      <td>blackassign0003</td>\n",
       "      <td>https://insights.blackcoffer.com/internet-dema...</td>\n",
       "      <td>Internet Demand’s Evolution, Communication Imp...</td>\n",
       "      <td>Introduction In the span of just a few decades...</td>\n",
       "      <td>Internet Demand’s Evolution, Communication Imp...</td>\n",
       "      <td>Internet Demand’s Evolution, Communication Imp...</td>\n",
       "      <td>[Internet, Demand, ’, s, Evolution, ,, Communi...</td>\n",
       "    </tr>\n",
       "    <tr>\n",
       "      <th>3</th>\n",
       "      <td>blackassign0004</td>\n",
       "      <td>https://insights.blackcoffer.com/rise-of-cyber...</td>\n",
       "      <td>Rise of Cybercrime and its Effect in upcoming ...</td>\n",
       "      <td>The way we live, work, and communicate has unq...</td>\n",
       "      <td>Rise of Cybercrime and its Effect in upcoming ...</td>\n",
       "      <td>Rise Cybercrime Effect upcoming Future The liv...</td>\n",
       "      <td>[Rise, Cybercrime, Effect, upcoming, Future, T...</td>\n",
       "    </tr>\n",
       "    <tr>\n",
       "      <th>4</th>\n",
       "      <td>blackassign0005</td>\n",
       "      <td>https://insights.blackcoffer.com/ott-platform-...</td>\n",
       "      <td>OTT platform and its impact on the entertainme...</td>\n",
       "      <td>The year 2040 is poised to witness a continued...</td>\n",
       "      <td>OTT platform and its impact on the entertainme...</td>\n",
       "      <td>platform impact entertainment industry Future....</td>\n",
       "      <td>[platform, impact, entertainment, industry, Fu...</td>\n",
       "    </tr>\n",
       "  </tbody>\n",
       "</table>\n",
       "</div>"
      ],
      "text/plain": [
       "            URL_ID                                                URL  \\\n",
       "0  blackassign0001  https://insights.blackcoffer.com/rising-it-cit...   \n",
       "1  blackassign0002  https://insights.blackcoffer.com/rising-it-cit...   \n",
       "2  blackassign0003  https://insights.blackcoffer.com/internet-dema...   \n",
       "3  blackassign0004  https://insights.blackcoffer.com/rise-of-cyber...   \n",
       "4  blackassign0005  https://insights.blackcoffer.com/ott-platform-...   \n",
       "\n",
       "                                               Title  \\\n",
       "0  Rising IT cities and its impact on the economy...   \n",
       "1  Rising IT Cities and Their Impact on the Econo...   \n",
       "2  Internet Demand’s Evolution, Communication Imp...   \n",
       "3  Rise of Cybercrime and its Effect in upcoming ...   \n",
       "4  OTT platform and its impact on the entertainme...   \n",
       "\n",
       "                                                Text  \\\n",
       "0  We have seen a huge development and dependence...   \n",
       "1  Throughout history, from the industrial revolu...   \n",
       "2  Introduction In the span of just a few decades...   \n",
       "3  The way we live, work, and communicate has unq...   \n",
       "4  The year 2040 is poised to witness a continued...   \n",
       "\n",
       "                                  combine_title_text  \\\n",
       "0  Rising IT cities and its impact on the economy...   \n",
       "1  Rising IT Cities and Their Impact on the Econo...   \n",
       "2  Internet Demand’s Evolution, Communication Imp...   \n",
       "3  Rise of Cybercrime and its Effect in upcoming ...   \n",
       "4  OTT platform and its impact on the entertainme...   \n",
       "\n",
       "                                               textN  \\\n",
       "0  Rising cities impact economy, environment, inf...   \n",
       "1  Rising Their Impact Economy, Environment, Infr...   \n",
       "2  Internet Demand’s Evolution, Communication Imp...   \n",
       "3  Rise Cybercrime Effect upcoming Future The liv...   \n",
       "4  platform impact entertainment industry Future....   \n",
       "\n",
       "                                              tokens  \n",
       "0  [Rising, cities, impact, economy, ,, environme...  \n",
       "1  [Rising, Their, Impact, Economy, ,, Environmen...  \n",
       "2  [Internet, Demand, ’, s, Evolution, ,, Communi...  \n",
       "3  [Rise, Cybercrime, Effect, upcoming, Future, T...  \n",
       "4  [platform, impact, entertainment, industry, Fu...  "
      ]
     },
     "execution_count": 103,
     "metadata": {},
     "output_type": "execute_result"
    }
   ],
   "source": [
    "df.head()"
   ]
  },
  {
   "cell_type": "code",
   "execution_count": null,
   "id": "f7313369",
   "metadata": {},
   "outputs": [],
   "source": []
  },
  {
   "cell_type": "code",
   "execution_count": 104,
   "id": "966158ad",
   "metadata": {},
   "outputs": [],
   "source": [
    "import textstat\n",
    "class Text_Analysis:\n",
    "    \n",
    "    def __init__(self, text,tokens):\n",
    "        self.text = text\n",
    "        from nltk.tokenize import word_tokenize\n",
    "        self.tokens = word_tokenize(text)\n",
    "\n",
    "    def positive_score(self):\n",
    "        count=0\n",
    "        for token in self.tokens:\n",
    "            if token in filtered_positive_words:\n",
    "                count=count+1\n",
    "        return count\n",
    "    \n",
    "    def negative_score(self):\n",
    "        count=0\n",
    "        for token in self.tokens:\n",
    "            if token in filtered_negative_words:\n",
    "                count=count-1\n",
    "        return count*(-1)\n",
    "    \n",
    "    def polarity_score(self):\n",
    "        Positive_Score=positive_score(self.tokens)\n",
    "        Negative_Score=negative_score(self.tokens)\n",
    "        return round((Positive_Score - Negative_Score)/((Positive_Score + Negative_Score) + 0.000001),2)\n",
    "    \n",
    "    def subjective_score(self):\n",
    "        Total_Words_after_cleaning=len(self.tokens)\n",
    "        Positive_Score=positive_score(self.tokens)\n",
    "        Negative_Score=negative_score(self.tokens)\n",
    "        return round((Positive_Score + Negative_Score)/ ((Total_Words_after_cleaning) + 0.000001),2)\n",
    "    \n",
    "    def average_sentence_length(self):\n",
    "        the_number_of_sentences=len(st(self.text))\n",
    "        the_number_of_words=len(self.tokens)\n",
    "        return round(the_number_of_words / the_number_of_sentences,2)\n",
    "    \n",
    "    def percentage_of_complex_words(self):\n",
    "        import textstat\n",
    "        complex_words = [word for word in self.tokens if textstat.syllable_count(word) > 2]\n",
    "        the_number_of_complex_words=len(complex_words)\n",
    "        the_number_of_words=len(self.tokens)\n",
    "        return round(the_number_of_complex_words / the_number_of_words,4)*100\n",
    "    \n",
    "    def fog_index(self):\n",
    "        Average_Sentence_Length=average_sentence_length(self.tokens,self.text)\n",
    "        Percentage_of_Complex_words=percentage_of_complex_words(self.tokens)\n",
    "        return round(0.4 * (Average_Sentence_Length + Percentage_of_Complex_words),2)\n",
    "    \n",
    "    def average_number_of_words_per_sentence(self):\n",
    "        the_number_of_words=len(self.tokens)\n",
    "        the_number_of_sentences=len(st(self.text))\n",
    "        return round(the_number_of_words / the_number_of_sentences,2)\n",
    "    \n",
    "    def complex_word_count(self):\n",
    "        complex_words = [word for word in self.tokens if textstat.syllable_count(word) > 2]\n",
    "        return len(complex_words)\n",
    "    \n",
    "    def remove_stop_words(self):\n",
    "        from nltk.corpus import stopwords\n",
    "        nltk.download('stopwords')\n",
    "        count=0\n",
    "        a=[]\n",
    "        for token in self.tokens:\n",
    "            if token not in stopwords.words(\"english\"):\n",
    "                a.append(token)\n",
    "                count=count+1\n",
    "        #textN = ' '.join(a)   # New text after cleaned\n",
    "        return a\n",
    "    \n",
    "    def remove_punctuation(self):\n",
    "        import string\n",
    "        words=remove_stop_words(self.tokens)\n",
    "        # Ensure you have the necessary NLTK data\n",
    "        nltk.download('punkt')\n",
    "\n",
    "        # Define a translation table to remove punctuation\n",
    "        translator = str.maketrans('', '', string.punctuation)\n",
    "        # Remove punctuation from each word\n",
    "        words_list=[word.translate(translator) for word in words]\n",
    "        words=[x for x in words_list if x!='']\n",
    "        return words\n",
    "    \n",
    "    def word_count(self):\n",
    "        words=remove_punctuation(self.tokens)\n",
    "        return len(words),words\n",
    "    \n",
    "    def count_syllable(self):\n",
    "        #Syllables in each word of the text by counting the vowels present in each word\n",
    "        vowels=\"aeiouAEIOU\"\n",
    "        count=0\n",
    "        if(self.word[-2:]=='es' or  self.word[-2:]=='ed'):\n",
    "            count=0                             # for es and ed the counts takes 1\n",
    "        else:\n",
    "            syllable_word=[char for char in self.word if char in vowels]\n",
    "            count=len(syllable_word)\n",
    "\n",
    "        if count==0:\n",
    "            count=1\n",
    "\n",
    "        return count\n",
    "    \n",
    "    def syllable_count_per_word(self):\n",
    "        # Get syllable count for each word\n",
    "        syllable_counts = {word: count_syllable(word) for word in self.tokens}\n",
    "        return round(np.mean(list(syllable_counts.values())),2)\n",
    "    \n",
    "    def count_personal_pronouns(self):\n",
    "        import re\n",
    "        # Define a list of personal pronouns to search for\n",
    "        pronouns = ['I', 'we', 'my', 'ours', 'us']\n",
    "        # Create a regex pattern to match these pronouns\n",
    "        # Use word boundaries (\\b) to match whole words only\n",
    "        pattern = r'\\b(?:' + '|'.join(pronouns) + r')\\b'\n",
    "\n",
    "        # Find all matches in the text\n",
    "        matches = re.findall(pattern, self.text, flags=re.IGNORECASE)\n",
    "\n",
    "        # Filter out the country name \"US\" specifically\n",
    "        matches = [match for match in matches if match!= 'US']\n",
    "\n",
    "        # Return the total count of matches\n",
    "        return len(matches)\n",
    "    \n",
    "    def average_word_length(self):\n",
    "        sum_of_total_no_of_char=sum([len(word) for word in self.tokens])\n",
    "        Total_number_of_words=len(self.tokens)\n",
    "        df['AVG WORD LENGTH']=sum_of_total_no_of_char/Total_number_of_words\n",
    "        return round(sum_of_total_no_of_char/Total_number_of_words,2)"
   ]
  },
  {
   "cell_type": "code",
   "execution_count": 105,
   "id": "0c41601c",
   "metadata": {},
   "outputs": [
    {
     "data": {
      "text/html": [
       "<div>\n",
       "<style scoped>\n",
       "    .dataframe tbody tr th:only-of-type {\n",
       "        vertical-align: middle;\n",
       "    }\n",
       "\n",
       "    .dataframe tbody tr th {\n",
       "        vertical-align: top;\n",
       "    }\n",
       "\n",
       "    .dataframe thead th {\n",
       "        text-align: right;\n",
       "    }\n",
       "</style>\n",
       "<table border=\"1\" class=\"dataframe\">\n",
       "  <thead>\n",
       "    <tr style=\"text-align: right;\">\n",
       "      <th></th>\n",
       "      <th>URL_ID</th>\n",
       "      <th>URL</th>\n",
       "      <th>Title</th>\n",
       "      <th>Text</th>\n",
       "      <th>combine_title_text</th>\n",
       "      <th>textN</th>\n",
       "      <th>tokens</th>\n",
       "    </tr>\n",
       "  </thead>\n",
       "  <tbody>\n",
       "    <tr>\n",
       "      <th>43</th>\n",
       "      <td>blackassign0044</td>\n",
       "      <td>https://insights.blackcoffer.com/ai-tool-alexa...</td>\n",
       "      <td>How machine learning used in finance and banking?</td>\n",
       "      <td>Through AI tools like natural language process...</td>\n",
       "      <td>How machine learning used in finance and banki...</td>\n",
       "      <td>How machine learning finance banking? Through ...</td>\n",
       "      <td>[How, machine, learning, finance, banking, ?, ...</td>\n",
       "    </tr>\n",
       "    <tr>\n",
       "      <th>77</th>\n",
       "      <td>blackassign0078</td>\n",
       "      <td>https://insights.blackcoffer.com/impacts-of-co...</td>\n",
       "      <td>Impacts of COVID 19 on Vegetable Vendors</td>\n",
       "      <td>The COVID-19 pandemic has grown into one of th...</td>\n",
       "      <td>Impacts of COVID 19 on Vegetable Vendors The C...</td>\n",
       "      <td>Impacts COVID 19 Vegetable Vendors The COVID-1...</td>\n",
       "      <td>[Impacts, COVID, 19, Vegetable, Vendors, The, ...</td>\n",
       "    </tr>\n",
       "    <tr>\n",
       "      <th>95</th>\n",
       "      <td>blackassign0096</td>\n",
       "      <td>https://insights.blackcoffer.com/what-is-the-r...</td>\n",
       "      <td>Due to the COVID-19 the repercussion of the en...</td>\n",
       "      <td>Epidemics, in general, have both direct and in...</td>\n",
       "      <td>Due to the COVID-19 the repercussion of the en...</td>\n",
       "      <td>Due COVID-19 repercussion environment Epidemic...</td>\n",
       "      <td>[Due, COVID-19, repercussion, environment, Epi...</td>\n",
       "    </tr>\n",
       "    <tr>\n",
       "      <th>5</th>\n",
       "      <td>blackassign0006</td>\n",
       "      <td>https://insights.blackcoffer.com/the-rise-of-t...</td>\n",
       "      <td>The rise of the OTT platform and its impact on...</td>\n",
       "      <td>“Entertainment is giving people what they want...</td>\n",
       "      <td>The rise of the OTT platform and its impact on...</td>\n",
       "      <td>The rise platform impact entertainment industr...</td>\n",
       "      <td>[The, rise, platform, impact, entertainment, i...</td>\n",
       "    </tr>\n",
       "    <tr>\n",
       "      <th>81</th>\n",
       "      <td>blackassign0082</td>\n",
       "      <td>https://insights.blackcoffer.com/online-gaming...</td>\n",
       "      <td>Online gaming: Adolescent online gaming effect...</td>\n",
       "      <td>A video game is any software program that can ...</td>\n",
       "      <td>Online gaming: Adolescent online gaming effect...</td>\n",
       "      <td>Online gaming: Adolescent online gaming effect...</td>\n",
       "      <td>[Online, gaming, :, Adolescent, online, gaming...</td>\n",
       "    </tr>\n",
       "  </tbody>\n",
       "</table>\n",
       "</div>"
      ],
      "text/plain": [
       "             URL_ID                                                URL  \\\n",
       "43  blackassign0044  https://insights.blackcoffer.com/ai-tool-alexa...   \n",
       "77  blackassign0078  https://insights.blackcoffer.com/impacts-of-co...   \n",
       "95  blackassign0096  https://insights.blackcoffer.com/what-is-the-r...   \n",
       "5   blackassign0006  https://insights.blackcoffer.com/the-rise-of-t...   \n",
       "81  blackassign0082  https://insights.blackcoffer.com/online-gaming...   \n",
       "\n",
       "                                                Title  \\\n",
       "43  How machine learning used in finance and banking?   \n",
       "77           Impacts of COVID 19 on Vegetable Vendors   \n",
       "95  Due to the COVID-19 the repercussion of the en...   \n",
       "5   The rise of the OTT platform and its impact on...   \n",
       "81  Online gaming: Adolescent online gaming effect...   \n",
       "\n",
       "                                                 Text  \\\n",
       "43  Through AI tools like natural language process...   \n",
       "77  The COVID-19 pandemic has grown into one of th...   \n",
       "95  Epidemics, in general, have both direct and in...   \n",
       "5   “Entertainment is giving people what they want...   \n",
       "81  A video game is any software program that can ...   \n",
       "\n",
       "                                   combine_title_text  \\\n",
       "43  How machine learning used in finance and banki...   \n",
       "77  Impacts of COVID 19 on Vegetable Vendors The C...   \n",
       "95  Due to the COVID-19 the repercussion of the en...   \n",
       "5   The rise of the OTT platform and its impact on...   \n",
       "81  Online gaming: Adolescent online gaming effect...   \n",
       "\n",
       "                                                textN  \\\n",
       "43  How machine learning finance banking? Through ...   \n",
       "77  Impacts COVID 19 Vegetable Vendors The COVID-1...   \n",
       "95  Due COVID-19 repercussion environment Epidemic...   \n",
       "5   The rise platform impact entertainment industr...   \n",
       "81  Online gaming: Adolescent online gaming effect...   \n",
       "\n",
       "                                               tokens  \n",
       "43  [How, machine, learning, finance, banking, ?, ...  \n",
       "77  [Impacts, COVID, 19, Vegetable, Vendors, The, ...  \n",
       "95  [Due, COVID-19, repercussion, environment, Epi...  \n",
       "5   [The, rise, platform, impact, entertainment, i...  \n",
       "81  [Online, gaming, :, Adolescent, online, gaming...  "
      ]
     },
     "execution_count": 105,
     "metadata": {},
     "output_type": "execute_result"
    }
   ],
   "source": [
    "df.sample(5)"
   ]
  },
  {
   "cell_type": "code",
   "execution_count": 106,
   "id": "f4a1030f",
   "metadata": {},
   "outputs": [],
   "source": [
    "def fill_values(df):\n",
    "    \n",
    "    df['POSITIVE SCORE']=df.apply(lambda x: Text_Analysis(x.textN,x.tokens).positive_score() if x.Text!=\"No article content found\" else 0,axis=1)\n",
    "    df['NEGATIVE SCORE']=df.apply(lambda x: Text_Analysis(x.textN,x.tokens).negative_score() if x.Text!=\"No article content found\" else 0,axis=1)\n",
    "    df['POLARITY SCORE']=df.apply(lambda x: Text_Analysis(x.textN,x.tokens).polarity_score() if x.Text!=\"No article content found\" else 0,axis=1)\n",
    "    df['SUBJECTIVITY SCORE']=df.apply(lambda x: Text_Analysis(x.textN,x.tokens).subjective_score() if x.Text!=\"No article content found\" else 0,axis=1)\n",
    "    df['AVG SENTENCE LENGTH']=df.apply(lambda x: Text_Analysis(x.textN,x.tokens).average_sentence_length() if x.Text!=\"No article content found\" else 0,axis=1)\n",
    "    df['PERCENTAGE OF COMPLEX WORDS']=df.apply(lambda x: Text_Analysis(x.textN,x.tokens).percentage_of_complex_words() if x.Text!=\"No article content found\" else 0,axis=1)\n",
    "    df['FOG INDEX']=df.apply(lambda x: Text_Analysis(x.textN,x.tokens).fog_index() if x.Text!=\"No article content found\" else 0,axis=1)\n",
    "    df['AVG NUMBER OF WORDS PER SENTENCE']=df.apply(lambda x: Text_Analysis(x.textN,x.tokens).average_number_of_words_per_sentence() if x.Text!=\"No article content found\" else 0,axis=1)\n",
    "    df['COMPLEX WORD COUNT']=df.apply(lambda x: Text_Analysis(x.textN,x.tokens).complex_word_count() if x.Text!=\"No article content found\" else 0,axis=1)\n",
    "    df['WORD COUNT']=df.apply(lambda x: Text_Analysis(x.textN,x.tokens).word_count()[0] if x.Text!=\"No article content found\" else 0,axis=1)\n",
    "    df['SYLLABLE PER WORD']=df.apply(lambda x: Text_Analysis(x.textN,x.tokens).syllable_count_per_word() if x.Text!=\"No article content found\" else 0,axis=1)\n",
    "    df['PERSONAL PRONOUNS']=df.apply(lambda x: Text_Analysis(x.textN,x.tokens).count_personal_pronouns() if x.Text!=\"No article content found\" else 0,axis=1)\n",
    "    df['AVG WORD LENGTH']=df.apply(lambda x: Text_Analysis(x.textN,x.tokens).average_word_length() if x.Text!=\"No article content found\" else 0,axis=1)\n",
    "    \n",
    "    return df"
   ]
  },
  {
   "cell_type": "code",
   "execution_count": 107,
   "id": "ae1f5740",
   "metadata": {},
   "outputs": [
    {
     "name": "stderr",
     "output_type": "stream",
     "text": [
      "[nltk_data] Downloading package punkt to\n",
      "[nltk_data]     C:\\Users\\user\\AppData\\Roaming\\nltk_data...\n",
      "[nltk_data]   Package punkt is already up-to-date!\n",
      "[nltk_data] Downloading package punkt to\n",
      "[nltk_data]     C:\\Users\\user\\AppData\\Roaming\\nltk_data...\n",
      "[nltk_data]   Package punkt is already up-to-date!\n",
      "[nltk_data] Downloading package punkt to\n",
      "[nltk_data]     C:\\Users\\user\\AppData\\Roaming\\nltk_data...\n",
      "[nltk_data]   Package punkt is already up-to-date!\n",
      "[nltk_data] Downloading package punkt to\n",
      "[nltk_data]     C:\\Users\\user\\AppData\\Roaming\\nltk_data...\n",
      "[nltk_data]   Package punkt is already up-to-date!\n",
      "[nltk_data] Downloading package punkt to\n",
      "[nltk_data]     C:\\Users\\user\\AppData\\Roaming\\nltk_data...\n",
      "[nltk_data]   Package punkt is already up-to-date!\n",
      "[nltk_data] Downloading package punkt to\n",
      "[nltk_data]     C:\\Users\\user\\AppData\\Roaming\\nltk_data...\n",
      "[nltk_data]   Package punkt is already up-to-date!\n",
      "[nltk_data] Downloading package punkt to\n",
      "[nltk_data]     C:\\Users\\user\\AppData\\Roaming\\nltk_data...\n",
      "[nltk_data]   Package punkt is already up-to-date!\n",
      "[nltk_data] Downloading package punkt to\n",
      "[nltk_data]     C:\\Users\\user\\AppData\\Roaming\\nltk_data...\n",
      "[nltk_data]   Package punkt is already up-to-date!\n",
      "[nltk_data] Downloading package punkt to\n",
      "[nltk_data]     C:\\Users\\user\\AppData\\Roaming\\nltk_data...\n",
      "[nltk_data]   Package punkt is already up-to-date!\n",
      "[nltk_data] Downloading package punkt to\n",
      "[nltk_data]     C:\\Users\\user\\AppData\\Roaming\\nltk_data...\n",
      "[nltk_data]   Package punkt is already up-to-date!\n",
      "[nltk_data] Downloading package punkt to\n",
      "[nltk_data]     C:\\Users\\user\\AppData\\Roaming\\nltk_data...\n",
      "[nltk_data]   Package punkt is already up-to-date!\n",
      "[nltk_data] Downloading package punkt to\n",
      "[nltk_data]     C:\\Users\\user\\AppData\\Roaming\\nltk_data...\n",
      "[nltk_data]   Package punkt is already up-to-date!\n",
      "[nltk_data] Downloading package punkt to\n",
      "[nltk_data]     C:\\Users\\user\\AppData\\Roaming\\nltk_data...\n",
      "[nltk_data]   Package punkt is already up-to-date!\n",
      "[nltk_data] Downloading package punkt to\n",
      "[nltk_data]     C:\\Users\\user\\AppData\\Roaming\\nltk_data...\n",
      "[nltk_data]   Package punkt is already up-to-date!\n",
      "[nltk_data] Downloading package punkt to\n",
      "[nltk_data]     C:\\Users\\user\\AppData\\Roaming\\nltk_data...\n",
      "[nltk_data]   Package punkt is already up-to-date!\n",
      "[nltk_data] Downloading package punkt to\n",
      "[nltk_data]     C:\\Users\\user\\AppData\\Roaming\\nltk_data...\n",
      "[nltk_data]   Package punkt is already up-to-date!\n",
      "[nltk_data] Downloading package punkt to\n",
      "[nltk_data]     C:\\Users\\user\\AppData\\Roaming\\nltk_data...\n",
      "[nltk_data]   Package punkt is already up-to-date!\n",
      "[nltk_data] Downloading package punkt to\n",
      "[nltk_data]     C:\\Users\\user\\AppData\\Roaming\\nltk_data...\n",
      "[nltk_data]   Package punkt is already up-to-date!\n",
      "[nltk_data] Downloading package punkt to\n",
      "[nltk_data]     C:\\Users\\user\\AppData\\Roaming\\nltk_data...\n",
      "[nltk_data]   Package punkt is already up-to-date!\n",
      "[nltk_data] Downloading package punkt to\n",
      "[nltk_data]     C:\\Users\\user\\AppData\\Roaming\\nltk_data...\n",
      "[nltk_data]   Package punkt is already up-to-date!\n",
      "[nltk_data] Downloading package punkt to\n",
      "[nltk_data]     C:\\Users\\user\\AppData\\Roaming\\nltk_data...\n",
      "[nltk_data]   Package punkt is already up-to-date!\n",
      "[nltk_data] Downloading package punkt to\n",
      "[nltk_data]     C:\\Users\\user\\AppData\\Roaming\\nltk_data...\n",
      "[nltk_data]   Package punkt is already up-to-date!\n",
      "[nltk_data] Downloading package punkt to\n",
      "[nltk_data]     C:\\Users\\user\\AppData\\Roaming\\nltk_data...\n",
      "[nltk_data]   Package punkt is already up-to-date!\n",
      "[nltk_data] Downloading package punkt to\n",
      "[nltk_data]     C:\\Users\\user\\AppData\\Roaming\\nltk_data...\n",
      "[nltk_data]   Package punkt is already up-to-date!\n",
      "[nltk_data] Downloading package punkt to\n",
      "[nltk_data]     C:\\Users\\user\\AppData\\Roaming\\nltk_data...\n",
      "[nltk_data]   Package punkt is already up-to-date!\n",
      "[nltk_data] Downloading package punkt to\n",
      "[nltk_data]     C:\\Users\\user\\AppData\\Roaming\\nltk_data...\n",
      "[nltk_data]   Package punkt is already up-to-date!\n",
      "[nltk_data] Downloading package punkt to\n",
      "[nltk_data]     C:\\Users\\user\\AppData\\Roaming\\nltk_data...\n",
      "[nltk_data]   Package punkt is already up-to-date!\n",
      "[nltk_data] Downloading package punkt to\n",
      "[nltk_data]     C:\\Users\\user\\AppData\\Roaming\\nltk_data...\n",
      "[nltk_data]   Package punkt is already up-to-date!\n",
      "[nltk_data] Downloading package punkt to\n",
      "[nltk_data]     C:\\Users\\user\\AppData\\Roaming\\nltk_data...\n",
      "[nltk_data]   Package punkt is already up-to-date!\n",
      "[nltk_data] Downloading package punkt to\n",
      "[nltk_data]     C:\\Users\\user\\AppData\\Roaming\\nltk_data...\n",
      "[nltk_data]   Package punkt is already up-to-date!\n",
      "[nltk_data] Downloading package punkt to\n",
      "[nltk_data]     C:\\Users\\user\\AppData\\Roaming\\nltk_data...\n",
      "[nltk_data]   Package punkt is already up-to-date!\n",
      "[nltk_data] Downloading package punkt to\n",
      "[nltk_data]     C:\\Users\\user\\AppData\\Roaming\\nltk_data...\n",
      "[nltk_data]   Package punkt is already up-to-date!\n",
      "[nltk_data] Downloading package punkt to\n",
      "[nltk_data]     C:\\Users\\user\\AppData\\Roaming\\nltk_data...\n",
      "[nltk_data]   Package punkt is already up-to-date!\n",
      "[nltk_data] Downloading package punkt to\n",
      "[nltk_data]     C:\\Users\\user\\AppData\\Roaming\\nltk_data...\n",
      "[nltk_data]   Package punkt is already up-to-date!\n",
      "[nltk_data] Downloading package punkt to\n",
      "[nltk_data]     C:\\Users\\user\\AppData\\Roaming\\nltk_data...\n",
      "[nltk_data]   Package punkt is already up-to-date!\n",
      "[nltk_data] Downloading package punkt to\n",
      "[nltk_data]     C:\\Users\\user\\AppData\\Roaming\\nltk_data...\n",
      "[nltk_data]   Package punkt is already up-to-date!\n",
      "[nltk_data] Downloading package punkt to\n",
      "[nltk_data]     C:\\Users\\user\\AppData\\Roaming\\nltk_data...\n",
      "[nltk_data]   Package punkt is already up-to-date!\n",
      "[nltk_data] Downloading package punkt to\n",
      "[nltk_data]     C:\\Users\\user\\AppData\\Roaming\\nltk_data...\n",
      "[nltk_data]   Package punkt is already up-to-date!\n",
      "[nltk_data] Downloading package punkt to\n",
      "[nltk_data]     C:\\Users\\user\\AppData\\Roaming\\nltk_data...\n",
      "[nltk_data]   Package punkt is already up-to-date!\n",
      "[nltk_data] Downloading package punkt to\n",
      "[nltk_data]     C:\\Users\\user\\AppData\\Roaming\\nltk_data...\n",
      "[nltk_data]   Package punkt is already up-to-date!\n",
      "[nltk_data] Downloading package punkt to\n",
      "[nltk_data]     C:\\Users\\user\\AppData\\Roaming\\nltk_data...\n",
      "[nltk_data]   Package punkt is already up-to-date!\n",
      "[nltk_data] Downloading package punkt to\n",
      "[nltk_data]     C:\\Users\\user\\AppData\\Roaming\\nltk_data...\n",
      "[nltk_data]   Package punkt is already up-to-date!\n",
      "[nltk_data] Downloading package punkt to\n",
      "[nltk_data]     C:\\Users\\user\\AppData\\Roaming\\nltk_data...\n",
      "[nltk_data]   Package punkt is already up-to-date!\n",
      "[nltk_data] Downloading package punkt to\n",
      "[nltk_data]     C:\\Users\\user\\AppData\\Roaming\\nltk_data...\n",
      "[nltk_data]   Package punkt is already up-to-date!\n",
      "[nltk_data] Downloading package punkt to\n",
      "[nltk_data]     C:\\Users\\user\\AppData\\Roaming\\nltk_data...\n",
      "[nltk_data]   Package punkt is already up-to-date!\n",
      "[nltk_data] Downloading package punkt to\n",
      "[nltk_data]     C:\\Users\\user\\AppData\\Roaming\\nltk_data...\n",
      "[nltk_data]   Package punkt is already up-to-date!\n",
      "[nltk_data] Downloading package punkt to\n",
      "[nltk_data]     C:\\Users\\user\\AppData\\Roaming\\nltk_data...\n",
      "[nltk_data]   Package punkt is already up-to-date!\n",
      "[nltk_data] Downloading package punkt to\n",
      "[nltk_data]     C:\\Users\\user\\AppData\\Roaming\\nltk_data...\n",
      "[nltk_data]   Package punkt is already up-to-date!\n",
      "[nltk_data] Downloading package punkt to\n",
      "[nltk_data]     C:\\Users\\user\\AppData\\Roaming\\nltk_data...\n",
      "[nltk_data]   Package punkt is already up-to-date!\n",
      "[nltk_data] Downloading package punkt to\n",
      "[nltk_data]     C:\\Users\\user\\AppData\\Roaming\\nltk_data...\n",
      "[nltk_data]   Package punkt is already up-to-date!\n",
      "[nltk_data] Downloading package punkt to\n",
      "[nltk_data]     C:\\Users\\user\\AppData\\Roaming\\nltk_data...\n",
      "[nltk_data]   Package punkt is already up-to-date!\n",
      "[nltk_data] Downloading package punkt to\n",
      "[nltk_data]     C:\\Users\\user\\AppData\\Roaming\\nltk_data...\n",
      "[nltk_data]   Package punkt is already up-to-date!\n",
      "[nltk_data] Downloading package punkt to\n",
      "[nltk_data]     C:\\Users\\user\\AppData\\Roaming\\nltk_data...\n",
      "[nltk_data]   Package punkt is already up-to-date!\n",
      "[nltk_data] Downloading package punkt to\n",
      "[nltk_data]     C:\\Users\\user\\AppData\\Roaming\\nltk_data...\n",
      "[nltk_data]   Package punkt is already up-to-date!\n",
      "[nltk_data] Downloading package punkt to\n",
      "[nltk_data]     C:\\Users\\user\\AppData\\Roaming\\nltk_data...\n",
      "[nltk_data]   Package punkt is already up-to-date!\n",
      "[nltk_data] Downloading package punkt to\n",
      "[nltk_data]     C:\\Users\\user\\AppData\\Roaming\\nltk_data...\n",
      "[nltk_data]   Package punkt is already up-to-date!\n",
      "[nltk_data] Downloading package punkt to\n",
      "[nltk_data]     C:\\Users\\user\\AppData\\Roaming\\nltk_data...\n",
      "[nltk_data]   Package punkt is already up-to-date!\n",
      "[nltk_data] Downloading package punkt to\n",
      "[nltk_data]     C:\\Users\\user\\AppData\\Roaming\\nltk_data...\n",
      "[nltk_data]   Package punkt is already up-to-date!\n",
      "[nltk_data] Downloading package punkt to\n",
      "[nltk_data]     C:\\Users\\user\\AppData\\Roaming\\nltk_data...\n",
      "[nltk_data]   Package punkt is already up-to-date!\n",
      "[nltk_data] Downloading package punkt to\n",
      "[nltk_data]     C:\\Users\\user\\AppData\\Roaming\\nltk_data...\n",
      "[nltk_data]   Package punkt is already up-to-date!\n",
      "[nltk_data] Downloading package punkt to\n",
      "[nltk_data]     C:\\Users\\user\\AppData\\Roaming\\nltk_data...\n",
      "[nltk_data]   Package punkt is already up-to-date!\n",
      "[nltk_data] Downloading package punkt to\n",
      "[nltk_data]     C:\\Users\\user\\AppData\\Roaming\\nltk_data...\n",
      "[nltk_data]   Package punkt is already up-to-date!\n",
      "[nltk_data] Downloading package punkt to\n",
      "[nltk_data]     C:\\Users\\user\\AppData\\Roaming\\nltk_data...\n",
      "[nltk_data]   Package punkt is already up-to-date!\n",
      "[nltk_data] Downloading package punkt to\n",
      "[nltk_data]     C:\\Users\\user\\AppData\\Roaming\\nltk_data...\n",
      "[nltk_data]   Package punkt is already up-to-date!\n",
      "[nltk_data] Downloading package punkt to\n",
      "[nltk_data]     C:\\Users\\user\\AppData\\Roaming\\nltk_data...\n",
      "[nltk_data]   Package punkt is already up-to-date!\n",
      "[nltk_data] Downloading package punkt to\n",
      "[nltk_data]     C:\\Users\\user\\AppData\\Roaming\\nltk_data...\n",
      "[nltk_data]   Package punkt is already up-to-date!\n",
      "[nltk_data] Downloading package punkt to\n",
      "[nltk_data]     C:\\Users\\user\\AppData\\Roaming\\nltk_data...\n",
      "[nltk_data]   Package punkt is already up-to-date!\n",
      "[nltk_data] Downloading package punkt to\n",
      "[nltk_data]     C:\\Users\\user\\AppData\\Roaming\\nltk_data...\n",
      "[nltk_data]   Package punkt is already up-to-date!\n",
      "[nltk_data] Downloading package punkt to\n",
      "[nltk_data]     C:\\Users\\user\\AppData\\Roaming\\nltk_data...\n",
      "[nltk_data]   Package punkt is already up-to-date!\n",
      "[nltk_data] Downloading package punkt to\n",
      "[nltk_data]     C:\\Users\\user\\AppData\\Roaming\\nltk_data...\n",
      "[nltk_data]   Package punkt is already up-to-date!\n",
      "[nltk_data] Downloading package punkt to\n",
      "[nltk_data]     C:\\Users\\user\\AppData\\Roaming\\nltk_data...\n",
      "[nltk_data]   Package punkt is already up-to-date!\n"
     ]
    },
    {
     "name": "stderr",
     "output_type": "stream",
     "text": [
      "[nltk_data] Downloading package punkt to\n",
      "[nltk_data]     C:\\Users\\user\\AppData\\Roaming\\nltk_data...\n",
      "[nltk_data]   Package punkt is already up-to-date!\n",
      "[nltk_data] Downloading package punkt to\n",
      "[nltk_data]     C:\\Users\\user\\AppData\\Roaming\\nltk_data...\n",
      "[nltk_data]   Package punkt is already up-to-date!\n",
      "[nltk_data] Downloading package punkt to\n",
      "[nltk_data]     C:\\Users\\user\\AppData\\Roaming\\nltk_data...\n",
      "[nltk_data]   Package punkt is already up-to-date!\n",
      "[nltk_data] Downloading package punkt to\n",
      "[nltk_data]     C:\\Users\\user\\AppData\\Roaming\\nltk_data...\n",
      "[nltk_data]   Package punkt is already up-to-date!\n",
      "[nltk_data] Downloading package punkt to\n",
      "[nltk_data]     C:\\Users\\user\\AppData\\Roaming\\nltk_data...\n",
      "[nltk_data]   Package punkt is already up-to-date!\n",
      "[nltk_data] Downloading package punkt to\n",
      "[nltk_data]     C:\\Users\\user\\AppData\\Roaming\\nltk_data...\n",
      "[nltk_data]   Package punkt is already up-to-date!\n",
      "[nltk_data] Downloading package punkt to\n",
      "[nltk_data]     C:\\Users\\user\\AppData\\Roaming\\nltk_data...\n",
      "[nltk_data]   Package punkt is already up-to-date!\n",
      "[nltk_data] Downloading package punkt to\n",
      "[nltk_data]     C:\\Users\\user\\AppData\\Roaming\\nltk_data...\n",
      "[nltk_data]   Package punkt is already up-to-date!\n",
      "[nltk_data] Downloading package punkt to\n",
      "[nltk_data]     C:\\Users\\user\\AppData\\Roaming\\nltk_data...\n",
      "[nltk_data]   Package punkt is already up-to-date!\n",
      "[nltk_data] Downloading package punkt to\n",
      "[nltk_data]     C:\\Users\\user\\AppData\\Roaming\\nltk_data...\n",
      "[nltk_data]   Package punkt is already up-to-date!\n",
      "[nltk_data] Downloading package punkt to\n",
      "[nltk_data]     C:\\Users\\user\\AppData\\Roaming\\nltk_data...\n",
      "[nltk_data]   Package punkt is already up-to-date!\n",
      "[nltk_data] Downloading package punkt to\n",
      "[nltk_data]     C:\\Users\\user\\AppData\\Roaming\\nltk_data...\n",
      "[nltk_data]   Package punkt is already up-to-date!\n",
      "[nltk_data] Downloading package punkt to\n",
      "[nltk_data]     C:\\Users\\user\\AppData\\Roaming\\nltk_data...\n",
      "[nltk_data]   Package punkt is already up-to-date!\n",
      "[nltk_data] Downloading package punkt to\n",
      "[nltk_data]     C:\\Users\\user\\AppData\\Roaming\\nltk_data...\n",
      "[nltk_data]   Package punkt is already up-to-date!\n",
      "[nltk_data] Downloading package punkt to\n",
      "[nltk_data]     C:\\Users\\user\\AppData\\Roaming\\nltk_data...\n",
      "[nltk_data]   Package punkt is already up-to-date!\n",
      "[nltk_data] Downloading package punkt to\n",
      "[nltk_data]     C:\\Users\\user\\AppData\\Roaming\\nltk_data...\n",
      "[nltk_data]   Package punkt is already up-to-date!\n",
      "[nltk_data] Downloading package punkt to\n",
      "[nltk_data]     C:\\Users\\user\\AppData\\Roaming\\nltk_data...\n",
      "[nltk_data]   Package punkt is already up-to-date!\n",
      "[nltk_data] Downloading package punkt to\n",
      "[nltk_data]     C:\\Users\\user\\AppData\\Roaming\\nltk_data...\n",
      "[nltk_data]   Package punkt is already up-to-date!\n",
      "[nltk_data] Downloading package punkt to\n",
      "[nltk_data]     C:\\Users\\user\\AppData\\Roaming\\nltk_data...\n",
      "[nltk_data]   Package punkt is already up-to-date!\n",
      "[nltk_data] Downloading package punkt to\n",
      "[nltk_data]     C:\\Users\\user\\AppData\\Roaming\\nltk_data...\n",
      "[nltk_data]   Package punkt is already up-to-date!\n",
      "[nltk_data] Downloading package punkt to\n",
      "[nltk_data]     C:\\Users\\user\\AppData\\Roaming\\nltk_data...\n",
      "[nltk_data]   Package punkt is already up-to-date!\n",
      "[nltk_data] Downloading package punkt to\n",
      "[nltk_data]     C:\\Users\\user\\AppData\\Roaming\\nltk_data...\n",
      "[nltk_data]   Package punkt is already up-to-date!\n",
      "[nltk_data] Downloading package punkt to\n",
      "[nltk_data]     C:\\Users\\user\\AppData\\Roaming\\nltk_data...\n",
      "[nltk_data]   Package punkt is already up-to-date!\n",
      "[nltk_data] Downloading package punkt to\n",
      "[nltk_data]     C:\\Users\\user\\AppData\\Roaming\\nltk_data...\n",
      "[nltk_data]   Package punkt is already up-to-date!\n",
      "[nltk_data] Downloading package punkt to\n",
      "[nltk_data]     C:\\Users\\user\\AppData\\Roaming\\nltk_data...\n",
      "[nltk_data]   Package punkt is already up-to-date!\n",
      "[nltk_data] Downloading package punkt to\n",
      "[nltk_data]     C:\\Users\\user\\AppData\\Roaming\\nltk_data...\n",
      "[nltk_data]   Package punkt is already up-to-date!\n",
      "[nltk_data] Downloading package punkt to\n",
      "[nltk_data]     C:\\Users\\user\\AppData\\Roaming\\nltk_data...\n",
      "[nltk_data]   Package punkt is already up-to-date!\n"
     ]
    }
   ],
   "source": [
    "df=fill_values(df)"
   ]
  },
  {
   "cell_type": "code",
   "execution_count": 108,
   "id": "3d361512",
   "metadata": {},
   "outputs": [
    {
     "data": {
      "text/html": [
       "<div>\n",
       "<style scoped>\n",
       "    .dataframe tbody tr th:only-of-type {\n",
       "        vertical-align: middle;\n",
       "    }\n",
       "\n",
       "    .dataframe tbody tr th {\n",
       "        vertical-align: top;\n",
       "    }\n",
       "\n",
       "    .dataframe thead th {\n",
       "        text-align: right;\n",
       "    }\n",
       "</style>\n",
       "<table border=\"1\" class=\"dataframe\">\n",
       "  <thead>\n",
       "    <tr style=\"text-align: right;\">\n",
       "      <th></th>\n",
       "      <th>URL_ID</th>\n",
       "      <th>URL</th>\n",
       "      <th>Title</th>\n",
       "      <th>Text</th>\n",
       "      <th>combine_title_text</th>\n",
       "      <th>textN</th>\n",
       "      <th>tokens</th>\n",
       "      <th>POSITIVE SCORE</th>\n",
       "      <th>NEGATIVE SCORE</th>\n",
       "      <th>POLARITY SCORE</th>\n",
       "      <th>SUBJECTIVITY SCORE</th>\n",
       "      <th>AVG SENTENCE LENGTH</th>\n",
       "      <th>PERCENTAGE OF COMPLEX WORDS</th>\n",
       "      <th>FOG INDEX</th>\n",
       "      <th>AVG NUMBER OF WORDS PER SENTENCE</th>\n",
       "      <th>COMPLEX WORD COUNT</th>\n",
       "      <th>WORD COUNT</th>\n",
       "      <th>SYLLABLE PER WORD</th>\n",
       "      <th>PERSONAL PRONOUNS</th>\n",
       "      <th>AVG WORD LENGTH</th>\n",
       "    </tr>\n",
       "  </thead>\n",
       "  <tbody>\n",
       "    <tr>\n",
       "      <th>86</th>\n",
       "      <td>blackassign0087</td>\n",
       "      <td>https://insights.blackcoffer.com/impacts-of-co...</td>\n",
       "      <td>Impacts of COVID 19 on Streets Sides Food Stalls</td>\n",
       "      <td>Petty Entrepreneurs like Streetside Food Stall...</td>\n",
       "      <td>Impacts of COVID 19 on Streets Sides Food Stal...</td>\n",
       "      <td>Impacts COVID 19 Streets Sides Food Stalls Pet...</td>\n",
       "      <td>[Impacts, COVID, 19, Streets, Sides, Food, Sta...</td>\n",
       "      <td>28</td>\n",
       "      <td>30</td>\n",
       "      <td>-0.03</td>\n",
       "      <td>0.08</td>\n",
       "      <td>15.09</td>\n",
       "      <td>19.45</td>\n",
       "      <td>6.11</td>\n",
       "      <td>15.09</td>\n",
       "      <td>135</td>\n",
       "      <td>581</td>\n",
       "      <td>2.23</td>\n",
       "      <td>1</td>\n",
       "      <td>5.59</td>\n",
       "    </tr>\n",
       "    <tr>\n",
       "      <th>38</th>\n",
       "      <td>blackassign0039</td>\n",
       "      <td>https://insights.blackcoffer.com/how-to-protec...</td>\n",
       "      <td>How to protect future data and its privacy?</td>\n",
       "      <td>Before the internet, information was in some w...</td>\n",
       "      <td>How to protect future data and its privacy? Be...</td>\n",
       "      <td>How protect future data privacy? Before intern...</td>\n",
       "      <td>[How, protect, future, data, privacy, ?, Befor...</td>\n",
       "      <td>45</td>\n",
       "      <td>60</td>\n",
       "      <td>-0.14</td>\n",
       "      <td>0.07</td>\n",
       "      <td>15.62</td>\n",
       "      <td>19.42</td>\n",
       "      <td>6.32</td>\n",
       "      <td>15.62</td>\n",
       "      <td>276</td>\n",
       "      <td>1146</td>\n",
       "      <td>2.30</td>\n",
       "      <td>1</td>\n",
       "      <td>5.09</td>\n",
       "    </tr>\n",
       "    <tr>\n",
       "      <th>68</th>\n",
       "      <td>blackassign0069</td>\n",
       "      <td>https://insights.blackcoffer.com/can-you-be-gr...</td>\n",
       "      <td>Can You Be Great Leader Without Technical Expe...</td>\n",
       "      <td>The word “leadership” can bring to mind a vari...</td>\n",
       "      <td>Can You Be Great Leader Without Technical Expe...</td>\n",
       "      <td>Can You Be Great Leader Without Technical Expe...</td>\n",
       "      <td>[Can, You, Be, Great, Leader, Without, Technic...</td>\n",
       "      <td>29</td>\n",
       "      <td>6</td>\n",
       "      <td>0.66</td>\n",
       "      <td>0.13</td>\n",
       "      <td>16.69</td>\n",
       "      <td>26.97</td>\n",
       "      <td>6.78</td>\n",
       "      <td>16.69</td>\n",
       "      <td>72</td>\n",
       "      <td>225</td>\n",
       "      <td>2.38</td>\n",
       "      <td>0</td>\n",
       "      <td>5.33</td>\n",
       "    </tr>\n",
       "    <tr>\n",
       "      <th>34</th>\n",
       "      <td>blackassign0035</td>\n",
       "      <td>https://insights.blackcoffer.com/in-future-or-...</td>\n",
       "      <td>How humans and machines are evolving to work t...</td>\n",
       "      <td>In future or in upcoming years humans and mach...</td>\n",
       "      <td>How humans and machines are evolving to work t...</td>\n",
       "      <td>How humans machines evolving work together? In...</td>\n",
       "      <td>[How, humans, machines, evolving, work, togeth...</td>\n",
       "      <td>26</td>\n",
       "      <td>12</td>\n",
       "      <td>0.37</td>\n",
       "      <td>0.08</td>\n",
       "      <td>11.02</td>\n",
       "      <td>22.38</td>\n",
       "      <td>4.50</td>\n",
       "      <td>11.02</td>\n",
       "      <td>111</td>\n",
       "      <td>396</td>\n",
       "      <td>2.33</td>\n",
       "      <td>0</td>\n",
       "      <td>5.51</td>\n",
       "    </tr>\n",
       "    <tr>\n",
       "      <th>8</th>\n",
       "      <td>blackassign0009</td>\n",
       "      <td>https://insights.blackcoffer.com/rise-of-cyber...</td>\n",
       "      <td>Rise of Cybercrime and its Effect by the Year ...</td>\n",
       "      <td>As technology continues to advance, the world ...</td>\n",
       "      <td>Rise of Cybercrime and its Effect by the Year ...</td>\n",
       "      <td>Rise Cybercrime Effect Year 2040. As technolog...</td>\n",
       "      <td>[Rise, Cybercrime, Effect, Year, 2040, ., As, ...</td>\n",
       "      <td>35</td>\n",
       "      <td>49</td>\n",
       "      <td>-0.17</td>\n",
       "      <td>0.11</td>\n",
       "      <td>13.60</td>\n",
       "      <td>35.48</td>\n",
       "      <td>5.58</td>\n",
       "      <td>13.60</td>\n",
       "      <td>275</td>\n",
       "      <td>628</td>\n",
       "      <td>2.64</td>\n",
       "      <td>1</td>\n",
       "      <td>6.53</td>\n",
       "    </tr>\n",
       "  </tbody>\n",
       "</table>\n",
       "</div>"
      ],
      "text/plain": [
       "             URL_ID                                                URL  \\\n",
       "86  blackassign0087  https://insights.blackcoffer.com/impacts-of-co...   \n",
       "38  blackassign0039  https://insights.blackcoffer.com/how-to-protec...   \n",
       "68  blackassign0069  https://insights.blackcoffer.com/can-you-be-gr...   \n",
       "34  blackassign0035  https://insights.blackcoffer.com/in-future-or-...   \n",
       "8   blackassign0009  https://insights.blackcoffer.com/rise-of-cyber...   \n",
       "\n",
       "                                                Title  \\\n",
       "86   Impacts of COVID 19 on Streets Sides Food Stalls   \n",
       "38        How to protect future data and its privacy?   \n",
       "68  Can You Be Great Leader Without Technical Expe...   \n",
       "34  How humans and machines are evolving to work t...   \n",
       "8   Rise of Cybercrime and its Effect by the Year ...   \n",
       "\n",
       "                                                 Text  \\\n",
       "86  Petty Entrepreneurs like Streetside Food Stall...   \n",
       "38  Before the internet, information was in some w...   \n",
       "68  The word “leadership” can bring to mind a vari...   \n",
       "34  In future or in upcoming years humans and mach...   \n",
       "8   As technology continues to advance, the world ...   \n",
       "\n",
       "                                   combine_title_text  \\\n",
       "86  Impacts of COVID 19 on Streets Sides Food Stal...   \n",
       "38  How to protect future data and its privacy? Be...   \n",
       "68  Can You Be Great Leader Without Technical Expe...   \n",
       "34  How humans and machines are evolving to work t...   \n",
       "8   Rise of Cybercrime and its Effect by the Year ...   \n",
       "\n",
       "                                                textN  \\\n",
       "86  Impacts COVID 19 Streets Sides Food Stalls Pet...   \n",
       "38  How protect future data privacy? Before intern...   \n",
       "68  Can You Be Great Leader Without Technical Expe...   \n",
       "34  How humans machines evolving work together? In...   \n",
       "8   Rise Cybercrime Effect Year 2040. As technolog...   \n",
       "\n",
       "                                               tokens  POSITIVE SCORE  \\\n",
       "86  [Impacts, COVID, 19, Streets, Sides, Food, Sta...              28   \n",
       "38  [How, protect, future, data, privacy, ?, Befor...              45   \n",
       "68  [Can, You, Be, Great, Leader, Without, Technic...              29   \n",
       "34  [How, humans, machines, evolving, work, togeth...              26   \n",
       "8   [Rise, Cybercrime, Effect, Year, 2040, ., As, ...              35   \n",
       "\n",
       "    NEGATIVE SCORE  POLARITY SCORE  SUBJECTIVITY SCORE  AVG SENTENCE LENGTH  \\\n",
       "86              30           -0.03                0.08                15.09   \n",
       "38              60           -0.14                0.07                15.62   \n",
       "68               6            0.66                0.13                16.69   \n",
       "34              12            0.37                0.08                11.02   \n",
       "8               49           -0.17                0.11                13.60   \n",
       "\n",
       "    PERCENTAGE OF COMPLEX WORDS  FOG INDEX  AVG NUMBER OF WORDS PER SENTENCE  \\\n",
       "86                        19.45       6.11                             15.09   \n",
       "38                        19.42       6.32                             15.62   \n",
       "68                        26.97       6.78                             16.69   \n",
       "34                        22.38       4.50                             11.02   \n",
       "8                         35.48       5.58                             13.60   \n",
       "\n",
       "    COMPLEX WORD COUNT  WORD COUNT  SYLLABLE PER WORD  PERSONAL PRONOUNS  \\\n",
       "86                 135         581               2.23                  1   \n",
       "38                 276        1146               2.30                  1   \n",
       "68                  72         225               2.38                  0   \n",
       "34                 111         396               2.33                  0   \n",
       "8                  275         628               2.64                  1   \n",
       "\n",
       "    AVG WORD LENGTH  \n",
       "86             5.59  \n",
       "38             5.09  \n",
       "68             5.33  \n",
       "34             5.51  \n",
       "8              6.53  "
      ]
     },
     "execution_count": 108,
     "metadata": {},
     "output_type": "execute_result"
    }
   ],
   "source": [
    "df.sample(5)"
   ]
  },
  {
   "cell_type": "code",
   "execution_count": 109,
   "id": "d64a2bbd",
   "metadata": {},
   "outputs": [],
   "source": [
    "df=df.drop(columns=['Title','Text','textN','combine_title_text','tokens'])"
   ]
  },
  {
   "cell_type": "code",
   "execution_count": 110,
   "id": "9b22ace6",
   "metadata": {},
   "outputs": [
    {
     "data": {
      "text/html": [
       "<div>\n",
       "<style scoped>\n",
       "    .dataframe tbody tr th:only-of-type {\n",
       "        vertical-align: middle;\n",
       "    }\n",
       "\n",
       "    .dataframe tbody tr th {\n",
       "        vertical-align: top;\n",
       "    }\n",
       "\n",
       "    .dataframe thead th {\n",
       "        text-align: right;\n",
       "    }\n",
       "</style>\n",
       "<table border=\"1\" class=\"dataframe\">\n",
       "  <thead>\n",
       "    <tr style=\"text-align: right;\">\n",
       "      <th></th>\n",
       "      <th>URL_ID</th>\n",
       "      <th>URL</th>\n",
       "      <th>POSITIVE SCORE</th>\n",
       "      <th>NEGATIVE SCORE</th>\n",
       "      <th>POLARITY SCORE</th>\n",
       "      <th>SUBJECTIVITY SCORE</th>\n",
       "      <th>AVG SENTENCE LENGTH</th>\n",
       "      <th>PERCENTAGE OF COMPLEX WORDS</th>\n",
       "      <th>FOG INDEX</th>\n",
       "      <th>AVG NUMBER OF WORDS PER SENTENCE</th>\n",
       "      <th>COMPLEX WORD COUNT</th>\n",
       "      <th>WORD COUNT</th>\n",
       "      <th>SYLLABLE PER WORD</th>\n",
       "      <th>PERSONAL PRONOUNS</th>\n",
       "      <th>AVG WORD LENGTH</th>\n",
       "    </tr>\n",
       "  </thead>\n",
       "  <tbody>\n",
       "    <tr>\n",
       "      <th>0</th>\n",
       "      <td>blackassign0001</td>\n",
       "      <td>https://insights.blackcoffer.com/rising-it-cit...</td>\n",
       "      <td>6</td>\n",
       "      <td>1</td>\n",
       "      <td>0.71</td>\n",
       "      <td>0.03</td>\n",
       "      <td>9.32</td>\n",
       "      <td>17.60</td>\n",
       "      <td>3.80</td>\n",
       "      <td>9.32</td>\n",
       "      <td>41</td>\n",
       "      <td>194</td>\n",
       "      <td>2.10</td>\n",
       "      <td>3</td>\n",
       "      <td>5.17</td>\n",
       "    </tr>\n",
       "    <tr>\n",
       "      <th>1</th>\n",
       "      <td>blackassign0002</td>\n",
       "      <td>https://insights.blackcoffer.com/rising-it-cit...</td>\n",
       "      <td>55</td>\n",
       "      <td>31</td>\n",
       "      <td>0.28</td>\n",
       "      <td>0.08</td>\n",
       "      <td>13.17</td>\n",
       "      <td>29.19</td>\n",
       "      <td>5.38</td>\n",
       "      <td>13.17</td>\n",
       "      <td>296</td>\n",
       "      <td>826</td>\n",
       "      <td>2.48</td>\n",
       "      <td>1</td>\n",
       "      <td>5.93</td>\n",
       "    </tr>\n",
       "    <tr>\n",
       "      <th>2</th>\n",
       "      <td>blackassign0003</td>\n",
       "      <td>https://insights.blackcoffer.com/internet-dema...</td>\n",
       "      <td>37</td>\n",
       "      <td>23</td>\n",
       "      <td>0.23</td>\n",
       "      <td>0.07</td>\n",
       "      <td>14.77</td>\n",
       "      <td>36.52</td>\n",
       "      <td>6.06</td>\n",
       "      <td>14.77</td>\n",
       "      <td>302</td>\n",
       "      <td>681</td>\n",
       "      <td>2.65</td>\n",
       "      <td>0</td>\n",
       "      <td>6.64</td>\n",
       "    </tr>\n",
       "    <tr>\n",
       "      <th>3</th>\n",
       "      <td>blackassign0004</td>\n",
       "      <td>https://insights.blackcoffer.com/rise-of-cyber...</td>\n",
       "      <td>36</td>\n",
       "      <td>71</td>\n",
       "      <td>-0.33</td>\n",
       "      <td>0.13</td>\n",
       "      <td>15.59</td>\n",
       "      <td>36.23</td>\n",
       "      <td>6.38</td>\n",
       "      <td>15.59</td>\n",
       "      <td>288</td>\n",
       "      <td>645</td>\n",
       "      <td>2.70</td>\n",
       "      <td>1</td>\n",
       "      <td>6.49</td>\n",
       "    </tr>\n",
       "    <tr>\n",
       "      <th>4</th>\n",
       "      <td>blackassign0005</td>\n",
       "      <td>https://insights.blackcoffer.com/ott-platform-...</td>\n",
       "      <td>21</td>\n",
       "      <td>8</td>\n",
       "      <td>0.45</td>\n",
       "      <td>0.06</td>\n",
       "      <td>11.64</td>\n",
       "      <td>27.53</td>\n",
       "      <td>4.77</td>\n",
       "      <td>11.64</td>\n",
       "      <td>125</td>\n",
       "      <td>379</td>\n",
       "      <td>2.46</td>\n",
       "      <td>0</td>\n",
       "      <td>6.38</td>\n",
       "    </tr>\n",
       "  </tbody>\n",
       "</table>\n",
       "</div>"
      ],
      "text/plain": [
       "            URL_ID                                                URL  \\\n",
       "0  blackassign0001  https://insights.blackcoffer.com/rising-it-cit...   \n",
       "1  blackassign0002  https://insights.blackcoffer.com/rising-it-cit...   \n",
       "2  blackassign0003  https://insights.blackcoffer.com/internet-dema...   \n",
       "3  blackassign0004  https://insights.blackcoffer.com/rise-of-cyber...   \n",
       "4  blackassign0005  https://insights.blackcoffer.com/ott-platform-...   \n",
       "\n",
       "   POSITIVE SCORE  NEGATIVE SCORE  POLARITY SCORE  SUBJECTIVITY SCORE  \\\n",
       "0               6               1            0.71                0.03   \n",
       "1              55              31            0.28                0.08   \n",
       "2              37              23            0.23                0.07   \n",
       "3              36              71           -0.33                0.13   \n",
       "4              21               8            0.45                0.06   \n",
       "\n",
       "   AVG SENTENCE LENGTH  PERCENTAGE OF COMPLEX WORDS  FOG INDEX  \\\n",
       "0                 9.32                        17.60       3.80   \n",
       "1                13.17                        29.19       5.38   \n",
       "2                14.77                        36.52       6.06   \n",
       "3                15.59                        36.23       6.38   \n",
       "4                11.64                        27.53       4.77   \n",
       "\n",
       "   AVG NUMBER OF WORDS PER SENTENCE  COMPLEX WORD COUNT  WORD COUNT  \\\n",
       "0                              9.32                  41         194   \n",
       "1                             13.17                 296         826   \n",
       "2                             14.77                 302         681   \n",
       "3                             15.59                 288         645   \n",
       "4                             11.64                 125         379   \n",
       "\n",
       "   SYLLABLE PER WORD  PERSONAL PRONOUNS  AVG WORD LENGTH  \n",
       "0               2.10                  3             5.17  \n",
       "1               2.48                  1             5.93  \n",
       "2               2.65                  0             6.64  \n",
       "3               2.70                  1             6.49  \n",
       "4               2.46                  0             6.38  "
      ]
     },
     "execution_count": 110,
     "metadata": {},
     "output_type": "execute_result"
    }
   ],
   "source": [
    "df.head()"
   ]
  },
  {
   "cell_type": "code",
   "execution_count": 111,
   "id": "02582ee0",
   "metadata": {},
   "outputs": [],
   "source": [
    "df.to_excel('output.xlsx', index=False, sheet_name='Sheet1')"
   ]
  },
  {
   "cell_type": "code",
   "execution_count": 112,
   "id": "16b502f3",
   "metadata": {},
   "outputs": [
    {
     "data": {
      "text/html": [
       "<div>\n",
       "<style scoped>\n",
       "    .dataframe tbody tr th:only-of-type {\n",
       "        vertical-align: middle;\n",
       "    }\n",
       "\n",
       "    .dataframe tbody tr th {\n",
       "        vertical-align: top;\n",
       "    }\n",
       "\n",
       "    .dataframe thead th {\n",
       "        text-align: right;\n",
       "    }\n",
       "</style>\n",
       "<table border=\"1\" class=\"dataframe\">\n",
       "  <thead>\n",
       "    <tr style=\"text-align: right;\">\n",
       "      <th></th>\n",
       "      <th>URL_ID</th>\n",
       "      <th>URL</th>\n",
       "      <th>POSITIVE SCORE</th>\n",
       "      <th>NEGATIVE SCORE</th>\n",
       "      <th>POLARITY SCORE</th>\n",
       "      <th>SUBJECTIVITY SCORE</th>\n",
       "      <th>AVG SENTENCE LENGTH</th>\n",
       "      <th>PERCENTAGE OF COMPLEX WORDS</th>\n",
       "      <th>FOG INDEX</th>\n",
       "      <th>AVG NUMBER OF WORDS PER SENTENCE</th>\n",
       "      <th>COMPLEX WORD COUNT</th>\n",
       "      <th>WORD COUNT</th>\n",
       "      <th>SYLLABLE PER WORD</th>\n",
       "      <th>PERSONAL PRONOUNS</th>\n",
       "      <th>AVG WORD LENGTH</th>\n",
       "    </tr>\n",
       "  </thead>\n",
       "  <tbody>\n",
       "    <tr>\n",
       "      <th>0</th>\n",
       "      <td>blackassign0001</td>\n",
       "      <td>https://insights.blackcoffer.com/rising-it-cit...</td>\n",
       "      <td>6</td>\n",
       "      <td>1</td>\n",
       "      <td>0.71</td>\n",
       "      <td>0.03</td>\n",
       "      <td>9.32</td>\n",
       "      <td>17.60</td>\n",
       "      <td>3.80</td>\n",
       "      <td>9.32</td>\n",
       "      <td>41</td>\n",
       "      <td>194</td>\n",
       "      <td>2.10</td>\n",
       "      <td>3</td>\n",
       "      <td>5.17</td>\n",
       "    </tr>\n",
       "    <tr>\n",
       "      <th>1</th>\n",
       "      <td>blackassign0002</td>\n",
       "      <td>https://insights.blackcoffer.com/rising-it-cit...</td>\n",
       "      <td>55</td>\n",
       "      <td>31</td>\n",
       "      <td>0.28</td>\n",
       "      <td>0.08</td>\n",
       "      <td>13.17</td>\n",
       "      <td>29.19</td>\n",
       "      <td>5.38</td>\n",
       "      <td>13.17</td>\n",
       "      <td>296</td>\n",
       "      <td>826</td>\n",
       "      <td>2.48</td>\n",
       "      <td>1</td>\n",
       "      <td>5.93</td>\n",
       "    </tr>\n",
       "    <tr>\n",
       "      <th>2</th>\n",
       "      <td>blackassign0003</td>\n",
       "      <td>https://insights.blackcoffer.com/internet-dema...</td>\n",
       "      <td>37</td>\n",
       "      <td>23</td>\n",
       "      <td>0.23</td>\n",
       "      <td>0.07</td>\n",
       "      <td>14.77</td>\n",
       "      <td>36.52</td>\n",
       "      <td>6.06</td>\n",
       "      <td>14.77</td>\n",
       "      <td>302</td>\n",
       "      <td>681</td>\n",
       "      <td>2.65</td>\n",
       "      <td>0</td>\n",
       "      <td>6.64</td>\n",
       "    </tr>\n",
       "    <tr>\n",
       "      <th>3</th>\n",
       "      <td>blackassign0004</td>\n",
       "      <td>https://insights.blackcoffer.com/rise-of-cyber...</td>\n",
       "      <td>36</td>\n",
       "      <td>71</td>\n",
       "      <td>-0.33</td>\n",
       "      <td>0.13</td>\n",
       "      <td>15.59</td>\n",
       "      <td>36.23</td>\n",
       "      <td>6.38</td>\n",
       "      <td>15.59</td>\n",
       "      <td>288</td>\n",
       "      <td>645</td>\n",
       "      <td>2.70</td>\n",
       "      <td>1</td>\n",
       "      <td>6.49</td>\n",
       "    </tr>\n",
       "    <tr>\n",
       "      <th>4</th>\n",
       "      <td>blackassign0005</td>\n",
       "      <td>https://insights.blackcoffer.com/ott-platform-...</td>\n",
       "      <td>21</td>\n",
       "      <td>8</td>\n",
       "      <td>0.45</td>\n",
       "      <td>0.06</td>\n",
       "      <td>11.64</td>\n",
       "      <td>27.53</td>\n",
       "      <td>4.77</td>\n",
       "      <td>11.64</td>\n",
       "      <td>125</td>\n",
       "      <td>379</td>\n",
       "      <td>2.46</td>\n",
       "      <td>0</td>\n",
       "      <td>6.38</td>\n",
       "    </tr>\n",
       "  </tbody>\n",
       "</table>\n",
       "</div>"
      ],
      "text/plain": [
       "            URL_ID                                                URL  \\\n",
       "0  blackassign0001  https://insights.blackcoffer.com/rising-it-cit...   \n",
       "1  blackassign0002  https://insights.blackcoffer.com/rising-it-cit...   \n",
       "2  blackassign0003  https://insights.blackcoffer.com/internet-dema...   \n",
       "3  blackassign0004  https://insights.blackcoffer.com/rise-of-cyber...   \n",
       "4  blackassign0005  https://insights.blackcoffer.com/ott-platform-...   \n",
       "\n",
       "   POSITIVE SCORE  NEGATIVE SCORE  POLARITY SCORE  SUBJECTIVITY SCORE  \\\n",
       "0               6               1            0.71                0.03   \n",
       "1              55              31            0.28                0.08   \n",
       "2              37              23            0.23                0.07   \n",
       "3              36              71           -0.33                0.13   \n",
       "4              21               8            0.45                0.06   \n",
       "\n",
       "   AVG SENTENCE LENGTH  PERCENTAGE OF COMPLEX WORDS  FOG INDEX  \\\n",
       "0                 9.32                        17.60       3.80   \n",
       "1                13.17                        29.19       5.38   \n",
       "2                14.77                        36.52       6.06   \n",
       "3                15.59                        36.23       6.38   \n",
       "4                11.64                        27.53       4.77   \n",
       "\n",
       "   AVG NUMBER OF WORDS PER SENTENCE  COMPLEX WORD COUNT  WORD COUNT  \\\n",
       "0                              9.32                  41         194   \n",
       "1                             13.17                 296         826   \n",
       "2                             14.77                 302         681   \n",
       "3                             15.59                 288         645   \n",
       "4                             11.64                 125         379   \n",
       "\n",
       "   SYLLABLE PER WORD  PERSONAL PRONOUNS  AVG WORD LENGTH  \n",
       "0               2.10                  3             5.17  \n",
       "1               2.48                  1             5.93  \n",
       "2               2.65                  0             6.64  \n",
       "3               2.70                  1             6.49  \n",
       "4               2.46                  0             6.38  "
      ]
     },
     "execution_count": 112,
     "metadata": {},
     "output_type": "execute_result"
    }
   ],
   "source": [
    "df.head()"
   ]
  },
  {
   "cell_type": "code",
   "execution_count": null,
   "id": "edcd6697",
   "metadata": {},
   "outputs": [],
   "source": []
  },
  {
   "cell_type": "code",
   "execution_count": null,
   "id": "77531352",
   "metadata": {},
   "outputs": [],
   "source": []
  },
  {
   "cell_type": "code",
   "execution_count": null,
   "id": "50960bf6",
   "metadata": {},
   "outputs": [],
   "source": []
  },
  {
   "cell_type": "code",
   "execution_count": null,
   "id": "2bd121db",
   "metadata": {},
   "outputs": [],
   "source": []
  },
  {
   "cell_type": "code",
   "execution_count": null,
   "id": "23518de1",
   "metadata": {},
   "outputs": [],
   "source": []
  },
  {
   "cell_type": "code",
   "execution_count": null,
   "id": "f74b9086",
   "metadata": {},
   "outputs": [],
   "source": []
  },
  {
   "cell_type": "code",
   "execution_count": null,
   "id": "ad3dd2f2",
   "metadata": {},
   "outputs": [],
   "source": []
  },
  {
   "cell_type": "code",
   "execution_count": null,
   "id": "01c4c801",
   "metadata": {},
   "outputs": [],
   "source": []
  },
  {
   "cell_type": "code",
   "execution_count": null,
   "id": "be40fa50",
   "metadata": {},
   "outputs": [],
   "source": []
  },
  {
   "cell_type": "code",
   "execution_count": null,
   "id": "f6402d0a",
   "metadata": {},
   "outputs": [],
   "source": []
  },
  {
   "cell_type": "code",
   "execution_count": null,
   "id": "65411519",
   "metadata": {},
   "outputs": [],
   "source": []
  },
  {
   "cell_type": "code",
   "execution_count": null,
   "id": "896086ad",
   "metadata": {},
   "outputs": [],
   "source": []
  },
  {
   "cell_type": "code",
   "execution_count": null,
   "id": "d4361ff0",
   "metadata": {},
   "outputs": [],
   "source": []
  },
  {
   "cell_type": "code",
   "execution_count": null,
   "id": "2a42d9f3",
   "metadata": {},
   "outputs": [],
   "source": []
  },
  {
   "cell_type": "code",
   "execution_count": null,
   "id": "047964c4",
   "metadata": {},
   "outputs": [],
   "source": []
  },
  {
   "cell_type": "code",
   "execution_count": null,
   "id": "24a2a734",
   "metadata": {},
   "outputs": [],
   "source": []
  },
  {
   "cell_type": "code",
   "execution_count": null,
   "id": "14cee9ad",
   "metadata": {},
   "outputs": [],
   "source": []
  },
  {
   "cell_type": "code",
   "execution_count": null,
   "id": "0ceafefb",
   "metadata": {},
   "outputs": [],
   "source": []
  },
  {
   "cell_type": "code",
   "execution_count": null,
   "id": "f36ff18e",
   "metadata": {},
   "outputs": [],
   "source": []
  },
  {
   "cell_type": "code",
   "execution_count": null,
   "id": "a624f986",
   "metadata": {},
   "outputs": [],
   "source": []
  },
  {
   "cell_type": "code",
   "execution_count": null,
   "id": "e85db027",
   "metadata": {},
   "outputs": [],
   "source": []
  },
  {
   "cell_type": "code",
   "execution_count": null,
   "id": "1cdfe2cf",
   "metadata": {},
   "outputs": [],
   "source": []
  },
  {
   "cell_type": "code",
   "execution_count": null,
   "id": "9172b1b6",
   "metadata": {},
   "outputs": [],
   "source": []
  },
  {
   "cell_type": "code",
   "execution_count": null,
   "id": "eeb52d57",
   "metadata": {},
   "outputs": [],
   "source": []
  },
  {
   "cell_type": "code",
   "execution_count": null,
   "id": "6278e778",
   "metadata": {},
   "outputs": [],
   "source": []
  },
  {
   "cell_type": "code",
   "execution_count": null,
   "id": "fb3dba3d",
   "metadata": {},
   "outputs": [],
   "source": []
  },
  {
   "cell_type": "code",
   "execution_count": null,
   "id": "4a6db721",
   "metadata": {},
   "outputs": [],
   "source": []
  },
  {
   "cell_type": "code",
   "execution_count": null,
   "id": "5b50057e",
   "metadata": {},
   "outputs": [],
   "source": []
  },
  {
   "cell_type": "code",
   "execution_count": null,
   "id": "8bd76476",
   "metadata": {},
   "outputs": [],
   "source": []
  },
  {
   "cell_type": "code",
   "execution_count": null,
   "id": "7f424d62",
   "metadata": {},
   "outputs": [],
   "source": []
  },
  {
   "cell_type": "code",
   "execution_count": null,
   "id": "21e89bed",
   "metadata": {},
   "outputs": [],
   "source": []
  },
  {
   "cell_type": "code",
   "execution_count": null,
   "id": "06bb0466",
   "metadata": {},
   "outputs": [],
   "source": []
  },
  {
   "cell_type": "code",
   "execution_count": null,
   "id": "e6c19575",
   "metadata": {},
   "outputs": [],
   "source": []
  },
  {
   "cell_type": "code",
   "execution_count": null,
   "id": "8706da98",
   "metadata": {},
   "outputs": [],
   "source": []
  },
  {
   "cell_type": "code",
   "execution_count": null,
   "id": "8129cbd3",
   "metadata": {},
   "outputs": [],
   "source": []
  },
  {
   "cell_type": "code",
   "execution_count": null,
   "id": "f52fad5f",
   "metadata": {},
   "outputs": [],
   "source": []
  },
  {
   "cell_type": "code",
   "execution_count": null,
   "id": "c106671e",
   "metadata": {},
   "outputs": [],
   "source": []
  },
  {
   "cell_type": "code",
   "execution_count": null,
   "id": "1b6d06a3",
   "metadata": {},
   "outputs": [],
   "source": []
  },
  {
   "cell_type": "code",
   "execution_count": null,
   "id": "bf01fef9",
   "metadata": {},
   "outputs": [],
   "source": []
  },
  {
   "cell_type": "code",
   "execution_count": null,
   "id": "a7579b95",
   "metadata": {},
   "outputs": [],
   "source": []
  },
  {
   "cell_type": "code",
   "execution_count": null,
   "id": "806043ad",
   "metadata": {},
   "outputs": [],
   "source": []
  },
  {
   "cell_type": "code",
   "execution_count": null,
   "id": "00fc6463",
   "metadata": {},
   "outputs": [],
   "source": []
  },
  {
   "cell_type": "code",
   "execution_count": null,
   "id": "eec3faa2",
   "metadata": {},
   "outputs": [],
   "source": []
  },
  {
   "cell_type": "code",
   "execution_count": null,
   "id": "41dec9e6",
   "metadata": {},
   "outputs": [],
   "source": []
  },
  {
   "cell_type": "code",
   "execution_count": null,
   "id": "064c2682",
   "metadata": {},
   "outputs": [],
   "source": []
  },
  {
   "cell_type": "code",
   "execution_count": null,
   "id": "0d739598",
   "metadata": {},
   "outputs": [],
   "source": []
  },
  {
   "cell_type": "code",
   "execution_count": null,
   "id": "42788313",
   "metadata": {},
   "outputs": [],
   "source": []
  },
  {
   "cell_type": "code",
   "execution_count": null,
   "id": "0d5d1bb2",
   "metadata": {},
   "outputs": [],
   "source": []
  },
  {
   "cell_type": "code",
   "execution_count": null,
   "id": "565bab3a",
   "metadata": {},
   "outputs": [],
   "source": []
  },
  {
   "cell_type": "code",
   "execution_count": null,
   "id": "87b03782",
   "metadata": {},
   "outputs": [],
   "source": []
  },
  {
   "cell_type": "code",
   "execution_count": null,
   "id": "984abbde",
   "metadata": {},
   "outputs": [],
   "source": []
  },
  {
   "cell_type": "code",
   "execution_count": null,
   "id": "a0169af7",
   "metadata": {},
   "outputs": [],
   "source": []
  },
  {
   "cell_type": "code",
   "execution_count": null,
   "id": "796544b4",
   "metadata": {},
   "outputs": [],
   "source": []
  },
  {
   "cell_type": "code",
   "execution_count": null,
   "id": "7e56bc2b",
   "metadata": {},
   "outputs": [],
   "source": []
  },
  {
   "cell_type": "code",
   "execution_count": null,
   "id": "da2be430",
   "metadata": {},
   "outputs": [],
   "source": []
  },
  {
   "cell_type": "code",
   "execution_count": null,
   "id": "7950ca08",
   "metadata": {},
   "outputs": [],
   "source": []
  },
  {
   "cell_type": "code",
   "execution_count": null,
   "id": "c91aa855",
   "metadata": {},
   "outputs": [],
   "source": []
  },
  {
   "cell_type": "code",
   "execution_count": null,
   "id": "4a51c64d",
   "metadata": {},
   "outputs": [],
   "source": []
  },
  {
   "cell_type": "code",
   "execution_count": null,
   "id": "ac594fd7",
   "metadata": {},
   "outputs": [],
   "source": []
  },
  {
   "cell_type": "code",
   "execution_count": null,
   "id": "5aea2e0f",
   "metadata": {},
   "outputs": [],
   "source": []
  },
  {
   "cell_type": "code",
   "execution_count": null,
   "id": "bc4b6e21",
   "metadata": {},
   "outputs": [],
   "source": []
  },
  {
   "cell_type": "code",
   "execution_count": null,
   "id": "6df8ea11",
   "metadata": {},
   "outputs": [],
   "source": []
  },
  {
   "cell_type": "code",
   "execution_count": null,
   "id": "8d3bc4af",
   "metadata": {},
   "outputs": [],
   "source": []
  },
  {
   "cell_type": "code",
   "execution_count": null,
   "id": "f1bef527",
   "metadata": {},
   "outputs": [],
   "source": []
  },
  {
   "cell_type": "code",
   "execution_count": null,
   "id": "c612d412",
   "metadata": {},
   "outputs": [],
   "source": []
  },
  {
   "cell_type": "code",
   "execution_count": null,
   "id": "a30f7971",
   "metadata": {},
   "outputs": [],
   "source": []
  },
  {
   "cell_type": "code",
   "execution_count": null,
   "id": "eb9795fd",
   "metadata": {},
   "outputs": [],
   "source": []
  },
  {
   "cell_type": "code",
   "execution_count": null,
   "id": "1e325bb4",
   "metadata": {},
   "outputs": [],
   "source": []
  },
  {
   "cell_type": "code",
   "execution_count": null,
   "id": "7c685b6c",
   "metadata": {},
   "outputs": [],
   "source": []
  },
  {
   "cell_type": "code",
   "execution_count": null,
   "id": "8cd07f4d",
   "metadata": {},
   "outputs": [],
   "source": []
  },
  {
   "cell_type": "code",
   "execution_count": null,
   "id": "364717fc",
   "metadata": {},
   "outputs": [],
   "source": []
  },
  {
   "cell_type": "code",
   "execution_count": null,
   "id": "4c696a4d",
   "metadata": {},
   "outputs": [],
   "source": []
  },
  {
   "cell_type": "code",
   "execution_count": null,
   "id": "3712c1be",
   "metadata": {},
   "outputs": [],
   "source": []
  }
 ],
 "metadata": {
  "kernelspec": {
   "display_name": "Python 3 (ipykernel)",
   "language": "python",
   "name": "python3"
  },
  "language_info": {
   "codemirror_mode": {
    "name": "ipython",
    "version": 3
   },
   "file_extension": ".py",
   "mimetype": "text/x-python",
   "name": "python",
   "nbconvert_exporter": "python",
   "pygments_lexer": "ipython3",
   "version": "3.10.9"
  }
 },
 "nbformat": 4,
 "nbformat_minor": 5
}
